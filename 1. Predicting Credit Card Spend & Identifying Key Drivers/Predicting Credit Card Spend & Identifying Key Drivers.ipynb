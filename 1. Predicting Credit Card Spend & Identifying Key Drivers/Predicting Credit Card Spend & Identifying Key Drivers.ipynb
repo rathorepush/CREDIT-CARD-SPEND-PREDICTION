{
 "cells": [
  {
   "cell_type": "markdown",
   "metadata": {},
   "source": [
    "## Predicting Credit Card Spend & Identifying Key Drivers"
   ]
  },
  {
   "cell_type": "markdown",
   "metadata": {},
   "source": [
    "One of the global banks would like to understand what factors driving credit card spend are. The bank wants to use these insights to calculate credit limit. In order to solve the problem, the bank conducted survey of 5000 customers and collected data.\n",
    "\n",
    "**Data Availability**\n",
    "\n",
    "-Data for the case are available in xlsx format(Data Set.xlxs).\n",
    "\n",
    "-The data have been provided for 5000 customers.\n",
    "\n",
    "-Detailed data dictionary has been provided for understanding the data in the data.\n",
    "\n",
    "-Data is encoded in the numerical format to reduce the size of the data however some of the variables are categorical. You can find the details in the data dictionary\n",
    "\n",
    "**Business Problem**\t\n",
    "\n",
    "-The objective of this case study is to understand what's driving the total spend of credit card(Primary Card + Secondary card)\t\n",
    "\n",
    "-Priotize the drivers based on the importance. \t\n"
   ]
  },
  {
   "cell_type": "code",
   "execution_count": 1,
   "metadata": {},
   "outputs": [],
   "source": [
    "# Importing Packages\n",
    "import numpy as np\n",
    "import pandas as pd\n",
    "import seaborn as sns\n",
    "import matplotlib.pyplot as plt\n",
    "%matplotlib inline\n",
    "\n",
    "from patsy import dmatrices\n",
    "from statsmodels.stats.outliers_influence import variance_inflation_factor\n",
    "from sklearn.model_selection import train_test_split\n",
    "import statsmodels.formula.api as smf\n",
    "from sklearn import metrics\n",
    "from sklearn.metrics import mean_squared_error\n",
    "\n",
    "import pylab\n",
    "import scipy.stats as stats\n",
    "\n",
    "# Ignore warnings\n",
    "import warnings\n",
    "warnings.filterwarnings('ignore')"
   ]
  },
  {
   "cell_type": "markdown",
   "metadata": {},
   "source": [
    "### UDF"
   ]
  },
  {
   "cell_type": "code",
   "execution_count": 2,
   "metadata": {},
   "outputs": [],
   "source": [
    "# Use a general function that returns multiple values\n",
    "def continuous_summary(x):\n",
    "    return pd.Series([x.count(), x.isnull().sum(), x.mean(), x.median(),  x.std(), x.var(), x.min(), \n",
    "                      x.dropna().quantile(0.01), x.dropna().quantile(0.05),x.dropna().quantile(0.10),\n",
    "                      x.dropna().quantile(0.25),x.dropna().quantile(0.50),x.dropna().quantile(0.75), \n",
    "                      x.dropna().quantile(0.90),x.dropna().quantile(0.95), x.dropna().quantile(0.99),x.max()], \n",
    "                  index=['N', 'NMISS', 'MEAN','MEDIAN', 'STD', 'VAR', 'MIN', 'P1' , 'P5' ,'P10' ,'P25' ,'P50' ,\n",
    "                         'P75' ,'P90' ,'P95' ,'P99' ,'MAX'])"
   ]
  },
  {
   "cell_type": "code",
   "execution_count": 3,
   "metadata": {},
   "outputs": [],
   "source": [
    "# Create Data audit Report for categorical variables\n",
    "def categorical_summary(x):\n",
    "    Mode = x.value_counts().sort_values(ascending = False).reset_index()[0:1]\n",
    "    return pd.Series([x.count(), x.isnull().sum(), x.nunique(), Mode.iloc[0, 0], Mode.iloc[0, 1], \n",
    "                          round(Mode.iloc[0, 1] * 100/x.count(), 2)], \n",
    "                  index = ['N', 'NMISS', 'NUNIQUE', 'MODE', 'FREQ', 'PERCENT'])"
   ]
  },
  {
   "cell_type": "code",
   "execution_count": 4,
   "metadata": {},
   "outputs": [],
   "source": [
    "# Handling Outliers for numerical data\n",
    "def outlier_capping(x):\n",
    "    x = x.clip(upper= x.quantile(0.99), lower= x.quantile(0.01))\n",
    "    return x"
   ]
  },
  {
   "cell_type": "code",
   "execution_count": 5,
   "metadata": {},
   "outputs": [],
   "source": [
    "def missing_impute(x, stats = 'mean'):\n",
    "    if (x.dtypes == 'float64')|(x.dtypes=='int64'):\n",
    "        x = x.fillna(x.mean()) if stats == 'mean' else x.fillna(x.median())\n",
    "    else:\n",
    "        x = x.fillna(x.mode()[0])\n",
    "    return x"
   ]
  },
  {
   "cell_type": "code",
   "execution_count": 6,
   "metadata": {},
   "outputs": [],
   "source": [
    "def dummy(df,colname):\n",
    "    col_dummies = pd.get_dummies(df[colname], prefix=colname, drop_first=True)\n",
    "    df = pd.concat([df,col_dummies], axis = 1)\n",
    "    df.drop(colname, axis = 1, inplace = True)\n",
    "    return df"
   ]
  },
  {
   "cell_type": "markdown",
   "metadata": {},
   "source": [
    "### Importing data"
   ]
  },
  {
   "cell_type": "code",
   "execution_count": 7,
   "metadata": {},
   "outputs": [],
   "source": [
    "#data_dic = pd.read_excel(\"Data Dictionary.xlsx\")\n",
    "data = pd.read_excel(\"Data Set.xlsx\")"
   ]
  },
  {
   "cell_type": "code",
   "execution_count": 8,
   "metadata": {
    "scrolled": true
   },
   "outputs": [
    {
     "data": {
      "text/html": [
       "<div>\n",
       "<style scoped>\n",
       "    .dataframe tbody tr th:only-of-type {\n",
       "        vertical-align: middle;\n",
       "    }\n",
       "\n",
       "    .dataframe tbody tr th {\n",
       "        vertical-align: top;\n",
       "    }\n",
       "\n",
       "    .dataframe thead th {\n",
       "        text-align: right;\n",
       "    }\n",
       "</style>\n",
       "<table border=\"1\" class=\"dataframe\">\n",
       "  <thead>\n",
       "    <tr style=\"text-align: right;\">\n",
       "      <th></th>\n",
       "      <th>custid</th>\n",
       "      <th>region</th>\n",
       "      <th>townsize</th>\n",
       "      <th>gender</th>\n",
       "      <th>age</th>\n",
       "      <th>agecat</th>\n",
       "      <th>birthmonth</th>\n",
       "      <th>ed</th>\n",
       "      <th>edcat</th>\n",
       "      <th>jobcat</th>\n",
       "      <th>...</th>\n",
       "      <th>owncd</th>\n",
       "      <th>ownpda</th>\n",
       "      <th>ownpc</th>\n",
       "      <th>ownipod</th>\n",
       "      <th>owngame</th>\n",
       "      <th>ownfax</th>\n",
       "      <th>news</th>\n",
       "      <th>response_01</th>\n",
       "      <th>response_02</th>\n",
       "      <th>response_03</th>\n",
       "    </tr>\n",
       "  </thead>\n",
       "  <tbody>\n",
       "    <tr>\n",
       "      <th>0</th>\n",
       "      <td>3964-QJWTRG-NPN</td>\n",
       "      <td>1</td>\n",
       "      <td>2.0</td>\n",
       "      <td>1</td>\n",
       "      <td>20</td>\n",
       "      <td>2</td>\n",
       "      <td>September</td>\n",
       "      <td>15</td>\n",
       "      <td>3</td>\n",
       "      <td>1</td>\n",
       "      <td>...</td>\n",
       "      <td>0</td>\n",
       "      <td>0</td>\n",
       "      <td>0</td>\n",
       "      <td>1</td>\n",
       "      <td>1</td>\n",
       "      <td>0</td>\n",
       "      <td>0</td>\n",
       "      <td>0</td>\n",
       "      <td>1</td>\n",
       "      <td>0</td>\n",
       "    </tr>\n",
       "    <tr>\n",
       "      <th>1</th>\n",
       "      <td>0648-AIPJSP-UVM</td>\n",
       "      <td>5</td>\n",
       "      <td>5.0</td>\n",
       "      <td>0</td>\n",
       "      <td>22</td>\n",
       "      <td>2</td>\n",
       "      <td>May</td>\n",
       "      <td>17</td>\n",
       "      <td>4</td>\n",
       "      <td>2</td>\n",
       "      <td>...</td>\n",
       "      <td>1</td>\n",
       "      <td>1</td>\n",
       "      <td>1</td>\n",
       "      <td>1</td>\n",
       "      <td>1</td>\n",
       "      <td>1</td>\n",
       "      <td>1</td>\n",
       "      <td>0</td>\n",
       "      <td>0</td>\n",
       "      <td>0</td>\n",
       "    </tr>\n",
       "  </tbody>\n",
       "</table>\n",
       "<p>2 rows × 130 columns</p>\n",
       "</div>"
      ],
      "text/plain": [
       "            custid  region  townsize  gender  age  agecat birthmonth  ed  \\\n",
       "0  3964-QJWTRG-NPN       1       2.0       1   20       2  September  15   \n",
       "1  0648-AIPJSP-UVM       5       5.0       0   22       2        May  17   \n",
       "\n",
       "   edcat  jobcat  ...  owncd  ownpda  ownpc  ownipod  owngame  ownfax  news  \\\n",
       "0      3       1  ...      0       0      0        1        1       0     0   \n",
       "1      4       2  ...      1       1      1        1        1       1     1   \n",
       "\n",
       "   response_01  response_02  response_03  \n",
       "0            0            1            0  \n",
       "1            0            0            0  \n",
       "\n",
       "[2 rows x 130 columns]"
      ]
     },
     "execution_count": 8,
     "metadata": {},
     "output_type": "execute_result"
    }
   ],
   "source": [
    "data.head(2)"
   ]
  },
  {
   "cell_type": "markdown",
   "metadata": {},
   "source": [
    "### Data Analysis"
   ]
  },
  {
   "cell_type": "code",
   "execution_count": 9,
   "metadata": {
    "scrolled": false
   },
   "outputs": [
    {
     "name": "stdout",
     "output_type": "stream",
     "text": [
      "<class 'pandas.core.frame.DataFrame'>\n",
      "RangeIndex: 5000 entries, 0 to 4999\n",
      "Columns: 130 entries, custid to response_03\n",
      "dtypes: float64(31), int64(97), object(2)\n",
      "memory usage: 5.0+ MB\n"
     ]
    }
   ],
   "source": [
    "# Checking column and their data types\n",
    "data.info()"
   ]
  },
  {
   "cell_type": "code",
   "execution_count": 10,
   "metadata": {
    "scrolled": false
   },
   "outputs": [
    {
     "data": {
      "text/plain": [
       "False    5000\n",
       "dtype: int64"
      ]
     },
     "execution_count": 10,
     "metadata": {},
     "output_type": "execute_result"
    }
   ],
   "source": [
    "data.duplicated().value_counts()"
   ]
  },
  {
   "cell_type": "markdown",
   "metadata": {},
   "source": [
    "## Data Preparation (Determining Assumptions)"
   ]
  },
  {
   "cell_type": "markdown",
   "metadata": {},
   "source": [
    "### Creating Dependent Y column"
   ]
  },
  {
   "cell_type": "code",
   "execution_count": 11,
   "metadata": {},
   "outputs": [],
   "source": [
    "# According to our given problem we have to add cardspent and card2spent\n",
    "data['total_spent'] = data['cardspent'] + data['card2spent']"
   ]
  },
  {
   "cell_type": "code",
   "execution_count": 12,
   "metadata": {},
   "outputs": [],
   "source": [
    "# Dropping cardspent and card2spent\n",
    "data.drop(['cardspent','card2spent'], axis=1, inplace=True)"
   ]
  },
  {
   "cell_type": "code",
   "execution_count": 13,
   "metadata": {},
   "outputs": [
    {
     "data": {
      "image/png": "[encoded data removed]",
      "text/plain": [
       "<Figure size 432x288 with 1 Axes>"
      ]
     },
     "metadata": {
      "needs_background": "light"
     },
     "output_type": "display_data"
    },
    {
     "name": "stdout",
     "output_type": "stream",
     "text": [
      "Skewness: 2.707546987697521\n"
     ]
    }
   ],
   "source": [
    "sns.distplot(data.total_spent)\n",
    "plt.show()\n",
    "print(\"Skewness:\", data.total_spent.skew())"
   ]
  },
  {
   "cell_type": "markdown",
   "metadata": {},
   "source": [
    "#### Y-variable is right skewed, performming log transformation to make it normally skewed (first assumption for Linear Regression) "
   ]
  },
  {
   "cell_type": "code",
   "execution_count": 14,
   "metadata": {},
   "outputs": [],
   "source": [
    "data['total_spent'] = data['total_spent'].clip(upper= data['total_spent'].quantile(0.99), \n",
    "                                               lower= data['total_spent'].quantile(0.01))"
   ]
  },
  {
   "cell_type": "code",
   "execution_count": 15,
   "metadata": {},
   "outputs": [],
   "source": [
    "data['ln_total_spent'] = np.log(data['total_spent'])"
   ]
  },
  {
   "cell_type": "code",
   "execution_count": 16,
   "metadata": {},
   "outputs": [
    {
     "data": {
      "image/png": "[encoded data removed]",
      "text/plain": [
       "<Figure size 432x288 with 1 Axes>"
      ]
     },
     "metadata": {
      "needs_background": "light"
     },
     "output_type": "display_data"
    },
    {
     "name": "stdout",
     "output_type": "stream",
     "text": [
      "Skewness: -0.30005358806310334\n"
     ]
    }
   ],
   "source": [
    "sns.distplot(data.ln_total_spent)\n",
    "plt.show()\n",
    "print(\"Skewness:\", data.ln_total_spent.skew())"
   ]
  },
  {
   "cell_type": "code",
   "execution_count": 17,
   "metadata": {
    "scrolled": false
   },
   "outputs": [
    {
     "data": {
      "text/html": [
       "<div>\n",
       "<style scoped>\n",
       "    .dataframe tbody tr th:only-of-type {\n",
       "        vertical-align: middle;\n",
       "    }\n",
       "\n",
       "    .dataframe tbody tr th {\n",
       "        vertical-align: top;\n",
       "    }\n",
       "\n",
       "    .dataframe thead th {\n",
       "        text-align: right;\n",
       "    }\n",
       "</style>\n",
       "<table border=\"1\" class=\"dataframe\">\n",
       "  <thead>\n",
       "    <tr style=\"text-align: right;\">\n",
       "      <th></th>\n",
       "      <th>region</th>\n",
       "      <th>townsize</th>\n",
       "      <th>gender</th>\n",
       "      <th>age</th>\n",
       "      <th>agecat</th>\n",
       "      <th>ed</th>\n",
       "      <th>edcat</th>\n",
       "      <th>jobcat</th>\n",
       "      <th>union</th>\n",
       "      <th>employ</th>\n",
       "      <th>...</th>\n",
       "      <th>ownpc</th>\n",
       "      <th>ownipod</th>\n",
       "      <th>owngame</th>\n",
       "      <th>ownfax</th>\n",
       "      <th>news</th>\n",
       "      <th>response_01</th>\n",
       "      <th>response_02</th>\n",
       "      <th>response_03</th>\n",
       "      <th>total_spent</th>\n",
       "      <th>ln_total_spent</th>\n",
       "    </tr>\n",
       "  </thead>\n",
       "  <tbody>\n",
       "    <tr>\n",
       "      <th>N</th>\n",
       "      <td>5000.0</td>\n",
       "      <td>4998.0</td>\n",
       "      <td>5000.0</td>\n",
       "      <td>5000.0</td>\n",
       "      <td>5000.0</td>\n",
       "      <td>5000.0</td>\n",
       "      <td>5000.0</td>\n",
       "      <td>5000.0</td>\n",
       "      <td>5000.0</td>\n",
       "      <td>5000.0</td>\n",
       "      <td>...</td>\n",
       "      <td>5000.0</td>\n",
       "      <td>5000.0</td>\n",
       "      <td>5000.0</td>\n",
       "      <td>5000.0</td>\n",
       "      <td>5000.0</td>\n",
       "      <td>5000.0</td>\n",
       "      <td>5000.0</td>\n",
       "      <td>5000.0</td>\n",
       "      <td>5000.0</td>\n",
       "      <td>5000.0</td>\n",
       "    </tr>\n",
       "    <tr>\n",
       "      <th>NMISS</th>\n",
       "      <td>0.0</td>\n",
       "      <td>2.0</td>\n",
       "      <td>0.0</td>\n",
       "      <td>0.0</td>\n",
       "      <td>0.0</td>\n",
       "      <td>0.0</td>\n",
       "      <td>0.0</td>\n",
       "      <td>0.0</td>\n",
       "      <td>0.0</td>\n",
       "      <td>0.0</td>\n",
       "      <td>...</td>\n",
       "      <td>0.0</td>\n",
       "      <td>0.0</td>\n",
       "      <td>0.0</td>\n",
       "      <td>0.0</td>\n",
       "      <td>0.0</td>\n",
       "      <td>0.0</td>\n",
       "      <td>0.0</td>\n",
       "      <td>0.0</td>\n",
       "      <td>0.0</td>\n",
       "      <td>0.0</td>\n",
       "    </tr>\n",
       "    <tr>\n",
       "      <th>MEAN</th>\n",
       "      <td>3.0</td>\n",
       "      <td>2.7</td>\n",
       "      <td>0.5</td>\n",
       "      <td>47.0</td>\n",
       "      <td>4.2</td>\n",
       "      <td>14.5</td>\n",
       "      <td>2.7</td>\n",
       "      <td>2.8</td>\n",
       "      <td>0.2</td>\n",
       "      <td>9.7</td>\n",
       "      <td>...</td>\n",
       "      <td>0.6</td>\n",
       "      <td>0.5</td>\n",
       "      <td>0.5</td>\n",
       "      <td>0.2</td>\n",
       "      <td>0.5</td>\n",
       "      <td>0.1</td>\n",
       "      <td>0.1</td>\n",
       "      <td>0.1</td>\n",
       "      <td>493.4</td>\n",
       "      <td>6.0</td>\n",
       "    </tr>\n",
       "    <tr>\n",
       "      <th>MEDIAN</th>\n",
       "      <td>3.0</td>\n",
       "      <td>3.0</td>\n",
       "      <td>1.0</td>\n",
       "      <td>47.0</td>\n",
       "      <td>4.0</td>\n",
       "      <td>14.0</td>\n",
       "      <td>2.0</td>\n",
       "      <td>2.0</td>\n",
       "      <td>0.0</td>\n",
       "      <td>7.0</td>\n",
       "      <td>...</td>\n",
       "      <td>1.0</td>\n",
       "      <td>0.0</td>\n",
       "      <td>0.0</td>\n",
       "      <td>0.0</td>\n",
       "      <td>0.0</td>\n",
       "      <td>0.0</td>\n",
       "      <td>0.0</td>\n",
       "      <td>0.0</td>\n",
       "      <td>414.2</td>\n",
       "      <td>6.0</td>\n",
       "    </tr>\n",
       "    <tr>\n",
       "      <th>STD</th>\n",
       "      <td>1.4</td>\n",
       "      <td>1.4</td>\n",
       "      <td>0.5</td>\n",
       "      <td>17.8</td>\n",
       "      <td>1.3</td>\n",
       "      <td>3.3</td>\n",
       "      <td>1.2</td>\n",
       "      <td>1.7</td>\n",
       "      <td>0.4</td>\n",
       "      <td>9.7</td>\n",
       "      <td>...</td>\n",
       "      <td>0.5</td>\n",
       "      <td>0.5</td>\n",
       "      <td>0.5</td>\n",
       "      <td>0.4</td>\n",
       "      <td>0.5</td>\n",
       "      <td>0.3</td>\n",
       "      <td>0.3</td>\n",
       "      <td>0.3</td>\n",
       "      <td>322.8</td>\n",
       "      <td>0.6</td>\n",
       "    </tr>\n",
       "    <tr>\n",
       "      <th>VAR</th>\n",
       "      <td>2.0</td>\n",
       "      <td>2.0</td>\n",
       "      <td>0.3</td>\n",
       "      <td>315.8</td>\n",
       "      <td>1.7</td>\n",
       "      <td>10.8</td>\n",
       "      <td>1.5</td>\n",
       "      <td>3.0</td>\n",
       "      <td>0.1</td>\n",
       "      <td>93.9</td>\n",
       "      <td>...</td>\n",
       "      <td>0.2</td>\n",
       "      <td>0.2</td>\n",
       "      <td>0.2</td>\n",
       "      <td>0.1</td>\n",
       "      <td>0.2</td>\n",
       "      <td>0.1</td>\n",
       "      <td>0.1</td>\n",
       "      <td>0.1</td>\n",
       "      <td>104196.8</td>\n",
       "      <td>0.4</td>\n",
       "    </tr>\n",
       "    <tr>\n",
       "      <th>MIN</th>\n",
       "      <td>1.0</td>\n",
       "      <td>1.0</td>\n",
       "      <td>0.0</td>\n",
       "      <td>18.0</td>\n",
       "      <td>2.0</td>\n",
       "      <td>6.0</td>\n",
       "      <td>1.0</td>\n",
       "      <td>1.0</td>\n",
       "      <td>0.0</td>\n",
       "      <td>0.0</td>\n",
       "      <td>...</td>\n",
       "      <td>0.0</td>\n",
       "      <td>0.0</td>\n",
       "      <td>0.0</td>\n",
       "      <td>0.0</td>\n",
       "      <td>0.0</td>\n",
       "      <td>0.0</td>\n",
       "      <td>0.0</td>\n",
       "      <td>0.0</td>\n",
       "      <td>58.2</td>\n",
       "      <td>4.1</td>\n",
       "    </tr>\n",
       "    <tr>\n",
       "      <th>P1</th>\n",
       "      <td>1.0</td>\n",
       "      <td>1.0</td>\n",
       "      <td>0.0</td>\n",
       "      <td>18.0</td>\n",
       "      <td>2.0</td>\n",
       "      <td>8.0</td>\n",
       "      <td>1.0</td>\n",
       "      <td>1.0</td>\n",
       "      <td>0.0</td>\n",
       "      <td>0.0</td>\n",
       "      <td>...</td>\n",
       "      <td>0.0</td>\n",
       "      <td>0.0</td>\n",
       "      <td>0.0</td>\n",
       "      <td>0.0</td>\n",
       "      <td>0.0</td>\n",
       "      <td>0.0</td>\n",
       "      <td>0.0</td>\n",
       "      <td>0.0</td>\n",
       "      <td>58.2</td>\n",
       "      <td>4.1</td>\n",
       "    </tr>\n",
       "    <tr>\n",
       "      <th>P5</th>\n",
       "      <td>1.0</td>\n",
       "      <td>1.0</td>\n",
       "      <td>0.0</td>\n",
       "      <td>20.0</td>\n",
       "      <td>2.0</td>\n",
       "      <td>9.0</td>\n",
       "      <td>1.0</td>\n",
       "      <td>1.0</td>\n",
       "      <td>0.0</td>\n",
       "      <td>0.0</td>\n",
       "      <td>...</td>\n",
       "      <td>0.0</td>\n",
       "      <td>0.0</td>\n",
       "      <td>0.0</td>\n",
       "      <td>0.0</td>\n",
       "      <td>0.0</td>\n",
       "      <td>0.0</td>\n",
       "      <td>0.0</td>\n",
       "      <td>0.0</td>\n",
       "      <td>133.1</td>\n",
       "      <td>4.9</td>\n",
       "    </tr>\n",
       "    <tr>\n",
       "      <th>P10</th>\n",
       "      <td>1.0</td>\n",
       "      <td>1.0</td>\n",
       "      <td>0.0</td>\n",
       "      <td>23.0</td>\n",
       "      <td>2.0</td>\n",
       "      <td>10.0</td>\n",
       "      <td>1.0</td>\n",
       "      <td>1.0</td>\n",
       "      <td>0.0</td>\n",
       "      <td>0.0</td>\n",
       "      <td>...</td>\n",
       "      <td>0.0</td>\n",
       "      <td>0.0</td>\n",
       "      <td>0.0</td>\n",
       "      <td>0.0</td>\n",
       "      <td>0.0</td>\n",
       "      <td>0.0</td>\n",
       "      <td>0.0</td>\n",
       "      <td>0.0</td>\n",
       "      <td>184.0</td>\n",
       "      <td>5.2</td>\n",
       "    </tr>\n",
       "    <tr>\n",
       "      <th>P25</th>\n",
       "      <td>2.0</td>\n",
       "      <td>1.0</td>\n",
       "      <td>0.0</td>\n",
       "      <td>31.0</td>\n",
       "      <td>3.0</td>\n",
       "      <td>12.0</td>\n",
       "      <td>2.0</td>\n",
       "      <td>1.0</td>\n",
       "      <td>0.0</td>\n",
       "      <td>2.0</td>\n",
       "      <td>...</td>\n",
       "      <td>0.0</td>\n",
       "      <td>0.0</td>\n",
       "      <td>0.0</td>\n",
       "      <td>0.0</td>\n",
       "      <td>0.0</td>\n",
       "      <td>0.0</td>\n",
       "      <td>0.0</td>\n",
       "      <td>0.0</td>\n",
       "      <td>276.3</td>\n",
       "      <td>5.6</td>\n",
       "    </tr>\n",
       "    <tr>\n",
       "      <th>P50</th>\n",
       "      <td>3.0</td>\n",
       "      <td>3.0</td>\n",
       "      <td>1.0</td>\n",
       "      <td>47.0</td>\n",
       "      <td>4.0</td>\n",
       "      <td>14.0</td>\n",
       "      <td>2.0</td>\n",
       "      <td>2.0</td>\n",
       "      <td>0.0</td>\n",
       "      <td>7.0</td>\n",
       "      <td>...</td>\n",
       "      <td>1.0</td>\n",
       "      <td>0.0</td>\n",
       "      <td>0.0</td>\n",
       "      <td>0.0</td>\n",
       "      <td>0.0</td>\n",
       "      <td>0.0</td>\n",
       "      <td>0.0</td>\n",
       "      <td>0.0</td>\n",
       "      <td>414.2</td>\n",
       "      <td>6.0</td>\n",
       "    </tr>\n",
       "    <tr>\n",
       "      <th>P75</th>\n",
       "      <td>4.0</td>\n",
       "      <td>4.0</td>\n",
       "      <td>1.0</td>\n",
       "      <td>62.0</td>\n",
       "      <td>5.0</td>\n",
       "      <td>17.0</td>\n",
       "      <td>4.0</td>\n",
       "      <td>4.0</td>\n",
       "      <td>0.0</td>\n",
       "      <td>15.0</td>\n",
       "      <td>...</td>\n",
       "      <td>1.0</td>\n",
       "      <td>1.0</td>\n",
       "      <td>1.0</td>\n",
       "      <td>0.0</td>\n",
       "      <td>1.0</td>\n",
       "      <td>0.0</td>\n",
       "      <td>0.0</td>\n",
       "      <td>0.0</td>\n",
       "      <td>615.6</td>\n",
       "      <td>6.4</td>\n",
       "    </tr>\n",
       "    <tr>\n",
       "      <th>P90</th>\n",
       "      <td>5.0</td>\n",
       "      <td>5.0</td>\n",
       "      <td>1.0</td>\n",
       "      <td>72.0</td>\n",
       "      <td>6.0</td>\n",
       "      <td>19.0</td>\n",
       "      <td>4.0</td>\n",
       "      <td>6.0</td>\n",
       "      <td>1.0</td>\n",
       "      <td>25.0</td>\n",
       "      <td>...</td>\n",
       "      <td>1.0</td>\n",
       "      <td>1.0</td>\n",
       "      <td>1.0</td>\n",
       "      <td>1.0</td>\n",
       "      <td>1.0</td>\n",
       "      <td>0.0</td>\n",
       "      <td>1.0</td>\n",
       "      <td>1.0</td>\n",
       "      <td>908.1</td>\n",
       "      <td>6.8</td>\n",
       "    </tr>\n",
       "    <tr>\n",
       "      <th>P95</th>\n",
       "      <td>5.0</td>\n",
       "      <td>5.0</td>\n",
       "      <td>1.0</td>\n",
       "      <td>76.0</td>\n",
       "      <td>6.0</td>\n",
       "      <td>20.0</td>\n",
       "      <td>5.0</td>\n",
       "      <td>6.0</td>\n",
       "      <td>1.0</td>\n",
       "      <td>31.0</td>\n",
       "      <td>...</td>\n",
       "      <td>1.0</td>\n",
       "      <td>1.0</td>\n",
       "      <td>1.0</td>\n",
       "      <td>1.0</td>\n",
       "      <td>1.0</td>\n",
       "      <td>1.0</td>\n",
       "      <td>1.0</td>\n",
       "      <td>1.0</td>\n",
       "      <td>1145.1</td>\n",
       "      <td>7.0</td>\n",
       "    </tr>\n",
       "    <tr>\n",
       "      <th>P99</th>\n",
       "      <td>5.0</td>\n",
       "      <td>5.0</td>\n",
       "      <td>1.0</td>\n",
       "      <td>79.0</td>\n",
       "      <td>6.0</td>\n",
       "      <td>21.0</td>\n",
       "      <td>5.0</td>\n",
       "      <td>6.0</td>\n",
       "      <td>1.0</td>\n",
       "      <td>39.0</td>\n",
       "      <td>...</td>\n",
       "      <td>1.0</td>\n",
       "      <td>1.0</td>\n",
       "      <td>1.0</td>\n",
       "      <td>1.0</td>\n",
       "      <td>1.0</td>\n",
       "      <td>1.0</td>\n",
       "      <td>1.0</td>\n",
       "      <td>1.0</td>\n",
       "      <td>1760.0</td>\n",
       "      <td>7.5</td>\n",
       "    </tr>\n",
       "    <tr>\n",
       "      <th>MAX</th>\n",
       "      <td>5.0</td>\n",
       "      <td>5.0</td>\n",
       "      <td>1.0</td>\n",
       "      <td>79.0</td>\n",
       "      <td>6.0</td>\n",
       "      <td>23.0</td>\n",
       "      <td>5.0</td>\n",
       "      <td>6.0</td>\n",
       "      <td>1.0</td>\n",
       "      <td>52.0</td>\n",
       "      <td>...</td>\n",
       "      <td>1.0</td>\n",
       "      <td>1.0</td>\n",
       "      <td>1.0</td>\n",
       "      <td>1.0</td>\n",
       "      <td>1.0</td>\n",
       "      <td>1.0</td>\n",
       "      <td>1.0</td>\n",
       "      <td>1.0</td>\n",
       "      <td>1760.1</td>\n",
       "      <td>7.5</td>\n",
       "    </tr>\n",
       "  </tbody>\n",
       "</table>\n",
       "<p>17 rows × 128 columns</p>\n",
       "</div>"
      ],
      "text/plain": [
       "        region  townsize  gender     age  agecat      ed   edcat  jobcat  \\\n",
       "N       5000.0    4998.0  5000.0  5000.0  5000.0  5000.0  5000.0  5000.0   \n",
       "NMISS      0.0       2.0     0.0     0.0     0.0     0.0     0.0     0.0   \n",
       "MEAN       3.0       2.7     0.5    47.0     4.2    14.5     2.7     2.8   \n",
       "MEDIAN     3.0       3.0     1.0    47.0     4.0    14.0     2.0     2.0   \n",
       "STD        1.4       1.4     0.5    17.8     1.3     3.3     1.2     1.7   \n",
       "VAR        2.0       2.0     0.3   315.8     1.7    10.8     1.5     3.0   \n",
       "MIN        1.0       1.0     0.0    18.0     2.0     6.0     1.0     1.0   \n",
       "P1         1.0       1.0     0.0    18.0     2.0     8.0     1.0     1.0   \n",
       "P5         1.0       1.0     0.0    20.0     2.0     9.0     1.0     1.0   \n",
       "P10        1.0       1.0     0.0    23.0     2.0    10.0     1.0     1.0   \n",
       "P25        2.0       1.0     0.0    31.0     3.0    12.0     2.0     1.0   \n",
       "P50        3.0       3.0     1.0    47.0     4.0    14.0     2.0     2.0   \n",
       "P75        4.0       4.0     1.0    62.0     5.0    17.0     4.0     4.0   \n",
       "P90        5.0       5.0     1.0    72.0     6.0    19.0     4.0     6.0   \n",
       "P95        5.0       5.0     1.0    76.0     6.0    20.0     5.0     6.0   \n",
       "P99        5.0       5.0     1.0    79.0     6.0    21.0     5.0     6.0   \n",
       "MAX        5.0       5.0     1.0    79.0     6.0    23.0     5.0     6.0   \n",
       "\n",
       "         union  employ  ...   ownpc  ownipod  owngame  ownfax    news  \\\n",
       "N       5000.0  5000.0  ...  5000.0   5000.0   5000.0  5000.0  5000.0   \n",
       "NMISS      0.0     0.0  ...     0.0      0.0      0.0     0.0     0.0   \n",
       "MEAN       0.2     9.7  ...     0.6      0.5      0.5     0.2     0.5   \n",
       "MEDIAN     0.0     7.0  ...     1.0      0.0      0.0     0.0     0.0   \n",
       "STD        0.4     9.7  ...     0.5      0.5      0.5     0.4     0.5   \n",
       "VAR        0.1    93.9  ...     0.2      0.2      0.2     0.1     0.2   \n",
       "MIN        0.0     0.0  ...     0.0      0.0      0.0     0.0     0.0   \n",
       "P1         0.0     0.0  ...     0.0      0.0      0.0     0.0     0.0   \n",
       "P5         0.0     0.0  ...     0.0      0.0      0.0     0.0     0.0   \n",
       "P10        0.0     0.0  ...     0.0      0.0      0.0     0.0     0.0   \n",
       "P25        0.0     2.0  ...     0.0      0.0      0.0     0.0     0.0   \n",
       "P50        0.0     7.0  ...     1.0      0.0      0.0     0.0     0.0   \n",
       "P75        0.0    15.0  ...     1.0      1.0      1.0     0.0     1.0   \n",
       "P90        1.0    25.0  ...     1.0      1.0      1.0     1.0     1.0   \n",
       "P95        1.0    31.0  ...     1.0      1.0      1.0     1.0     1.0   \n",
       "P99        1.0    39.0  ...     1.0      1.0      1.0     1.0     1.0   \n",
       "MAX        1.0    52.0  ...     1.0      1.0      1.0     1.0     1.0   \n",
       "\n",
       "        response_01  response_02  response_03  total_spent  ln_total_spent  \n",
       "N            5000.0       5000.0       5000.0       5000.0          5000.0  \n",
       "NMISS           0.0          0.0          0.0          0.0             0.0  \n",
       "MEAN            0.1          0.1          0.1        493.4             6.0  \n",
       "MEDIAN          0.0          0.0          0.0        414.2             6.0  \n",
       "STD             0.3          0.3          0.3        322.8             0.6  \n",
       "VAR             0.1          0.1          0.1     104196.8             0.4  \n",
       "MIN             0.0          0.0          0.0         58.2             4.1  \n",
       "P1              0.0          0.0          0.0         58.2             4.1  \n",
       "P5              0.0          0.0          0.0        133.1             4.9  \n",
       "P10             0.0          0.0          0.0        184.0             5.2  \n",
       "P25             0.0          0.0          0.0        276.3             5.6  \n",
       "P50             0.0          0.0          0.0        414.2             6.0  \n",
       "P75             0.0          0.0          0.0        615.6             6.4  \n",
       "P90             0.0          1.0          1.0        908.1             6.8  \n",
       "P95             1.0          1.0          1.0       1145.1             7.0  \n",
       "P99             1.0          1.0          1.0       1760.0             7.5  \n",
       "MAX             1.0          1.0          1.0       1760.1             7.5  \n",
       "\n",
       "[17 rows x 128 columns]"
      ]
     },
     "execution_count": 17,
     "metadata": {},
     "output_type": "execute_result"
    }
   ],
   "source": [
    "data.select_dtypes(include='number').apply(continuous_summary).round(1)    "
   ]
  },
  {
   "cell_type": "code",
   "execution_count": 18,
   "metadata": {},
   "outputs": [
    {
     "data": {
      "text/html": [
       "<div>\n",
       "<style scoped>\n",
       "    .dataframe tbody tr th:only-of-type {\n",
       "        vertical-align: middle;\n",
       "    }\n",
       "\n",
       "    .dataframe tbody tr th {\n",
       "        vertical-align: top;\n",
       "    }\n",
       "\n",
       "    .dataframe thead th {\n",
       "        text-align: right;\n",
       "    }\n",
       "</style>\n",
       "<table border=\"1\" class=\"dataframe\">\n",
       "  <thead>\n",
       "    <tr style=\"text-align: right;\">\n",
       "      <th></th>\n",
       "      <th>N</th>\n",
       "      <th>NMISS</th>\n",
       "      <th>NUNIQUE</th>\n",
       "      <th>MODE</th>\n",
       "      <th>FREQ</th>\n",
       "      <th>PERCENT</th>\n",
       "    </tr>\n",
       "  </thead>\n",
       "  <tbody>\n",
       "    <tr>\n",
       "      <th>custid</th>\n",
       "      <td>5000</td>\n",
       "      <td>0</td>\n",
       "      <td>5000</td>\n",
       "      <td>9081-UBQDSR-6IK</td>\n",
       "      <td>1</td>\n",
       "      <td>0.02</td>\n",
       "    </tr>\n",
       "    <tr>\n",
       "      <th>birthmonth</th>\n",
       "      <td>5000</td>\n",
       "      <td>0</td>\n",
       "      <td>12</td>\n",
       "      <td>September</td>\n",
       "      <td>458</td>\n",
       "      <td>9.16</td>\n",
       "    </tr>\n",
       "  </tbody>\n",
       "</table>\n",
       "</div>"
      ],
      "text/plain": [
       "               N NMISS NUNIQUE             MODE FREQ PERCENT\n",
       "custid      5000     0    5000  9081-UBQDSR-6IK    1    0.02\n",
       "birthmonth  5000     0      12        September  458    9.16"
      ]
     },
     "execution_count": 18,
     "metadata": {},
     "output_type": "execute_result"
    }
   ],
   "source": [
    "data.loc[:,data.dtypes == 'object'].apply(categorical_summary).T"
   ]
  },
  {
   "cell_type": "markdown",
   "metadata": {},
   "source": [
    "### Data Related Assumption"
   ]
  },
  {
   "cell_type": "code",
   "execution_count": 19,
   "metadata": {},
   "outputs": [],
   "source": [
    "# Droping column 'custid' - Showing high cardinality\n",
    "data.drop(['custid'], axis=1, inplace=True)\n",
    "\n",
    "# Droping column 'birthmonth' - Not adding any value addition to the dependent variable.\n",
    "data.drop(['birthmonth'], axis=1, inplace=True) "
   ]
  },
  {
   "cell_type": "code",
   "execution_count": 20,
   "metadata": {},
   "outputs": [],
   "source": [
    "# townsize is ordinal type therefore changing it in ascending order\n",
    "data.townsize.replace([5,4,3,2,1], [1,2,3,4,5], inplace=True)"
   ]
  },
  {
   "cell_type": "markdown",
   "metadata": {},
   "source": [
    "#### Treating negative values as missing and impute them. "
   ]
  },
  {
   "cell_type": "code",
   "execution_count": 21,
   "metadata": {},
   "outputs": [
    {
     "data": {
      "text/plain": [
       "carown        -1.0\n",
       "cartype       -1.0\n",
       "carcatvalue   -1.0\n",
       "carbought     -1.0\n",
       "carvalue      -1.0\n",
       "spoused       -1.0\n",
       "spousedcat    -1.0\n",
       "dtype: float64"
      ]
     },
     "execution_count": 21,
     "metadata": {},
     "output_type": "execute_result"
    }
   ],
   "source": [
    "data[['carown','cartype','carcatvalue','carbought','carvalue','spoused','spousedcat']].min()"
   ]
  },
  {
   "cell_type": "markdown",
   "metadata": {
    "scrolled": false
   },
   "source": [
    "* 'carown', 'cartype', 'carbought', 'carcatvalue', 'carvalue' : -1(no response) \n",
    "* 'spoused','spousedcat' : -1(Not married) "
   ]
  },
  {
   "cell_type": "code",
   "execution_count": 22,
   "metadata": {},
   "outputs": [],
   "source": [
    "# imputting -1 (no response) with 0\n",
    "data[['carown','cartype','carbought','carcatvalue','carvalue']] = data[['carown','cartype','carbought','carcatvalue',\n",
    "        'carvalue']].where(data[['carown','cartype','carbought','carcatvalue','carvalue']] >= 0, 0)"
   ]
  },
  {
   "cell_type": "code",
   "execution_count": 23,
   "metadata": {},
   "outputs": [],
   "source": [
    "# imputting -1 (Not married) with 0\n",
    "data[['spoused','spousedcat']] = data[['spoused','spousedcat']].where(data > 0, 0)"
   ]
  },
  {
   "cell_type": "code",
   "execution_count": 24,
   "metadata": {
    "scrolled": true
   },
   "outputs": [],
   "source": [
    "# imputting no response in other features with 0\n",
    "data['reason'] = data['reason'].apply(lambda x:x if x<=4 else 0)\n",
    "data['agecat'] = data['agecat'].apply(lambda x:x if x<=6 else 0)"
   ]
  },
  {
   "cell_type": "markdown",
   "metadata": {},
   "source": [
    "### Dividing the dataset into continuous and categorical"
   ]
  },
  {
   "cell_type": "code",
   "execution_count": 25,
   "metadata": {},
   "outputs": [],
   "source": [
    "# All catagorical variables from Data Dictionary\n",
    "\n",
    "all_cat_var = ['active', 'address', 'addresscat', 'agecat', 'bfast', 'birthmonth', 'callcard', 'callid', 'callwait', \n",
    "               'carbought', 'carbuy', 'carcatvalue', 'card', 'card2', 'card2benefit', 'card2fee', 'card2tenure', \n",
    "               'card2tenurecat', 'card2type', 'cardbenefit', 'cardfee', 'cardtenure', 'cardtenurecat', 'cardtype', 'carown', \n",
    "               'cars', 'cartype', 'churn', 'commute', 'commutebike', 'commutebus', 'commutecar', 'commutecarpool', \n",
    "               'commutecat', 'commutemotorcycle', 'commutenonmotor', 'commutepublic', 'commuterail', 'commutewalk', 'confer', \n",
    "               'default', 'ebill', 'edcat', 'empcat', 'employ', 'equip', 'forward', 'gender', 'homeown', 'hometype', 'inccat', \n",
    "               'internet', 'jobcat', 'jobsat', 'marital', 'multline', 'news', 'owncd', 'owndvd', 'ownfax', 'owngame', 'ownipod',\n",
    "               'ownpc', 'ownpda', 'owntv', 'ownvcr', 'pager', 'polcontrib', 'polparty', 'polview', 'reason', 'region', \n",
    "               'response_01', 'response_02', 'response_03', 'retire', 'spousedcat', 'telecommute', 'tollfree', 'townsize', \n",
    "               'union', 'voice', 'vote', 'wireless']\n",
    "\n",
    "all_cat_ordinal = ['addresscat', 'agecat', 'carcatvalue', 'card2tenure', 'card2tenurecat', 'cardtenure', 'cardtenurecat', \n",
    "                   'cars', 'edcat', 'empcat', 'employ', 'inccat', 'jobsat', 'spousedcat', 'townsize']\n",
    "\n",
    "all_cat_nominal = ['active', 'address', 'bfast', 'birthmonth', 'callcard', 'callid', 'callwait', 'carbought', 'carbuy', 'card', \n",
    "                   'card2', 'card2benefit', 'card2fee', 'card2type', 'cardbenefit', 'cardfee', 'cardtype', 'carown', 'cartype', \n",
    "                   'churn', 'commute', 'commutebike', 'commutebus', 'commutecar', 'commutecarpool', 'commutecat', \n",
    "                   'commutemotorcycle', 'commutenonmotor', 'commutepublic', 'commuterail', 'commutewalk', 'confer', 'default', \n",
    "                   'ebill', 'equip', 'forward', 'gender', 'homeown', 'hometype', 'internet', 'jobcat', 'marital', 'multline', \n",
    "                   'news', 'owncd', 'owndvd', 'ownfax', 'owngame', 'ownipod', 'ownpc', 'ownpda', 'owntv', 'ownvcr', 'pager', \n",
    "                   'polcontrib', 'polparty', 'polview', 'reason', 'region', 'response_01', 'response_02', 'response_03', \n",
    "                   'retire', 'telecommute', 'tollfree', 'union', 'voice', 'vote', 'wireless']"
   ]
  },
  {
   "cell_type": "code",
   "execution_count": 26,
   "metadata": {},
   "outputs": [],
   "source": [
    "# Converting catagorical variables into a list.\n",
    "cat_var = list(set(data.columns).intersection(all_cat_var))"
   ]
  },
  {
   "cell_type": "code",
   "execution_count": 27,
   "metadata": {},
   "outputs": [],
   "source": [
    "# Converting catagorical variables from numeric to object datatype\n",
    "data[cat_var] = data[cat_var].astype('object')"
   ]
  },
  {
   "cell_type": "code",
   "execution_count": 28,
   "metadata": {},
   "outputs": [],
   "source": [
    "# Converting continuous variables into a list.\n",
    "conti_var = data.select_dtypes(include='number').columns"
   ]
  },
  {
   "cell_type": "code",
   "execution_count": 29,
   "metadata": {},
   "outputs": [
    {
     "name": "stdout",
     "output_type": "stream",
     "text": [
      "continuous dataset shape:  (5000, 45)\n",
      "catagorical dataset shape:  (5000, 83)\n"
     ]
    }
   ],
   "source": [
    "# Information about numeric variable and catagorical variable\n",
    "print('continuous dataset shape: ', data[conti_var].shape)\n",
    "print('catagorical dataset shape: ', data[cat_var].shape)"
   ]
  },
  {
   "cell_type": "code",
   "execution_count": 30,
   "metadata": {
    "scrolled": true
   },
   "outputs": [
    {
     "name": "stdout",
     "output_type": "stream",
     "text": [
      "<class 'pandas.core.frame.DataFrame'>\n",
      "RangeIndex: 5000 entries, 0 to 4999\n",
      "Columns: 128 entries, region to ln_total_spent\n",
      "dtypes: float64(30), int64(15), object(83)\n",
      "memory usage: 4.9+ MB\n"
     ]
    }
   ],
   "source": [
    "data.info()"
   ]
  },
  {
   "cell_type": "code",
   "execution_count": 31,
   "metadata": {
    "scrolled": true
   },
   "outputs": [
    {
     "data": {
      "text/html": [
       "<div>\n",
       "<style scoped>\n",
       "    .dataframe tbody tr th:only-of-type {\n",
       "        vertical-align: middle;\n",
       "    }\n",
       "\n",
       "    .dataframe tbody tr th {\n",
       "        vertical-align: top;\n",
       "    }\n",
       "\n",
       "    .dataframe thead th {\n",
       "        text-align: right;\n",
       "    }\n",
       "</style>\n",
       "<table border=\"1\" class=\"dataframe\">\n",
       "  <thead>\n",
       "    <tr style=\"text-align: right;\">\n",
       "      <th></th>\n",
       "      <th>N</th>\n",
       "      <th>NMISS</th>\n",
       "      <th>MEAN</th>\n",
       "      <th>MEDIAN</th>\n",
       "      <th>STD</th>\n",
       "      <th>VAR</th>\n",
       "      <th>MIN</th>\n",
       "      <th>P1</th>\n",
       "      <th>P5</th>\n",
       "      <th>P10</th>\n",
       "      <th>P25</th>\n",
       "      <th>P50</th>\n",
       "      <th>P75</th>\n",
       "      <th>P90</th>\n",
       "      <th>P95</th>\n",
       "      <th>P99</th>\n",
       "      <th>MAX</th>\n",
       "    </tr>\n",
       "  </thead>\n",
       "  <tbody>\n",
       "    <tr>\n",
       "      <th>age</th>\n",
       "      <td>5000.0</td>\n",
       "      <td>0.0</td>\n",
       "      <td>47.0</td>\n",
       "      <td>47.0</td>\n",
       "      <td>17.8</td>\n",
       "      <td>315.8</td>\n",
       "      <td>18.0</td>\n",
       "      <td>18.0</td>\n",
       "      <td>20.0</td>\n",
       "      <td>23.0</td>\n",
       "      <td>31.0</td>\n",
       "      <td>47.0</td>\n",
       "      <td>62.0</td>\n",
       "      <td>72.0</td>\n",
       "      <td>76.0</td>\n",
       "      <td>79.0</td>\n",
       "      <td>79.0</td>\n",
       "    </tr>\n",
       "    <tr>\n",
       "      <th>ed</th>\n",
       "      <td>5000.0</td>\n",
       "      <td>0.0</td>\n",
       "      <td>14.5</td>\n",
       "      <td>14.0</td>\n",
       "      <td>3.3</td>\n",
       "      <td>10.8</td>\n",
       "      <td>6.0</td>\n",
       "      <td>8.0</td>\n",
       "      <td>9.0</td>\n",
       "      <td>10.0</td>\n",
       "      <td>12.0</td>\n",
       "      <td>14.0</td>\n",
       "      <td>17.0</td>\n",
       "      <td>19.0</td>\n",
       "      <td>20.0</td>\n",
       "      <td>21.0</td>\n",
       "      <td>23.0</td>\n",
       "    </tr>\n",
       "    <tr>\n",
       "      <th>income</th>\n",
       "      <td>5000.0</td>\n",
       "      <td>0.0</td>\n",
       "      <td>54.8</td>\n",
       "      <td>38.0</td>\n",
       "      <td>55.4</td>\n",
       "      <td>3066.7</td>\n",
       "      <td>9.0</td>\n",
       "      <td>9.0</td>\n",
       "      <td>13.0</td>\n",
       "      <td>16.0</td>\n",
       "      <td>24.0</td>\n",
       "      <td>38.0</td>\n",
       "      <td>67.0</td>\n",
       "      <td>109.1</td>\n",
       "      <td>147.0</td>\n",
       "      <td>272.0</td>\n",
       "      <td>1073.0</td>\n",
       "    </tr>\n",
       "    <tr>\n",
       "      <th>lninc</th>\n",
       "      <td>5000.0</td>\n",
       "      <td>0.0</td>\n",
       "      <td>3.7</td>\n",
       "      <td>3.6</td>\n",
       "      <td>0.7</td>\n",
       "      <td>0.6</td>\n",
       "      <td>2.2</td>\n",
       "      <td>2.2</td>\n",
       "      <td>2.6</td>\n",
       "      <td>2.8</td>\n",
       "      <td>3.2</td>\n",
       "      <td>3.6</td>\n",
       "      <td>4.2</td>\n",
       "      <td>4.7</td>\n",
       "      <td>5.0</td>\n",
       "      <td>5.6</td>\n",
       "      <td>7.0</td>\n",
       "    </tr>\n",
       "    <tr>\n",
       "      <th>debtinc</th>\n",
       "      <td>5000.0</td>\n",
       "      <td>0.0</td>\n",
       "      <td>10.0</td>\n",
       "      <td>8.8</td>\n",
       "      <td>6.4</td>\n",
       "      <td>41.0</td>\n",
       "      <td>0.0</td>\n",
       "      <td>0.7</td>\n",
       "      <td>1.9</td>\n",
       "      <td>2.8</td>\n",
       "      <td>5.1</td>\n",
       "      <td>8.8</td>\n",
       "      <td>13.6</td>\n",
       "      <td>18.6</td>\n",
       "      <td>22.2</td>\n",
       "      <td>29.2</td>\n",
       "      <td>43.1</td>\n",
       "    </tr>\n",
       "    <tr>\n",
       "      <th>creddebt</th>\n",
       "      <td>5000.0</td>\n",
       "      <td>0.0</td>\n",
       "      <td>1.9</td>\n",
       "      <td>0.9</td>\n",
       "      <td>3.4</td>\n",
       "      <td>11.7</td>\n",
       "      <td>0.0</td>\n",
       "      <td>0.0</td>\n",
       "      <td>0.1</td>\n",
       "      <td>0.2</td>\n",
       "      <td>0.4</td>\n",
       "      <td>0.9</td>\n",
       "      <td>2.1</td>\n",
       "      <td>4.3</td>\n",
       "      <td>6.4</td>\n",
       "      <td>14.3</td>\n",
       "      <td>109.1</td>\n",
       "    </tr>\n",
       "    <tr>\n",
       "      <th>lncreddebt</th>\n",
       "      <td>4999.0</td>\n",
       "      <td>1.0</td>\n",
       "      <td>-0.1</td>\n",
       "      <td>-0.1</td>\n",
       "      <td>1.3</td>\n",
       "      <td>1.6</td>\n",
       "      <td>-6.6</td>\n",
       "      <td>-3.4</td>\n",
       "      <td>-2.3</td>\n",
       "      <td>-1.7</td>\n",
       "      <td>-1.0</td>\n",
       "      <td>-0.1</td>\n",
       "      <td>0.7</td>\n",
       "      <td>1.5</td>\n",
       "      <td>1.9</td>\n",
       "      <td>2.7</td>\n",
       "      <td>4.7</td>\n",
       "    </tr>\n",
       "    <tr>\n",
       "      <th>othdebt</th>\n",
       "      <td>5000.0</td>\n",
       "      <td>0.0</td>\n",
       "      <td>3.7</td>\n",
       "      <td>2.1</td>\n",
       "      <td>5.4</td>\n",
       "      <td>29.1</td>\n",
       "      <td>0.0</td>\n",
       "      <td>0.1</td>\n",
       "      <td>0.3</td>\n",
       "      <td>0.5</td>\n",
       "      <td>1.0</td>\n",
       "      <td>2.1</td>\n",
       "      <td>4.3</td>\n",
       "      <td>8.1</td>\n",
       "      <td>11.8</td>\n",
       "      <td>24.1</td>\n",
       "      <td>141.5</td>\n",
       "    </tr>\n",
       "    <tr>\n",
       "      <th>lnothdebt</th>\n",
       "      <td>4999.0</td>\n",
       "      <td>1.0</td>\n",
       "      <td>0.7</td>\n",
       "      <td>0.7</td>\n",
       "      <td>1.1</td>\n",
       "      <td>1.3</td>\n",
       "      <td>-4.1</td>\n",
       "      <td>-2.2</td>\n",
       "      <td>-1.2</td>\n",
       "      <td>-0.8</td>\n",
       "      <td>-0.0</td>\n",
       "      <td>0.7</td>\n",
       "      <td>1.5</td>\n",
       "      <td>2.1</td>\n",
       "      <td>2.5</td>\n",
       "      <td>3.2</td>\n",
       "      <td>5.0</td>\n",
       "    </tr>\n",
       "    <tr>\n",
       "      <th>spoused</th>\n",
       "      <td>5000.0</td>\n",
       "      <td>0.0</td>\n",
       "      <td>6.6</td>\n",
       "      <td>0.0</td>\n",
       "      <td>7.3</td>\n",
       "      <td>52.8</td>\n",
       "      <td>0.0</td>\n",
       "      <td>0.0</td>\n",
       "      <td>0.0</td>\n",
       "      <td>0.0</td>\n",
       "      <td>0.0</td>\n",
       "      <td>0.0</td>\n",
       "      <td>14.0</td>\n",
       "      <td>16.0</td>\n",
       "      <td>18.0</td>\n",
       "      <td>20.0</td>\n",
       "      <td>24.0</td>\n",
       "    </tr>\n",
       "    <tr>\n",
       "      <th>reside</th>\n",
       "      <td>5000.0</td>\n",
       "      <td>0.0</td>\n",
       "      <td>2.2</td>\n",
       "      <td>2.0</td>\n",
       "      <td>1.4</td>\n",
       "      <td>1.9</td>\n",
       "      <td>1.0</td>\n",
       "      <td>1.0</td>\n",
       "      <td>1.0</td>\n",
       "      <td>1.0</td>\n",
       "      <td>1.0</td>\n",
       "      <td>2.0</td>\n",
       "      <td>3.0</td>\n",
       "      <td>4.0</td>\n",
       "      <td>5.0</td>\n",
       "      <td>6.0</td>\n",
       "      <td>9.0</td>\n",
       "    </tr>\n",
       "    <tr>\n",
       "      <th>pets</th>\n",
       "      <td>5000.0</td>\n",
       "      <td>0.0</td>\n",
       "      <td>3.1</td>\n",
       "      <td>2.0</td>\n",
       "      <td>3.4</td>\n",
       "      <td>11.7</td>\n",
       "      <td>0.0</td>\n",
       "      <td>0.0</td>\n",
       "      <td>0.0</td>\n",
       "      <td>0.0</td>\n",
       "      <td>0.0</td>\n",
       "      <td>2.0</td>\n",
       "      <td>5.0</td>\n",
       "      <td>8.0</td>\n",
       "      <td>10.0</td>\n",
       "      <td>13.0</td>\n",
       "      <td>21.0</td>\n",
       "    </tr>\n",
       "    <tr>\n",
       "      <th>pets_cats</th>\n",
       "      <td>5000.0</td>\n",
       "      <td>0.0</td>\n",
       "      <td>0.5</td>\n",
       "      <td>0.0</td>\n",
       "      <td>0.9</td>\n",
       "      <td>0.7</td>\n",
       "      <td>0.0</td>\n",
       "      <td>0.0</td>\n",
       "      <td>0.0</td>\n",
       "      <td>0.0</td>\n",
       "      <td>0.0</td>\n",
       "      <td>0.0</td>\n",
       "      <td>1.0</td>\n",
       "      <td>2.0</td>\n",
       "      <td>2.0</td>\n",
       "      <td>3.0</td>\n",
       "      <td>6.0</td>\n",
       "    </tr>\n",
       "    <tr>\n",
       "      <th>pets_dogs</th>\n",
       "      <td>5000.0</td>\n",
       "      <td>0.0</td>\n",
       "      <td>0.4</td>\n",
       "      <td>0.0</td>\n",
       "      <td>0.8</td>\n",
       "      <td>0.6</td>\n",
       "      <td>0.0</td>\n",
       "      <td>0.0</td>\n",
       "      <td>0.0</td>\n",
       "      <td>0.0</td>\n",
       "      <td>0.0</td>\n",
       "      <td>0.0</td>\n",
       "      <td>0.0</td>\n",
       "      <td>2.0</td>\n",
       "      <td>2.0</td>\n",
       "      <td>3.0</td>\n",
       "      <td>7.0</td>\n",
       "    </tr>\n",
       "    <tr>\n",
       "      <th>pets_birds</th>\n",
       "      <td>5000.0</td>\n",
       "      <td>0.0</td>\n",
       "      <td>0.1</td>\n",
       "      <td>0.0</td>\n",
       "      <td>0.5</td>\n",
       "      <td>0.2</td>\n",
       "      <td>0.0</td>\n",
       "      <td>0.0</td>\n",
       "      <td>0.0</td>\n",
       "      <td>0.0</td>\n",
       "      <td>0.0</td>\n",
       "      <td>0.0</td>\n",
       "      <td>0.0</td>\n",
       "      <td>0.0</td>\n",
       "      <td>1.0</td>\n",
       "      <td>3.0</td>\n",
       "      <td>5.0</td>\n",
       "    </tr>\n",
       "    <tr>\n",
       "      <th>pets_reptiles</th>\n",
       "      <td>5000.0</td>\n",
       "      <td>0.0</td>\n",
       "      <td>0.1</td>\n",
       "      <td>0.0</td>\n",
       "      <td>0.3</td>\n",
       "      <td>0.1</td>\n",
       "      <td>0.0</td>\n",
       "      <td>0.0</td>\n",
       "      <td>0.0</td>\n",
       "      <td>0.0</td>\n",
       "      <td>0.0</td>\n",
       "      <td>0.0</td>\n",
       "      <td>0.0</td>\n",
       "      <td>0.0</td>\n",
       "      <td>0.0</td>\n",
       "      <td>2.0</td>\n",
       "      <td>6.0</td>\n",
       "    </tr>\n",
       "    <tr>\n",
       "      <th>pets_small</th>\n",
       "      <td>5000.0</td>\n",
       "      <td>0.0</td>\n",
       "      <td>0.1</td>\n",
       "      <td>0.0</td>\n",
       "      <td>0.6</td>\n",
       "      <td>0.3</td>\n",
       "      <td>0.0</td>\n",
       "      <td>0.0</td>\n",
       "      <td>0.0</td>\n",
       "      <td>0.0</td>\n",
       "      <td>0.0</td>\n",
       "      <td>0.0</td>\n",
       "      <td>0.0</td>\n",
       "      <td>0.0</td>\n",
       "      <td>1.0</td>\n",
       "      <td>3.0</td>\n",
       "      <td>7.0</td>\n",
       "    </tr>\n",
       "    <tr>\n",
       "      <th>pets_saltfish</th>\n",
       "      <td>5000.0</td>\n",
       "      <td>0.0</td>\n",
       "      <td>0.0</td>\n",
       "      <td>0.0</td>\n",
       "      <td>0.5</td>\n",
       "      <td>0.2</td>\n",
       "      <td>0.0</td>\n",
       "      <td>0.0</td>\n",
       "      <td>0.0</td>\n",
       "      <td>0.0</td>\n",
       "      <td>0.0</td>\n",
       "      <td>0.0</td>\n",
       "      <td>0.0</td>\n",
       "      <td>0.0</td>\n",
       "      <td>0.0</td>\n",
       "      <td>2.0</td>\n",
       "      <td>8.0</td>\n",
       "    </tr>\n",
       "    <tr>\n",
       "      <th>pets_freshfish</th>\n",
       "      <td>5000.0</td>\n",
       "      <td>0.0</td>\n",
       "      <td>1.8</td>\n",
       "      <td>0.0</td>\n",
       "      <td>3.1</td>\n",
       "      <td>9.5</td>\n",
       "      <td>0.0</td>\n",
       "      <td>0.0</td>\n",
       "      <td>0.0</td>\n",
       "      <td>0.0</td>\n",
       "      <td>0.0</td>\n",
       "      <td>0.0</td>\n",
       "      <td>4.0</td>\n",
       "      <td>7.0</td>\n",
       "      <td>8.0</td>\n",
       "      <td>11.0</td>\n",
       "      <td>16.0</td>\n",
       "    </tr>\n",
       "    <tr>\n",
       "      <th>carvalue</th>\n",
       "      <td>5000.0</td>\n",
       "      <td>0.0</td>\n",
       "      <td>23.3</td>\n",
       "      <td>17.0</td>\n",
       "      <td>21.1</td>\n",
       "      <td>446.1</td>\n",
       "      <td>0.0</td>\n",
       "      <td>0.0</td>\n",
       "      <td>0.0</td>\n",
       "      <td>2.5</td>\n",
       "      <td>9.2</td>\n",
       "      <td>17.0</td>\n",
       "      <td>31.1</td>\n",
       "      <td>52.9</td>\n",
       "      <td>72.0</td>\n",
       "      <td>92.0</td>\n",
       "      <td>99.6</td>\n",
       "    </tr>\n",
       "    <tr>\n",
       "      <th>commutetime</th>\n",
       "      <td>4998.0</td>\n",
       "      <td>2.0</td>\n",
       "      <td>25.3</td>\n",
       "      <td>25.0</td>\n",
       "      <td>5.9</td>\n",
       "      <td>34.6</td>\n",
       "      <td>8.0</td>\n",
       "      <td>13.0</td>\n",
       "      <td>16.0</td>\n",
       "      <td>18.0</td>\n",
       "      <td>21.0</td>\n",
       "      <td>25.0</td>\n",
       "      <td>29.0</td>\n",
       "      <td>33.0</td>\n",
       "      <td>35.0</td>\n",
       "      <td>40.0</td>\n",
       "      <td>48.0</td>\n",
       "    </tr>\n",
       "    <tr>\n",
       "      <th>tenure</th>\n",
       "      <td>5000.0</td>\n",
       "      <td>0.0</td>\n",
       "      <td>38.2</td>\n",
       "      <td>38.0</td>\n",
       "      <td>22.7</td>\n",
       "      <td>513.6</td>\n",
       "      <td>0.0</td>\n",
       "      <td>1.0</td>\n",
       "      <td>4.0</td>\n",
       "      <td>7.0</td>\n",
       "      <td>18.0</td>\n",
       "      <td>38.0</td>\n",
       "      <td>59.0</td>\n",
       "      <td>69.0</td>\n",
       "      <td>72.0</td>\n",
       "      <td>72.0</td>\n",
       "      <td>72.0</td>\n",
       "    </tr>\n",
       "    <tr>\n",
       "      <th>longmon</th>\n",
       "      <td>5000.0</td>\n",
       "      <td>0.0</td>\n",
       "      <td>13.5</td>\n",
       "      <td>9.6</td>\n",
       "      <td>12.8</td>\n",
       "      <td>163.2</td>\n",
       "      <td>0.9</td>\n",
       "      <td>1.8</td>\n",
       "      <td>2.9</td>\n",
       "      <td>3.7</td>\n",
       "      <td>5.7</td>\n",
       "      <td>9.6</td>\n",
       "      <td>16.6</td>\n",
       "      <td>27.0</td>\n",
       "      <td>36.8</td>\n",
       "      <td>65.2</td>\n",
       "      <td>179.8</td>\n",
       "    </tr>\n",
       "    <tr>\n",
       "      <th>lnlongmon</th>\n",
       "      <td>5000.0</td>\n",
       "      <td>0.0</td>\n",
       "      <td>2.3</td>\n",
       "      <td>2.3</td>\n",
       "      <td>0.8</td>\n",
       "      <td>0.6</td>\n",
       "      <td>-0.1</td>\n",
       "      <td>0.6</td>\n",
       "      <td>1.1</td>\n",
       "      <td>1.3</td>\n",
       "      <td>1.7</td>\n",
       "      <td>2.3</td>\n",
       "      <td>2.8</td>\n",
       "      <td>3.3</td>\n",
       "      <td>3.6</td>\n",
       "      <td>4.2</td>\n",
       "      <td>5.2</td>\n",
       "    </tr>\n",
       "    <tr>\n",
       "      <th>longten</th>\n",
       "      <td>4997.0</td>\n",
       "      <td>3.0</td>\n",
       "      <td>708.9</td>\n",
       "      <td>350.0</td>\n",
       "      <td>979.3</td>\n",
       "      <td>959011.0</td>\n",
       "      <td>0.9</td>\n",
       "      <td>2.4</td>\n",
       "      <td>12.6</td>\n",
       "      <td>28.3</td>\n",
       "      <td>104.6</td>\n",
       "      <td>350.0</td>\n",
       "      <td>913.8</td>\n",
       "      <td>1808.8</td>\n",
       "      <td>2567.6</td>\n",
       "      <td>4689.1</td>\n",
       "      <td>13046.5</td>\n",
       "    </tr>\n",
       "    <tr>\n",
       "      <th>lnlongten</th>\n",
       "      <td>4997.0</td>\n",
       "      <td>3.0</td>\n",
       "      <td>5.6</td>\n",
       "      <td>5.9</td>\n",
       "      <td>1.6</td>\n",
       "      <td>2.7</td>\n",
       "      <td>-0.1</td>\n",
       "      <td>0.9</td>\n",
       "      <td>2.5</td>\n",
       "      <td>3.3</td>\n",
       "      <td>4.7</td>\n",
       "      <td>5.9</td>\n",
       "      <td>6.8</td>\n",
       "      <td>7.5</td>\n",
       "      <td>7.9</td>\n",
       "      <td>8.5</td>\n",
       "      <td>9.5</td>\n",
       "    </tr>\n",
       "    <tr>\n",
       "      <th>tollmon</th>\n",
       "      <td>5000.0</td>\n",
       "      <td>0.0</td>\n",
       "      <td>13.3</td>\n",
       "      <td>0.0</td>\n",
       "      <td>16.3</td>\n",
       "      <td>266.0</td>\n",
       "      <td>0.0</td>\n",
       "      <td>0.0</td>\n",
       "      <td>0.0</td>\n",
       "      <td>0.0</td>\n",
       "      <td>0.0</td>\n",
       "      <td>0.0</td>\n",
       "      <td>24.5</td>\n",
       "      <td>35.5</td>\n",
       "      <td>43.5</td>\n",
       "      <td>58.8</td>\n",
       "      <td>173.0</td>\n",
       "    </tr>\n",
       "    <tr>\n",
       "      <th>lntollmon</th>\n",
       "      <td>2378.0</td>\n",
       "      <td>2622.0</td>\n",
       "      <td>3.2</td>\n",
       "      <td>3.2</td>\n",
       "      <td>0.4</td>\n",
       "      <td>0.2</td>\n",
       "      <td>2.1</td>\n",
       "      <td>2.3</td>\n",
       "      <td>2.6</td>\n",
       "      <td>2.7</td>\n",
       "      <td>3.0</td>\n",
       "      <td>3.2</td>\n",
       "      <td>3.5</td>\n",
       "      <td>3.8</td>\n",
       "      <td>3.9</td>\n",
       "      <td>4.2</td>\n",
       "      <td>4.6</td>\n",
       "    </tr>\n",
       "    <tr>\n",
       "      <th>tollten</th>\n",
       "      <td>5000.0</td>\n",
       "      <td>0.0</td>\n",
       "      <td>577.8</td>\n",
       "      <td>0.0</td>\n",
       "      <td>949.2</td>\n",
       "      <td>900888.7</td>\n",
       "      <td>0.0</td>\n",
       "      <td>0.0</td>\n",
       "      <td>0.0</td>\n",
       "      <td>0.0</td>\n",
       "      <td>0.0</td>\n",
       "      <td>0.0</td>\n",
       "      <td>885.4</td>\n",
       "      <td>1919.0</td>\n",
       "      <td>2620.2</td>\n",
       "      <td>3977.3</td>\n",
       "      <td>6923.4</td>\n",
       "    </tr>\n",
       "    <tr>\n",
       "      <th>lntollten</th>\n",
       "      <td>2378.0</td>\n",
       "      <td>2622.0</td>\n",
       "      <td>6.6</td>\n",
       "      <td>6.9</td>\n",
       "      <td>1.2</td>\n",
       "      <td>1.5</td>\n",
       "      <td>2.2</td>\n",
       "      <td>2.8</td>\n",
       "      <td>4.2</td>\n",
       "      <td>4.8</td>\n",
       "      <td>5.9</td>\n",
       "      <td>6.9</td>\n",
       "      <td>7.5</td>\n",
       "      <td>7.9</td>\n",
       "      <td>8.1</td>\n",
       "      <td>8.4</td>\n",
       "      <td>8.8</td>\n",
       "    </tr>\n",
       "    <tr>\n",
       "      <th>equipmon</th>\n",
       "      <td>5000.0</td>\n",
       "      <td>0.0</td>\n",
       "      <td>13.0</td>\n",
       "      <td>0.0</td>\n",
       "      <td>19.2</td>\n",
       "      <td>369.1</td>\n",
       "      <td>0.0</td>\n",
       "      <td>0.0</td>\n",
       "      <td>0.0</td>\n",
       "      <td>0.0</td>\n",
       "      <td>0.0</td>\n",
       "      <td>0.0</td>\n",
       "      <td>30.8</td>\n",
       "      <td>42.7</td>\n",
       "      <td>49.1</td>\n",
       "      <td>63.3</td>\n",
       "      <td>106.3</td>\n",
       "    </tr>\n",
       "    <tr>\n",
       "      <th>lnequipmon</th>\n",
       "      <td>1704.0</td>\n",
       "      <td>3296.0</td>\n",
       "      <td>3.6</td>\n",
       "      <td>3.6</td>\n",
       "      <td>0.3</td>\n",
       "      <td>0.1</td>\n",
       "      <td>2.8</td>\n",
       "      <td>3.0</td>\n",
       "      <td>3.1</td>\n",
       "      <td>3.2</td>\n",
       "      <td>3.4</td>\n",
       "      <td>3.6</td>\n",
       "      <td>3.8</td>\n",
       "      <td>4.0</td>\n",
       "      <td>4.1</td>\n",
       "      <td>4.3</td>\n",
       "      <td>4.7</td>\n",
       "    </tr>\n",
       "    <tr>\n",
       "      <th>equipten</th>\n",
       "      <td>5000.0</td>\n",
       "      <td>0.0</td>\n",
       "      <td>470.2</td>\n",
       "      <td>0.0</td>\n",
       "      <td>912.2</td>\n",
       "      <td>832146.5</td>\n",
       "      <td>0.0</td>\n",
       "      <td>0.0</td>\n",
       "      <td>0.0</td>\n",
       "      <td>0.0</td>\n",
       "      <td>0.0</td>\n",
       "      <td>0.0</td>\n",
       "      <td>510.2</td>\n",
       "      <td>1912.3</td>\n",
       "      <td>2601.0</td>\n",
       "      <td>3679.5</td>\n",
       "      <td>6525.3</td>\n",
       "    </tr>\n",
       "    <tr>\n",
       "      <th>lnequipten</th>\n",
       "      <td>1704.0</td>\n",
       "      <td>3296.0</td>\n",
       "      <td>6.7</td>\n",
       "      <td>7.1</td>\n",
       "      <td>1.2</td>\n",
       "      <td>1.4</td>\n",
       "      <td>2.5</td>\n",
       "      <td>3.2</td>\n",
       "      <td>4.3</td>\n",
       "      <td>5.0</td>\n",
       "      <td>6.2</td>\n",
       "      <td>7.1</td>\n",
       "      <td>7.6</td>\n",
       "      <td>8.0</td>\n",
       "      <td>8.1</td>\n",
       "      <td>8.4</td>\n",
       "      <td>8.8</td>\n",
       "    </tr>\n",
       "    <tr>\n",
       "      <th>cardmon</th>\n",
       "      <td>5000.0</td>\n",
       "      <td>0.0</td>\n",
       "      <td>15.4</td>\n",
       "      <td>13.8</td>\n",
       "      <td>15.0</td>\n",
       "      <td>225.2</td>\n",
       "      <td>0.0</td>\n",
       "      <td>0.0</td>\n",
       "      <td>0.0</td>\n",
       "      <td>0.0</td>\n",
       "      <td>0.0</td>\n",
       "      <td>13.8</td>\n",
       "      <td>22.8</td>\n",
       "      <td>34.0</td>\n",
       "      <td>42.0</td>\n",
       "      <td>64.2</td>\n",
       "      <td>188.5</td>\n",
       "    </tr>\n",
       "    <tr>\n",
       "      <th>lncardmon</th>\n",
       "      <td>3581.0</td>\n",
       "      <td>1419.0</td>\n",
       "      <td>2.9</td>\n",
       "      <td>2.9</td>\n",
       "      <td>0.6</td>\n",
       "      <td>0.3</td>\n",
       "      <td>1.2</td>\n",
       "      <td>1.7</td>\n",
       "      <td>2.0</td>\n",
       "      <td>2.2</td>\n",
       "      <td>2.5</td>\n",
       "      <td>2.9</td>\n",
       "      <td>3.3</td>\n",
       "      <td>3.6</td>\n",
       "      <td>3.8</td>\n",
       "      <td>4.2</td>\n",
       "      <td>5.2</td>\n",
       "    </tr>\n",
       "    <tr>\n",
       "      <th>cardten</th>\n",
       "      <td>4998.0</td>\n",
       "      <td>2.0</td>\n",
       "      <td>720.5</td>\n",
       "      <td>425.0</td>\n",
       "      <td>922.2</td>\n",
       "      <td>850499.9</td>\n",
       "      <td>0.0</td>\n",
       "      <td>0.0</td>\n",
       "      <td>0.0</td>\n",
       "      <td>0.0</td>\n",
       "      <td>0.0</td>\n",
       "      <td>425.0</td>\n",
       "      <td>1080.0</td>\n",
       "      <td>1871.5</td>\n",
       "      <td>2455.7</td>\n",
       "      <td>4011.2</td>\n",
       "      <td>13705.0</td>\n",
       "    </tr>\n",
       "    <tr>\n",
       "      <th>lncardten</th>\n",
       "      <td>3578.0</td>\n",
       "      <td>1422.0</td>\n",
       "      <td>6.4</td>\n",
       "      <td>6.6</td>\n",
       "      <td>1.2</td>\n",
       "      <td>1.4</td>\n",
       "      <td>1.6</td>\n",
       "      <td>2.5</td>\n",
       "      <td>4.1</td>\n",
       "      <td>4.9</td>\n",
       "      <td>5.9</td>\n",
       "      <td>6.6</td>\n",
       "      <td>7.2</td>\n",
       "      <td>7.7</td>\n",
       "      <td>7.9</td>\n",
       "      <td>8.4</td>\n",
       "      <td>9.5</td>\n",
       "    </tr>\n",
       "    <tr>\n",
       "      <th>wiremon</th>\n",
       "      <td>5000.0</td>\n",
       "      <td>0.0</td>\n",
       "      <td>10.7</td>\n",
       "      <td>0.0</td>\n",
       "      <td>19.8</td>\n",
       "      <td>392.0</td>\n",
       "      <td>0.0</td>\n",
       "      <td>0.0</td>\n",
       "      <td>0.0</td>\n",
       "      <td>0.0</td>\n",
       "      <td>0.0</td>\n",
       "      <td>0.0</td>\n",
       "      <td>21.0</td>\n",
       "      <td>40.9</td>\n",
       "      <td>51.3</td>\n",
       "      <td>78.3</td>\n",
       "      <td>186.2</td>\n",
       "    </tr>\n",
       "    <tr>\n",
       "      <th>lnwiremon</th>\n",
       "      <td>1344.0</td>\n",
       "      <td>3656.0</td>\n",
       "      <td>3.6</td>\n",
       "      <td>3.6</td>\n",
       "      <td>0.4</td>\n",
       "      <td>0.2</td>\n",
       "      <td>2.5</td>\n",
       "      <td>2.8</td>\n",
       "      <td>3.0</td>\n",
       "      <td>3.1</td>\n",
       "      <td>3.3</td>\n",
       "      <td>3.6</td>\n",
       "      <td>3.9</td>\n",
       "      <td>4.1</td>\n",
       "      <td>4.3</td>\n",
       "      <td>4.6</td>\n",
       "      <td>5.2</td>\n",
       "    </tr>\n",
       "    <tr>\n",
       "      <th>wireten</th>\n",
       "      <td>5000.0</td>\n",
       "      <td>0.0</td>\n",
       "      <td>422.0</td>\n",
       "      <td>0.0</td>\n",
       "      <td>1001.0</td>\n",
       "      <td>1002007.6</td>\n",
       "      <td>0.0</td>\n",
       "      <td>0.0</td>\n",
       "      <td>0.0</td>\n",
       "      <td>0.0</td>\n",
       "      <td>0.0</td>\n",
       "      <td>0.0</td>\n",
       "      <td>90.0</td>\n",
       "      <td>1778.5</td>\n",
       "      <td>2687.9</td>\n",
       "      <td>4530.2</td>\n",
       "      <td>12858.6</td>\n",
       "    </tr>\n",
       "    <tr>\n",
       "      <th>lnwireten</th>\n",
       "      <td>1344.0</td>\n",
       "      <td>3656.0</td>\n",
       "      <td>6.8</td>\n",
       "      <td>7.1</td>\n",
       "      <td>1.3</td>\n",
       "      <td>1.6</td>\n",
       "      <td>2.5</td>\n",
       "      <td>3.0</td>\n",
       "      <td>4.1</td>\n",
       "      <td>4.9</td>\n",
       "      <td>6.2</td>\n",
       "      <td>7.1</td>\n",
       "      <td>7.8</td>\n",
       "      <td>8.1</td>\n",
       "      <td>8.3</td>\n",
       "      <td>8.7</td>\n",
       "      <td>9.5</td>\n",
       "    </tr>\n",
       "    <tr>\n",
       "      <th>hourstv</th>\n",
       "      <td>5000.0</td>\n",
       "      <td>0.0</td>\n",
       "      <td>19.6</td>\n",
       "      <td>20.0</td>\n",
       "      <td>5.2</td>\n",
       "      <td>26.7</td>\n",
       "      <td>0.0</td>\n",
       "      <td>0.0</td>\n",
       "      <td>12.0</td>\n",
       "      <td>14.0</td>\n",
       "      <td>17.0</td>\n",
       "      <td>20.0</td>\n",
       "      <td>23.0</td>\n",
       "      <td>26.0</td>\n",
       "      <td>28.0</td>\n",
       "      <td>31.0</td>\n",
       "      <td>36.0</td>\n",
       "    </tr>\n",
       "    <tr>\n",
       "      <th>total_spent</th>\n",
       "      <td>5000.0</td>\n",
       "      <td>0.0</td>\n",
       "      <td>493.4</td>\n",
       "      <td>414.2</td>\n",
       "      <td>322.8</td>\n",
       "      <td>104196.8</td>\n",
       "      <td>58.2</td>\n",
       "      <td>58.2</td>\n",
       "      <td>133.1</td>\n",
       "      <td>184.0</td>\n",
       "      <td>276.3</td>\n",
       "      <td>414.2</td>\n",
       "      <td>615.6</td>\n",
       "      <td>908.1</td>\n",
       "      <td>1145.1</td>\n",
       "      <td>1760.0</td>\n",
       "      <td>1760.1</td>\n",
       "    </tr>\n",
       "    <tr>\n",
       "      <th>ln_total_spent</th>\n",
       "      <td>5000.0</td>\n",
       "      <td>0.0</td>\n",
       "      <td>6.0</td>\n",
       "      <td>6.0</td>\n",
       "      <td>0.6</td>\n",
       "      <td>0.4</td>\n",
       "      <td>4.1</td>\n",
       "      <td>4.1</td>\n",
       "      <td>4.9</td>\n",
       "      <td>5.2</td>\n",
       "      <td>5.6</td>\n",
       "      <td>6.0</td>\n",
       "      <td>6.4</td>\n",
       "      <td>6.8</td>\n",
       "      <td>7.0</td>\n",
       "      <td>7.5</td>\n",
       "      <td>7.5</td>\n",
       "    </tr>\n",
       "  </tbody>\n",
       "</table>\n",
       "</div>"
      ],
      "text/plain": [
       "                     N   NMISS   MEAN  MEDIAN     STD        VAR   MIN    P1  \\\n",
       "age             5000.0     0.0   47.0    47.0    17.8      315.8  18.0  18.0   \n",
       "ed              5000.0     0.0   14.5    14.0     3.3       10.8   6.0   8.0   \n",
       "income          5000.0     0.0   54.8    38.0    55.4     3066.7   9.0   9.0   \n",
       "lninc           5000.0     0.0    3.7     3.6     0.7        0.6   2.2   2.2   \n",
       "debtinc         5000.0     0.0   10.0     8.8     6.4       41.0   0.0   0.7   \n",
       "creddebt        5000.0     0.0    1.9     0.9     3.4       11.7   0.0   0.0   \n",
       "lncreddebt      4999.0     1.0   -0.1    -0.1     1.3        1.6  -6.6  -3.4   \n",
       "othdebt         5000.0     0.0    3.7     2.1     5.4       29.1   0.0   0.1   \n",
       "lnothdebt       4999.0     1.0    0.7     0.7     1.1        1.3  -4.1  -2.2   \n",
       "spoused         5000.0     0.0    6.6     0.0     7.3       52.8   0.0   0.0   \n",
       "reside          5000.0     0.0    2.2     2.0     1.4        1.9   1.0   1.0   \n",
       "pets            5000.0     0.0    3.1     2.0     3.4       11.7   0.0   0.0   \n",
       "pets_cats       5000.0     0.0    0.5     0.0     0.9        0.7   0.0   0.0   \n",
       "pets_dogs       5000.0     0.0    0.4     0.0     0.8        0.6   0.0   0.0   \n",
       "pets_birds      5000.0     0.0    0.1     0.0     0.5        0.2   0.0   0.0   \n",
       "pets_reptiles   5000.0     0.0    0.1     0.0     0.3        0.1   0.0   0.0   \n",
       "pets_small      5000.0     0.0    0.1     0.0     0.6        0.3   0.0   0.0   \n",
       "pets_saltfish   5000.0     0.0    0.0     0.0     0.5        0.2   0.0   0.0   \n",
       "pets_freshfish  5000.0     0.0    1.8     0.0     3.1        9.5   0.0   0.0   \n",
       "carvalue        5000.0     0.0   23.3    17.0    21.1      446.1   0.0   0.0   \n",
       "commutetime     4998.0     2.0   25.3    25.0     5.9       34.6   8.0  13.0   \n",
       "tenure          5000.0     0.0   38.2    38.0    22.7      513.6   0.0   1.0   \n",
       "longmon         5000.0     0.0   13.5     9.6    12.8      163.2   0.9   1.8   \n",
       "lnlongmon       5000.0     0.0    2.3     2.3     0.8        0.6  -0.1   0.6   \n",
       "longten         4997.0     3.0  708.9   350.0   979.3   959011.0   0.9   2.4   \n",
       "lnlongten       4997.0     3.0    5.6     5.9     1.6        2.7  -0.1   0.9   \n",
       "tollmon         5000.0     0.0   13.3     0.0    16.3      266.0   0.0   0.0   \n",
       "lntollmon       2378.0  2622.0    3.2     3.2     0.4        0.2   2.1   2.3   \n",
       "tollten         5000.0     0.0  577.8     0.0   949.2   900888.7   0.0   0.0   \n",
       "lntollten       2378.0  2622.0    6.6     6.9     1.2        1.5   2.2   2.8   \n",
       "equipmon        5000.0     0.0   13.0     0.0    19.2      369.1   0.0   0.0   \n",
       "lnequipmon      1704.0  3296.0    3.6     3.6     0.3        0.1   2.8   3.0   \n",
       "equipten        5000.0     0.0  470.2     0.0   912.2   832146.5   0.0   0.0   \n",
       "lnequipten      1704.0  3296.0    6.7     7.1     1.2        1.4   2.5   3.2   \n",
       "cardmon         5000.0     0.0   15.4    13.8    15.0      225.2   0.0   0.0   \n",
       "lncardmon       3581.0  1419.0    2.9     2.9     0.6        0.3   1.2   1.7   \n",
       "cardten         4998.0     2.0  720.5   425.0   922.2   850499.9   0.0   0.0   \n",
       "lncardten       3578.0  1422.0    6.4     6.6     1.2        1.4   1.6   2.5   \n",
       "wiremon         5000.0     0.0   10.7     0.0    19.8      392.0   0.0   0.0   \n",
       "lnwiremon       1344.0  3656.0    3.6     3.6     0.4        0.2   2.5   2.8   \n",
       "wireten         5000.0     0.0  422.0     0.0  1001.0  1002007.6   0.0   0.0   \n",
       "lnwireten       1344.0  3656.0    6.8     7.1     1.3        1.6   2.5   3.0   \n",
       "hourstv         5000.0     0.0   19.6    20.0     5.2       26.7   0.0   0.0   \n",
       "total_spent     5000.0     0.0  493.4   414.2   322.8   104196.8  58.2  58.2   \n",
       "ln_total_spent  5000.0     0.0    6.0     6.0     0.6        0.4   4.1   4.1   \n",
       "\n",
       "                   P5    P10    P25    P50     P75     P90     P95     P99  \\\n",
       "age              20.0   23.0   31.0   47.0    62.0    72.0    76.0    79.0   \n",
       "ed                9.0   10.0   12.0   14.0    17.0    19.0    20.0    21.0   \n",
       "income           13.0   16.0   24.0   38.0    67.0   109.1   147.0   272.0   \n",
       "lninc             2.6    2.8    3.2    3.6     4.2     4.7     5.0     5.6   \n",
       "debtinc           1.9    2.8    5.1    8.8    13.6    18.6    22.2    29.2   \n",
       "creddebt          0.1    0.2    0.4    0.9     2.1     4.3     6.4    14.3   \n",
       "lncreddebt       -2.3   -1.7   -1.0   -0.1     0.7     1.5     1.9     2.7   \n",
       "othdebt           0.3    0.5    1.0    2.1     4.3     8.1    11.8    24.1   \n",
       "lnothdebt        -1.2   -0.8   -0.0    0.7     1.5     2.1     2.5     3.2   \n",
       "spoused           0.0    0.0    0.0    0.0    14.0    16.0    18.0    20.0   \n",
       "reside            1.0    1.0    1.0    2.0     3.0     4.0     5.0     6.0   \n",
       "pets              0.0    0.0    0.0    2.0     5.0     8.0    10.0    13.0   \n",
       "pets_cats         0.0    0.0    0.0    0.0     1.0     2.0     2.0     3.0   \n",
       "pets_dogs         0.0    0.0    0.0    0.0     0.0     2.0     2.0     3.0   \n",
       "pets_birds        0.0    0.0    0.0    0.0     0.0     0.0     1.0     3.0   \n",
       "pets_reptiles     0.0    0.0    0.0    0.0     0.0     0.0     0.0     2.0   \n",
       "pets_small        0.0    0.0    0.0    0.0     0.0     0.0     1.0     3.0   \n",
       "pets_saltfish     0.0    0.0    0.0    0.0     0.0     0.0     0.0     2.0   \n",
       "pets_freshfish    0.0    0.0    0.0    0.0     4.0     7.0     8.0    11.0   \n",
       "carvalue          0.0    2.5    9.2   17.0    31.1    52.9    72.0    92.0   \n",
       "commutetime      16.0   18.0   21.0   25.0    29.0    33.0    35.0    40.0   \n",
       "tenure            4.0    7.0   18.0   38.0    59.0    69.0    72.0    72.0   \n",
       "longmon           2.9    3.7    5.7    9.6    16.6    27.0    36.8    65.2   \n",
       "lnlongmon         1.1    1.3    1.7    2.3     2.8     3.3     3.6     4.2   \n",
       "longten          12.6   28.3  104.6  350.0   913.8  1808.8  2567.6  4689.1   \n",
       "lnlongten         2.5    3.3    4.7    5.9     6.8     7.5     7.9     8.5   \n",
       "tollmon           0.0    0.0    0.0    0.0    24.5    35.5    43.5    58.8   \n",
       "lntollmon         2.6    2.7    3.0    3.2     3.5     3.8     3.9     4.2   \n",
       "tollten           0.0    0.0    0.0    0.0   885.4  1919.0  2620.2  3977.3   \n",
       "lntollten         4.2    4.8    5.9    6.9     7.5     7.9     8.1     8.4   \n",
       "equipmon          0.0    0.0    0.0    0.0    30.8    42.7    49.1    63.3   \n",
       "lnequipmon        3.1    3.2    3.4    3.6     3.8     4.0     4.1     4.3   \n",
       "equipten          0.0    0.0    0.0    0.0   510.2  1912.3  2601.0  3679.5   \n",
       "lnequipten        4.3    5.0    6.2    7.1     7.6     8.0     8.1     8.4   \n",
       "cardmon           0.0    0.0    0.0   13.8    22.8    34.0    42.0    64.2   \n",
       "lncardmon         2.0    2.2    2.5    2.9     3.3     3.6     3.8     4.2   \n",
       "cardten           0.0    0.0    0.0  425.0  1080.0  1871.5  2455.7  4011.2   \n",
       "lncardten         4.1    4.9    5.9    6.6     7.2     7.7     7.9     8.4   \n",
       "wiremon           0.0    0.0    0.0    0.0    21.0    40.9    51.3    78.3   \n",
       "lnwiremon         3.0    3.1    3.3    3.6     3.9     4.1     4.3     4.6   \n",
       "wireten           0.0    0.0    0.0    0.0    90.0  1778.5  2687.9  4530.2   \n",
       "lnwireten         4.1    4.9    6.2    7.1     7.8     8.1     8.3     8.7   \n",
       "hourstv          12.0   14.0   17.0   20.0    23.0    26.0    28.0    31.0   \n",
       "total_spent     133.1  184.0  276.3  414.2   615.6   908.1  1145.1  1760.0   \n",
       "ln_total_spent    4.9    5.2    5.6    6.0     6.4     6.8     7.0     7.5   \n",
       "\n",
       "                    MAX  \n",
       "age                79.0  \n",
       "ed                 23.0  \n",
       "income           1073.0  \n",
       "lninc               7.0  \n",
       "debtinc            43.1  \n",
       "creddebt          109.1  \n",
       "lncreddebt          4.7  \n",
       "othdebt           141.5  \n",
       "lnothdebt           5.0  \n",
       "spoused            24.0  \n",
       "reside              9.0  \n",
       "pets               21.0  \n",
       "pets_cats           6.0  \n",
       "pets_dogs           7.0  \n",
       "pets_birds          5.0  \n",
       "pets_reptiles       6.0  \n",
       "pets_small          7.0  \n",
       "pets_saltfish       8.0  \n",
       "pets_freshfish     16.0  \n",
       "carvalue           99.6  \n",
       "commutetime        48.0  \n",
       "tenure             72.0  \n",
       "longmon           179.8  \n",
       "lnlongmon           5.2  \n",
       "longten         13046.5  \n",
       "lnlongten           9.5  \n",
       "tollmon           173.0  \n",
       "lntollmon           4.6  \n",
       "tollten          6923.4  \n",
       "lntollten           8.8  \n",
       "equipmon          106.3  \n",
       "lnequipmon          4.7  \n",
       "equipten         6525.3  \n",
       "lnequipten          8.8  \n",
       "cardmon           188.5  \n",
       "lncardmon           5.2  \n",
       "cardten         13705.0  \n",
       "lncardten           9.5  \n",
       "wiremon           186.2  \n",
       "lnwiremon           5.2  \n",
       "wireten         12858.6  \n",
       "lnwireten           9.5  \n",
       "hourstv            36.0  \n",
       "total_spent      1760.1  \n",
       "ln_total_spent      7.5  "
      ]
     },
     "execution_count": 31,
     "metadata": {},
     "output_type": "execute_result"
    }
   ],
   "source": [
    "data[conti_var].apply(continuous_summary).T.round(1)"
   ]
  },
  {
   "cell_type": "code",
   "execution_count": 32,
   "metadata": {
    "scrolled": false
   },
   "outputs": [
    {
     "data": {
      "text/html": [
       "<div>\n",
       "<style scoped>\n",
       "    .dataframe tbody tr th:only-of-type {\n",
       "        vertical-align: middle;\n",
       "    }\n",
       "\n",
       "    .dataframe tbody tr th {\n",
       "        vertical-align: top;\n",
       "    }\n",
       "\n",
       "    .dataframe thead th {\n",
       "        text-align: right;\n",
       "    }\n",
       "</style>\n",
       "<table border=\"1\" class=\"dataframe\">\n",
       "  <thead>\n",
       "    <tr style=\"text-align: right;\">\n",
       "      <th></th>\n",
       "      <th>owntv</th>\n",
       "      <th>commutenonmotor</th>\n",
       "      <th>owncd</th>\n",
       "      <th>response_01</th>\n",
       "      <th>ownvcr</th>\n",
       "      <th>owndvd</th>\n",
       "      <th>commutepublic</th>\n",
       "      <th>response_03</th>\n",
       "      <th>commutemotorcycle</th>\n",
       "      <th>commutebike</th>\n",
       "      <th>...</th>\n",
       "      <th>cardtype</th>\n",
       "      <th>agecat</th>\n",
       "      <th>addresscat</th>\n",
       "      <th>empcat</th>\n",
       "      <th>jobsat</th>\n",
       "      <th>region</th>\n",
       "      <th>employ</th>\n",
       "      <th>card2tenure</th>\n",
       "      <th>cardtenure</th>\n",
       "      <th>address</th>\n",
       "    </tr>\n",
       "  </thead>\n",
       "  <tbody>\n",
       "    <tr>\n",
       "      <th>N</th>\n",
       "      <td>5000.0</td>\n",
       "      <td>5000.0</td>\n",
       "      <td>5000.0</td>\n",
       "      <td>5000.0</td>\n",
       "      <td>5000.0</td>\n",
       "      <td>5000.0</td>\n",
       "      <td>5000.0</td>\n",
       "      <td>5000.0</td>\n",
       "      <td>5000.0</td>\n",
       "      <td>5000.0</td>\n",
       "      <td>...</td>\n",
       "      <td>5000.0</td>\n",
       "      <td>5000.0</td>\n",
       "      <td>5000.0</td>\n",
       "      <td>5000.0</td>\n",
       "      <td>5000.0</td>\n",
       "      <td>5000.0</td>\n",
       "      <td>5000.0</td>\n",
       "      <td>5000.0</td>\n",
       "      <td>5000.0</td>\n",
       "      <td>5000.0</td>\n",
       "    </tr>\n",
       "    <tr>\n",
       "      <th>NMISS</th>\n",
       "      <td>0.0</td>\n",
       "      <td>0.0</td>\n",
       "      <td>0.0</td>\n",
       "      <td>0.0</td>\n",
       "      <td>0.0</td>\n",
       "      <td>0.0</td>\n",
       "      <td>0.0</td>\n",
       "      <td>0.0</td>\n",
       "      <td>0.0</td>\n",
       "      <td>0.0</td>\n",
       "      <td>...</td>\n",
       "      <td>0.0</td>\n",
       "      <td>0.0</td>\n",
       "      <td>0.0</td>\n",
       "      <td>0.0</td>\n",
       "      <td>0.0</td>\n",
       "      <td>0.0</td>\n",
       "      <td>0.0</td>\n",
       "      <td>0.0</td>\n",
       "      <td>0.0</td>\n",
       "      <td>0.0</td>\n",
       "    </tr>\n",
       "    <tr>\n",
       "      <th>NUNIQUE</th>\n",
       "      <td>2.0</td>\n",
       "      <td>2.0</td>\n",
       "      <td>2.0</td>\n",
       "      <td>2.0</td>\n",
       "      <td>2.0</td>\n",
       "      <td>2.0</td>\n",
       "      <td>2.0</td>\n",
       "      <td>2.0</td>\n",
       "      <td>2.0</td>\n",
       "      <td>2.0</td>\n",
       "      <td>...</td>\n",
       "      <td>4.0</td>\n",
       "      <td>5.0</td>\n",
       "      <td>5.0</td>\n",
       "      <td>5.0</td>\n",
       "      <td>5.0</td>\n",
       "      <td>5.0</td>\n",
       "      <td>52.0</td>\n",
       "      <td>31.0</td>\n",
       "      <td>41.0</td>\n",
       "      <td>57.0</td>\n",
       "    </tr>\n",
       "    <tr>\n",
       "      <th>MODE</th>\n",
       "      <td>1.0</td>\n",
       "      <td>0.0</td>\n",
       "      <td>1.0</td>\n",
       "      <td>0.0</td>\n",
       "      <td>1.0</td>\n",
       "      <td>1.0</td>\n",
       "      <td>0.0</td>\n",
       "      <td>0.0</td>\n",
       "      <td>0.0</td>\n",
       "      <td>0.0</td>\n",
       "      <td>...</td>\n",
       "      <td>4.0</td>\n",
       "      <td>4.0</td>\n",
       "      <td>3.0</td>\n",
       "      <td>2.0</td>\n",
       "      <td>3.0</td>\n",
       "      <td>5.0</td>\n",
       "      <td>0.0</td>\n",
       "      <td>2.0</td>\n",
       "      <td>3.0</td>\n",
       "      <td>0.0</td>\n",
       "    </tr>\n",
       "    <tr>\n",
       "      <th>FREQ</th>\n",
       "      <td>4915.0</td>\n",
       "      <td>4708.0</td>\n",
       "      <td>4664.0</td>\n",
       "      <td>4582.0</td>\n",
       "      <td>4578.0</td>\n",
       "      <td>4568.0</td>\n",
       "      <td>4523.0</td>\n",
       "      <td>4487.0</td>\n",
       "      <td>4487.0</td>\n",
       "      <td>4383.0</td>\n",
       "      <td>...</td>\n",
       "      <td>1260.0</td>\n",
       "      <td>1222.0</td>\n",
       "      <td>1221.0</td>\n",
       "      <td>1180.0</td>\n",
       "      <td>1085.0</td>\n",
       "      <td>1027.0</td>\n",
       "      <td>659.0</td>\n",
       "      <td>304.0</td>\n",
       "      <td>246.0</td>\n",
       "      <td>245.0</td>\n",
       "    </tr>\n",
       "    <tr>\n",
       "      <th>PERCENT</th>\n",
       "      <td>98.3</td>\n",
       "      <td>94.2</td>\n",
       "      <td>93.3</td>\n",
       "      <td>91.6</td>\n",
       "      <td>91.6</td>\n",
       "      <td>91.4</td>\n",
       "      <td>90.5</td>\n",
       "      <td>89.7</td>\n",
       "      <td>89.7</td>\n",
       "      <td>87.7</td>\n",
       "      <td>...</td>\n",
       "      <td>25.2</td>\n",
       "      <td>24.4</td>\n",
       "      <td>24.4</td>\n",
       "      <td>23.6</td>\n",
       "      <td>21.7</td>\n",
       "      <td>20.5</td>\n",
       "      <td>13.2</td>\n",
       "      <td>6.1</td>\n",
       "      <td>4.9</td>\n",
       "      <td>4.9</td>\n",
       "    </tr>\n",
       "  </tbody>\n",
       "</table>\n",
       "<p>6 rows × 83 columns</p>\n",
       "</div>"
      ],
      "text/plain": [
       "          owntv  commutenonmotor   owncd  response_01  ownvcr  owndvd  \\\n",
       "N        5000.0           5000.0  5000.0       5000.0  5000.0  5000.0   \n",
       "NMISS       0.0              0.0     0.0          0.0     0.0     0.0   \n",
       "NUNIQUE     2.0              2.0     2.0          2.0     2.0     2.0   \n",
       "MODE        1.0              0.0     1.0          0.0     1.0     1.0   \n",
       "FREQ     4915.0           4708.0  4664.0       4582.0  4578.0  4568.0   \n",
       "PERCENT    98.3             94.2    93.3         91.6    91.6    91.4   \n",
       "\n",
       "         commutepublic  response_03  commutemotorcycle  commutebike  ...  \\\n",
       "N               5000.0       5000.0             5000.0       5000.0  ...   \n",
       "NMISS              0.0          0.0                0.0          0.0  ...   \n",
       "NUNIQUE            2.0          2.0                2.0          2.0  ...   \n",
       "MODE               0.0          0.0                0.0          0.0  ...   \n",
       "FREQ            4523.0       4487.0             4487.0       4383.0  ...   \n",
       "PERCENT           90.5         89.7               89.7         87.7  ...   \n",
       "\n",
       "         cardtype  agecat  addresscat  empcat  jobsat  region  employ  \\\n",
       "N          5000.0  5000.0      5000.0  5000.0  5000.0  5000.0  5000.0   \n",
       "NMISS         0.0     0.0         0.0     0.0     0.0     0.0     0.0   \n",
       "NUNIQUE       4.0     5.0         5.0     5.0     5.0     5.0    52.0   \n",
       "MODE          4.0     4.0         3.0     2.0     3.0     5.0     0.0   \n",
       "FREQ       1260.0  1222.0      1221.0  1180.0  1085.0  1027.0   659.0   \n",
       "PERCENT      25.2    24.4        24.4    23.6    21.7    20.5    13.2   \n",
       "\n",
       "         card2tenure  cardtenure  address  \n",
       "N             5000.0      5000.0   5000.0  \n",
       "NMISS            0.0         0.0      0.0  \n",
       "NUNIQUE         31.0        41.0     57.0  \n",
       "MODE             2.0         3.0      0.0  \n",
       "FREQ           304.0       246.0    245.0  \n",
       "PERCENT          6.1         4.9      4.9  \n",
       "\n",
       "[6 rows x 83 columns]"
      ]
     },
     "execution_count": 32,
     "metadata": {},
     "output_type": "execute_result"
    }
   ],
   "source": [
    "data[cat_var].apply(categorical_summary).sort_values(by='PERCENT', axis=1, ascending=False).round(1)"
   ]
  },
  {
   "cell_type": "markdown",
   "metadata": {},
   "source": [
    "### Handling Outliers\n",
    "**There are some extreme high / low value which need to be rectified so that it will not have impact on our model**"
   ]
  },
  {
   "cell_type": "code",
   "execution_count": 33,
   "metadata": {},
   "outputs": [],
   "source": [
    "data[conti_var] = data[conti_var].apply(lambda x: outlier_capping(x))"
   ]
  },
  {
   "cell_type": "markdown",
   "metadata": {},
   "source": [
    "### Handling Missing Values"
   ]
  },
  {
   "cell_type": "code",
   "execution_count": 34,
   "metadata": {
    "scrolled": true
   },
   "outputs": [
    {
     "name": "stdout",
     "output_type": "stream",
     "text": [
      "townsize \t 2 \t 0.0\n",
      "lncreddebt \t 1 \t 0.0\n",
      "lnothdebt \t 1 \t 0.0\n",
      "commutetime \t 2 \t 0.0\n",
      "longten \t 3 \t 0.0\n",
      "lnlongten \t 3 \t 0.0\n",
      "lntollmon \t 2622 \t 52.0\n",
      "lntollten \t 2622 \t 52.0\n",
      "lnequipmon \t 3296 \t 66.0\n",
      "lnequipten \t 3296 \t 66.0\n",
      "lncardmon \t 1419 \t 28.0\n",
      "cardten \t 2 \t 0.0\n",
      "lncardten \t 1422 \t 28.0\n",
      "lnwiremon \t 3656 \t 73.0\n",
      "lnwireten \t 3656 \t 73.0\n"
     ]
    }
   ],
   "source": [
    "# Missing values and their percentage\n",
    "for col in data.columns:\n",
    "    if int(data[col].isna().sum()) > 0:\n",
    "        print(col, '\\t', round(data[col].isna().sum()), '\\t', round(data[col].isna().sum()/len(data) *100))"
   ]
  },
  {
   "cell_type": "code",
   "execution_count": 35,
   "metadata": {},
   "outputs": [],
   "source": [
    "# most of the missing values are in log transformation\n",
    "log = ['lncardmon','lncardten','lncreddebt','lnequipmon','lnequipten','lninc','lnlongmon','lnlongten','lnothdebt','lntollmon',\n",
    "     'lntollten','lnwiremon','lnwireten']\n",
    "\n",
    "# Dropping log function\n",
    "data.drop(log, axis=1, inplace=True)"
   ]
  },
  {
   "cell_type": "code",
   "execution_count": 36,
   "metadata": {},
   "outputs": [],
   "source": [
    "# updating continuous variable\n",
    "conti_var = data.select_dtypes(include='number').columns"
   ]
  },
  {
   "cell_type": "code",
   "execution_count": 37,
   "metadata": {
    "scrolled": true
   },
   "outputs": [
    {
     "name": "stdout",
     "output_type": "stream",
     "text": [
      "townsize \t 2 \t 0.0\n",
      "commutetime \t 2 \t 0.0\n",
      "longten \t 3 \t 0.0\n",
      "cardten \t 2 \t 0.0\n"
     ]
    }
   ],
   "source": [
    "for col in data.columns:\n",
    "    if int(data[col].isna().sum()) > 0:\n",
    "        print(col, '\\t', round(data[col].isna().sum()), '\\t', round(data[col].isna().sum()/len(data) *100))"
   ]
  },
  {
   "cell_type": "code",
   "execution_count": 38,
   "metadata": {},
   "outputs": [
    {
     "name": "stdout",
     "output_type": "stream",
     "text": [
      "Missing values in continuous data: 7\n",
      "Missing values in categorical data: 2\n"
     ]
    }
   ],
   "source": [
    "# Total number of missing values in continuous and categorical data\n",
    "print (\"Missing values in continuous data:\", data[conti_var].isnull().sum().values.sum())\n",
    "print (\"Missing values in categorical data:\", data[cat_var].isnull().sum().values.sum())"
   ]
  },
  {
   "cell_type": "code",
   "execution_count": 39,
   "metadata": {},
   "outputs": [],
   "source": [
    "# Imputing numerical missing data with mean() and categorical missing data with mode()\n",
    "data = data.apply(missing_impute)"
   ]
  },
  {
   "cell_type": "code",
   "execution_count": 40,
   "metadata": {
    "scrolled": false
   },
   "outputs": [
    {
     "name": "stdout",
     "output_type": "stream",
     "text": [
      "Missing values in continuous data: 0\n",
      "Missing values in categorical data: 0\n"
     ]
    }
   ],
   "source": [
    "# Total number of missing values in continuous and categorical data\n",
    "print (\"Missing values in continuous data:\", data[conti_var].isnull().sum().values.sum())\n",
    "print (\"Missing values in categorical data:\", data[cat_var].isnull().sum().values.sum())"
   ]
  },
  {
   "cell_type": "markdown",
   "metadata": {},
   "source": [
    "#### Recreating log transformation"
   ]
  },
  {
   "cell_type": "code",
   "execution_count": 41,
   "metadata": {},
   "outputs": [
    {
     "name": "stdout",
     "output_type": "stream",
     "text": [
      "['ln_longmon', 'ln_longten', 'ln_tollten', 'ln_tollmon', 'ln_wiremon', 'ln_wireten', 'ln_equipmon', 'ln_equipten', 'ln_cardmon', 'ln_cardten', 'ln_income', 'ln_creddebt', 'ln_othdebt']\n"
     ]
    }
   ],
   "source": [
    "# recreating log variable that were deleted by making variable normally distributed by applying log transformation\n",
    "transform = ['longmon', 'longten', 'tollten', 'tollmon', 'wiremon', 'wireten',  \n",
    "             'equipmon', 'equipten', 'cardmon', 'cardten', 'income', 'creddebt', 'othdebt']\n",
    "\n",
    "new_log = []\n",
    "for i in transform:\n",
    "    col = 'ln_'+ i\n",
    "    new_log.append(col)\n",
    "    data[col] = np.log(data[i]+1)\n",
    "    \n",
    "print(new_log)"
   ]
  },
  {
   "cell_type": "markdown",
   "metadata": {},
   "source": [
    "### EDA"
   ]
  },
  {
   "cell_type": "code",
   "execution_count": 42,
   "metadata": {
    "scrolled": false
   },
   "outputs": [
    {
     "data": {
      "image/png": "[encoded data removed]",
      "text/plain": [
       "<Figure size 1080x720 with 12 Axes>"
      ]
     },
     "metadata": {
      "needs_background": "light"
     },
     "output_type": "display_data"
    }
   ],
   "source": [
    "plt_cont_cols = ['age', 'ed', 'employ', 'income', 'debtinc', 'creddebt', 'othdebt', 'carvalue', 'spoused', 'reside', \n",
    "                 'pets', 'ln_total_spent']\n",
    "\n",
    "plt.figure(figsize = (15,10))\n",
    "for i, col in enumerate(plt_cont_cols):\n",
    "    plt.subplot(3, 4, i+1)\n",
    "    plt.subplots_adjust(hspace = 1, wspace = .5)\n",
    "    sns.distplot(data[col])\n",
    "    plt.xticks(rotation = 90)\n",
    "    plt.tight_layout()"
   ]
  },
  {
   "cell_type": "code",
   "execution_count": 43,
   "metadata": {
    "scrolled": false
   },
   "outputs": [
    {
     "data": {
      "image/png": "[encoded data removed]",
      "text/plain": [
       "<Figure size 1080x720 with 16 Axes>"
      ]
     },
     "metadata": {
      "needs_background": "light"
     },
     "output_type": "display_data"
    }
   ],
   "source": [
    "plt_cat_cols = ['region','addresscat','agecat','gender','jobcat','commute','carown','cartype','card','cardtype','card2',\n",
    "                'card2type','reason','response_01','response_02','response_03']\n",
    "\n",
    "plt.figure(figsize = (15,10))\n",
    "for i, col in enumerate(plt_cat_cols):\n",
    "    plt.subplot(4, 4, i+1)\n",
    "    plt.subplots_adjust(hspace = 1, wspace = .5)\n",
    "    sns.barplot(x = data[col], y = data.total_spent)\n",
    "    plt.xticks(rotation = 90)\n",
    "    plt.tight_layout()"
   ]
  },
  {
   "cell_type": "markdown",
   "metadata": {},
   "source": [
    "####  Analysis:\n",
    "\n",
    "- Total Spent is maximum in region 5 \n",
    "- Male spending is more than female\n",
    "- Job category 3 has maximum Total Spent\n",
    "- Total spent is more for those who own a car\n",
    "\n",
    "- People who bought the card for convenience have high total spent\n",
    "- American Express card total spent is maximum than card1 and card2\n",
    "- Total spent for people who commutes by Motorcycle is high\n",
    "- People with voice mail service have maximum total spent\n",
    "- Total spent is high for those who uses 'cable modem' and 'other' type of internet services\n",
    "- Response to product offer 3 is higher"
   ]
  },
  {
   "cell_type": "markdown",
   "metadata": {},
   "source": [
    "### Dropping the variables based on the data audit report (near zero variance, higly correlated variables)"
   ]
  },
  {
   "cell_type": "code",
   "execution_count": 44,
   "metadata": {},
   "outputs": [],
   "source": [
    "cor = data.corr()\n",
    "cor.to_excel('correlation.xlsx')"
   ]
  },
  {
   "cell_type": "markdown",
   "metadata": {},
   "source": [
    "**Finding the correlation among the X variables**"
   ]
  },
  {
   "cell_type": "code",
   "execution_count": 45,
   "metadata": {},
   "outputs": [],
   "source": [
    "new_cor = cor.round(2).unstack().reset_index()\n",
    "new_cor.rename(columns={0:'correlation'}, inplace=True)"
   ]
  },
  {
   "cell_type": "code",
   "execution_count": 46,
   "metadata": {},
   "outputs": [
    {
     "name": "stdout",
     "output_type": "stream",
     "text": [
      "['address', 'addresscat', 'age', 'agecat', 'callcard', 'carcatvalue', 'card2tenure', 'card2tenurecat', 'cardmon', 'cardten', 'cardtenure', 'cardtenurecat', 'carvalue', 'commute', 'commutecat', 'creddebt', 'ed', 'edcat', 'empcat', 'employ', 'equip', 'equipmon', 'equipten', 'inccat', 'income', 'ln_cardmon', 'ln_cardten', 'ln_creddebt', 'ln_equipmon', 'ln_equipten', 'ln_income', 'ln_longmon', 'ln_longten', 'ln_othdebt', 'ln_tollmon', 'ln_tollten', 'ln_total_spent', 'ln_wiremon', 'ln_wireten', 'longmon', 'longten', 'marital', 'othdebt', 'pets', 'pets_freshfish', 'spoused', 'spousedcat', 'tenure', 'tollfree', 'tollmon', 'tollten', 'total_spent', 'wireless', 'wiremon', 'wireten']\n"
     ]
    }
   ],
   "source": [
    "high_corr = list(set(new_cor.loc[(abs(new_cor.correlation) > 0.8) & (new_cor.level_0 != new_cor.level_1)].level_0))\n",
    "high_corr.sort()\n",
    "print(high_corr)"
   ]
  },
  {
   "cell_type": "code",
   "execution_count": 47,
   "metadata": {
    "scrolled": false
   },
   "outputs": [
    {
     "data": {
      "image/png": "[encoded data removed]",
      "text/plain": [
       "<Figure size 1080x720 with 2 Axes>"
      ]
     },
     "metadata": {
      "needs_background": "light"
     },
     "output_type": "display_data"
    }
   ],
   "source": [
    "plt.figure(figsize = (15,10))\n",
    "sns.heatmap(data[high_corr].corr())\n",
    "plt.show()"
   ]
  },
  {
   "cell_type": "code",
   "execution_count": 48,
   "metadata": {
    "scrolled": true
   },
   "outputs": [
    {
     "name": "stdout",
     "output_type": "stream",
     "text": [
      "nominal:  ['address', 'callcard', 'commute', 'commutecat', 'equip', 'marital', 'tollfree', 'wireless']\n",
      "ordinal:  ['addresscat', 'agecat', 'carcatvalue', 'card2tenure', 'card2tenurecat', 'cardtenure', 'cardtenurecat', 'edcat', 'empcat', 'employ', 'inccat', 'spousedcat']\n",
      "continuous:  ['age', 'cardmon', 'cardten', 'carvalue', 'creddebt', 'ed', 'equipmon', 'equipten', 'income', 'ln_cardmon', 'ln_cardten', 'ln_creddebt', 'ln_equipmon', 'ln_equipten', 'ln_income', 'ln_longmon', 'ln_longten', 'ln_othdebt', 'ln_tollmon', 'ln_tollten', 'ln_total_spent', 'ln_wiremon', 'ln_wireten', 'longmon', 'longten', 'othdebt', 'pets', 'pets_freshfish', 'spoused', 'tenure', 'tollmon', 'tollten', 'total_spent', 'wiremon', 'wireten']\n"
     ]
    }
   ],
   "source": [
    "# categorical and continuous columns in highly correlated columns\n",
    "nominal, ordinal, continuous = [],[],[]\n",
    "for i in high_corr:\n",
    "    if i in all_cat_nominal:\n",
    "        nominal.append(i)\n",
    "    elif i in all_cat_ordinal:\n",
    "        ordinal.append(i)\n",
    "    else:\n",
    "        continuous.append(i)\n",
    "print('nominal: ', nominal)\n",
    "print('ordinal: ', ordinal)\n",
    "print('continuous: ', continuous)"
   ]
  },
  {
   "cell_type": "code",
   "execution_count": 49,
   "metadata": {},
   "outputs": [],
   "source": [
    "# Removing categorical variables having numerical variables\n",
    "# also removing (address,employ,cardtenure,card2tenure) these 4 columns(features) have more than 20 catagories.\n",
    "\n",
    "drop = ['address', 'commute', 'equip', 'marital', 'tollfree', 'wireless', 'employ', 'cardtenure', 'card2tenure']"
   ]
  },
  {
   "cell_type": "code",
   "execution_count": 50,
   "metadata": {},
   "outputs": [],
   "source": [
    "data.drop(drop, axis=1, inplace=True)"
   ]
  },
  {
   "cell_type": "code",
   "execution_count": 51,
   "metadata": {},
   "outputs": [
    {
     "name": "stdout",
     "output_type": "stream",
     "text": [
      "['longmon', 'longten', 'tollten', 'tollmon', 'wiremon', 'wireten', 'equipmon', 'equipten', 'cardmon', 'cardten', 'income', 'creddebt', 'othdebt']\n"
     ]
    }
   ],
   "source": [
    "print(transform)"
   ]
  },
  {
   "cell_type": "code",
   "execution_count": 52,
   "metadata": {},
   "outputs": [],
   "source": [
    "# deleting redundant variables, as log transformation is already present    \n",
    "data.drop(transform, axis=1, inplace=True)"
   ]
  },
  {
   "cell_type": "code",
   "execution_count": 53,
   "metadata": {
    "scrolled": true
   },
   "outputs": [
    {
     "data": {
      "text/plain": [
       "(5000, 106)"
      ]
     },
     "execution_count": 53,
     "metadata": {},
     "output_type": "execute_result"
    }
   ],
   "source": [
    "data.shape"
   ]
  },
  {
   "cell_type": "markdown",
   "metadata": {},
   "source": [
    "### Dummy creation for categorical data"
   ]
  },
  {
   "cell_type": "markdown",
   "metadata": {},
   "source": [
    "**Separating nominal and ordinal variables**"
   ]
  },
  {
   "cell_type": "code",
   "execution_count": 54,
   "metadata": {},
   "outputs": [],
   "source": [
    "# Updating catagorical variables.\n",
    "cat_var = list(set(data.columns).intersection(all_cat_var))\n",
    "cat_ordinal = list(set(data[cat_var].columns).intersection(all_cat_ordinal))\n",
    "cat_ordinal.sort()\n",
    "cat_nominal = list(set(data[cat_var].columns).intersection(all_cat_nominal))\n",
    "cat_nominal.sort()"
   ]
  },
  {
   "cell_type": "code",
   "execution_count": 55,
   "metadata": {},
   "outputs": [
    {
     "name": "stdout",
     "output_type": "stream",
     "text": [
      "catagorical ordinal features : \n",
      "['addresscat', 'agecat', 'carcatvalue', 'card2tenurecat', 'cardtenurecat', 'cars', 'edcat', 'empcat', 'inccat', 'jobsat', 'spousedcat', 'townsize']\n",
      " \n",
      "catagorical nominal features : \n",
      "['active', 'bfast', 'callcard', 'callid', 'callwait', 'carbought', 'carbuy', 'card', 'card2', 'card2benefit', 'card2fee', 'card2type', 'cardbenefit', 'cardfee', 'cardtype', 'carown', 'cartype', 'churn', 'commutebike', 'commutebus', 'commutecar', 'commutecarpool', 'commutecat', 'commutemotorcycle', 'commutenonmotor', 'commutepublic', 'commuterail', 'commutewalk', 'confer', 'default', 'ebill', 'forward', 'gender', 'homeown', 'hometype', 'internet', 'jobcat', 'multline', 'news', 'owncd', 'owndvd', 'ownfax', 'owngame', 'ownipod', 'ownpc', 'ownpda', 'owntv', 'ownvcr', 'pager', 'polcontrib', 'polparty', 'polview', 'reason', 'region', 'response_01', 'response_02', 'response_03', 'retire', 'telecommute', 'union', 'voice', 'vote']\n"
     ]
    }
   ],
   "source": [
    "print('catagorical ordinal features : ')\n",
    "print(cat_ordinal)\n",
    "print(' ')\n",
    "print('catagorical nominal features : ')\n",
    "print(cat_nominal)"
   ]
  },
  {
   "cell_type": "code",
   "execution_count": 56,
   "metadata": {
    "scrolled": true
   },
   "outputs": [
    {
     "name": "stdout",
     "output_type": "stream",
     "text": [
      "dummies variables with uniques\n",
      "bfast \t 3\n",
      "card \t 5\n",
      "card2 \t 5\n",
      "card2benefit \t 4\n",
      "card2type \t 4\n",
      "cardbenefit \t 4\n",
      "cardtype \t 4\n",
      "commutecat \t 5\n",
      "hometype \t 4\n",
      "internet \t 5\n",
      "jobcat \t 6\n",
      "polview \t 7\n",
      "reason \t 5\n",
      "region \t 5\n"
     ]
    }
   ],
   "source": [
    "# Get the dummies for nominal variables, other than binomial\n",
    "cat_dummy = []\n",
    "print('dummies variables with uniques')\n",
    "for i in cat_nominal:\n",
    "    if (data[i].nunique() > 2):\n",
    "        cat_dummy.append(i)\n",
    "        print(i, '\\t', data[i].nunique())"
   ]
  },
  {
   "cell_type": "code",
   "execution_count": 57,
   "metadata": {},
   "outputs": [],
   "source": [
    "# Creating Dummy Variables for categorical variables\n",
    "for col in cat_dummy:\n",
    "    data = dummy(data, col)"
   ]
  },
  {
   "cell_type": "code",
   "execution_count": 58,
   "metadata": {
    "scrolled": false
   },
   "outputs": [
    {
     "data": {
      "text/plain": [
       "(5000, 144)"
      ]
     },
     "execution_count": 58,
     "metadata": {},
     "output_type": "execute_result"
    }
   ],
   "source": [
    "data.shape"
   ]
  },
  {
   "cell_type": "code",
   "execution_count": 59,
   "metadata": {
    "scrolled": false
   },
   "outputs": [
    {
     "data": {
      "text/html": [
       "<div>\n",
       "<style scoped>\n",
       "    .dataframe tbody tr th:only-of-type {\n",
       "        vertical-align: middle;\n",
       "    }\n",
       "\n",
       "    .dataframe tbody tr th {\n",
       "        vertical-align: top;\n",
       "    }\n",
       "\n",
       "    .dataframe thead th {\n",
       "        text-align: right;\n",
       "    }\n",
       "</style>\n",
       "<table border=\"1\" class=\"dataframe\">\n",
       "  <thead>\n",
       "    <tr style=\"text-align: right;\">\n",
       "      <th></th>\n",
       "      <th>townsize</th>\n",
       "      <th>gender</th>\n",
       "      <th>age</th>\n",
       "      <th>agecat</th>\n",
       "      <th>ed</th>\n",
       "      <th>edcat</th>\n",
       "      <th>union</th>\n",
       "      <th>empcat</th>\n",
       "      <th>retire</th>\n",
       "      <th>inccat</th>\n",
       "      <th>...</th>\n",
       "      <th>polview_6</th>\n",
       "      <th>polview_7</th>\n",
       "      <th>reason_1</th>\n",
       "      <th>reason_2</th>\n",
       "      <th>reason_3</th>\n",
       "      <th>reason_4</th>\n",
       "      <th>region_2</th>\n",
       "      <th>region_3</th>\n",
       "      <th>region_4</th>\n",
       "      <th>region_5</th>\n",
       "    </tr>\n",
       "  </thead>\n",
       "  <tbody>\n",
       "    <tr>\n",
       "      <th>0</th>\n",
       "      <td>4.0</td>\n",
       "      <td>1</td>\n",
       "      <td>20</td>\n",
       "      <td>2</td>\n",
       "      <td>15</td>\n",
       "      <td>3</td>\n",
       "      <td>1</td>\n",
       "      <td>1</td>\n",
       "      <td>0</td>\n",
       "      <td>2</td>\n",
       "      <td>...</td>\n",
       "      <td>1</td>\n",
       "      <td>0</td>\n",
       "      <td>0</td>\n",
       "      <td>0</td>\n",
       "      <td>0</td>\n",
       "      <td>0</td>\n",
       "      <td>0</td>\n",
       "      <td>0</td>\n",
       "      <td>0</td>\n",
       "      <td>0</td>\n",
       "    </tr>\n",
       "    <tr>\n",
       "      <th>1</th>\n",
       "      <td>1.0</td>\n",
       "      <td>0</td>\n",
       "      <td>22</td>\n",
       "      <td>2</td>\n",
       "      <td>17</td>\n",
       "      <td>4</td>\n",
       "      <td>0</td>\n",
       "      <td>1</td>\n",
       "      <td>0</td>\n",
       "      <td>1</td>\n",
       "      <td>...</td>\n",
       "      <td>0</td>\n",
       "      <td>0</td>\n",
       "      <td>0</td>\n",
       "      <td>0</td>\n",
       "      <td>0</td>\n",
       "      <td>0</td>\n",
       "      <td>0</td>\n",
       "      <td>0</td>\n",
       "      <td>0</td>\n",
       "      <td>1</td>\n",
       "    </tr>\n",
       "  </tbody>\n",
       "</table>\n",
       "<p>2 rows × 144 columns</p>\n",
       "</div>"
      ],
      "text/plain": [
       "   townsize  gender  age  agecat  ed  edcat  union  empcat  retire  inccat  \\\n",
       "0       4.0       1   20       2  15      3      1       1       0       2   \n",
       "1       1.0       0   22       2  17      4      0       1       0       1   \n",
       "\n",
       "   ...  polview_6  polview_7  reason_1  reason_2  reason_3  reason_4  \\\n",
       "0  ...          1          0         0         0         0         0   \n",
       "1  ...          0          0         0         0         0         0   \n",
       "\n",
       "   region_2  region_3  region_4  region_5  \n",
       "0         0         0         0         0  \n",
       "1         0         0         0         1  \n",
       "\n",
       "[2 rows x 144 columns]"
      ]
     },
     "execution_count": 59,
     "metadata": {},
     "output_type": "execute_result"
    }
   ],
   "source": [
    "data.head(2)"
   ]
  },
  {
   "cell_type": "code",
   "execution_count": 60,
   "metadata": {},
   "outputs": [
    {
     "name": "stdout",
     "output_type": "stream",
     "text": [
      "<class 'pandas.core.frame.DataFrame'>\n",
      "RangeIndex: 5000 entries, 0 to 4999\n",
      "Columns: 144 entries, townsize to region_5\n",
      "dtypes: float64(19), int64(73), uint8(52)\n",
      "memory usage: 3.8 MB\n"
     ]
    }
   ],
   "source": [
    "data.info()"
   ]
  },
  {
   "cell_type": "markdown",
   "metadata": {},
   "source": [
    "## Data Preparation (Feature Engineering – Feature Reduction)"
   ]
  },
  {
   "cell_type": "markdown",
   "metadata": {},
   "source": [
    "**To check co-relation of Y & X(numerical features) and selecting the top features which are highly correlated to Y variable**"
   ]
  },
  {
   "cell_type": "code",
   "execution_count": 61,
   "metadata": {
    "scrolled": true
   },
   "outputs": [
    {
     "data": {
      "text/html": [
       "<div>\n",
       "<style scoped>\n",
       "    .dataframe tbody tr th:only-of-type {\n",
       "        vertical-align: middle;\n",
       "    }\n",
       "\n",
       "    .dataframe tbody tr th {\n",
       "        vertical-align: top;\n",
       "    }\n",
       "\n",
       "    .dataframe thead th {\n",
       "        text-align: right;\n",
       "    }\n",
       "</style>\n",
       "<table border=\"1\" class=\"dataframe\">\n",
       "  <thead>\n",
       "    <tr style=\"text-align: right;\">\n",
       "      <th></th>\n",
       "      <th>Column_Names</th>\n",
       "      <th>r_values</th>\n",
       "      <th>r_values_abs</th>\n",
       "    </tr>\n",
       "  </thead>\n",
       "  <tbody>\n",
       "    <tr>\n",
       "      <th>78</th>\n",
       "      <td>ln_total_spent</td>\n",
       "      <td>1.000000</td>\n",
       "      <td>1.000000</td>\n",
       "    </tr>\n",
       "    <tr>\n",
       "      <th>77</th>\n",
       "      <td>total_spent</td>\n",
       "      <td>0.909426</td>\n",
       "      <td>0.909426</td>\n",
       "    </tr>\n",
       "    <tr>\n",
       "      <th>89</th>\n",
       "      <td>ln_income</td>\n",
       "      <td>0.404441</td>\n",
       "      <td>0.404441</td>\n",
       "    </tr>\n",
       "    <tr>\n",
       "      <th>9</th>\n",
       "      <td>inccat</td>\n",
       "      <td>0.381432</td>\n",
       "      <td>0.381432</td>\n",
       "    </tr>\n",
       "    <tr>\n",
       "      <th>29</th>\n",
       "      <td>carvalue</td>\n",
       "      <td>0.308661</td>\n",
       "      <td>0.308661</td>\n",
       "    </tr>\n",
       "  </tbody>\n",
       "</table>\n",
       "</div>"
      ],
      "text/plain": [
       "      Column_Names  r_values  r_values_abs\n",
       "78  ln_total_spent  1.000000      1.000000\n",
       "77     total_spent  0.909426      0.909426\n",
       "89       ln_income  0.404441      0.404441\n",
       "9           inccat  0.381432      0.381432\n",
       "29        carvalue  0.308661      0.308661"
      ]
     },
     "execution_count": 61,
     "metadata": {},
     "output_type": "execute_result"
    }
   ],
   "source": [
    "column_names = pd.Series(list(data.corrwith(data.ln_total_spent).index), name='Column_Names')\n",
    "r_values =  pd.Series(list(data.corrwith(data.ln_total_spent)), name='r_values')\n",
    "corr = pd.concat([column_names, r_values], axis=1)\n",
    "corr['r_values_abs'] = np.abs(corr.r_values)\n",
    "corr = corr.sort_values(by=['r_values_abs'], ascending=False)\n",
    "corr.head()"
   ]
  },
  {
   "cell_type": "code",
   "execution_count": 62,
   "metadata": {},
   "outputs": [
    {
     "name": "stdout",
     "output_type": "stream",
     "text": [
      "['carvalue', 'inccat', 'ln_othdebt', 'ln_income', 'ln_creddebt', 'carcatvalue']\n"
     ]
    }
   ],
   "source": [
    "# Selecting top  features having co-relation greater than 0.2 \n",
    "corr_cols = list(set(corr[corr.r_values_abs >= 0.2]['Column_Names']).difference(['ln_total_spent','total_spent']))\n",
    "print(corr_cols)"
   ]
  },
  {
   "cell_type": "markdown",
   "metadata": {},
   "source": [
    "### Feature Engineering"
   ]
  },
  {
   "cell_type": "code",
   "execution_count": 63,
   "metadata": {},
   "outputs": [],
   "source": [
    "# Separating features (X-variables) & Y(dependent) variable into 2 separate dataframe\n",
    "features = data[data.columns.difference(['ln_total_spent', 'total_spent'])]\n",
    "target = data['ln_total_spent']"
   ]
  },
  {
   "cell_type": "markdown",
   "metadata": {},
   "source": [
    "#### Feature Selection based on Importance using F - Regression"
   ]
  },
  {
   "cell_type": "code",
   "execution_count": 64,
   "metadata": {
    "scrolled": true
   },
   "outputs": [
    {
     "name": "stdout",
     "output_type": "stream",
     "text": [
      "['addresscat', 'agecat', 'bfast_2', 'bfast_3', 'callid', 'callwait', 'carcatvalue', 'card2_2', 'card2_3', 'card2_4', 'card2_5', 'card2benefit_3', 'card2tenurecat', 'card_2', 'card_3', 'card_4', 'card_5', 'cardtenurecat', 'carown', 'carvalue', 'commutebike', 'confer', 'ebill', 'ed', 'edcat', 'empcat', 'forward', 'gender', 'homeown', 'hometype_2', 'hometype_3', 'hourstv', 'inccat', 'internet_3', 'internet_4', 'jobcat_2', 'jobcat_3', 'jobsat', 'ln_cardten', 'ln_creddebt', 'ln_equipmon', 'ln_equipten', 'ln_income', 'ln_longmon', 'ln_longten', 'ln_othdebt', 'ln_tollmon', 'ln_tollten', 'ln_wiremon', 'ln_wireten', 'multline', 'news', 'owncd', 'owndvd', 'ownfax', 'owngame', 'ownipod', 'ownpc', 'ownpda', 'owntv', 'ownvcr', 'pager', 'polcontrib', 'polview_4', 'polview_6', 'reason_1', 'reason_2', 'reason_3', 'reason_4', 'region_5', 'response_02', 'response_03', 'retire', 'spoused', 'spousedcat', 'tenure', 'voice', 'vote']\n"
     ]
    }
   ],
   "source": [
    "from sklearn.feature_selection import f_regression\n",
    "\n",
    "# Performing f-test for each x variable with y\n",
    "f_values, p_values = f_regression(features, target)\n",
    "\n",
    "# Storing data as a DataFrame\n",
    "fr_df = pd.DataFrame({'Features':features.columns, 'F_values':f_values, 'p_values':p_values.round(3)})\n",
    "\n",
    "# Getting significant variables at 90% : p = 0.10\n",
    "fr_df = fr_df.loc[fr_df.p_values <= 0.1].reset_index(drop = True)\n",
    "\n",
    "f_cols = list(fr_df.Features)\n",
    "print(f_cols)"
   ]
  },
  {
   "cell_type": "markdown",
   "metadata": {},
   "source": [
    "### Recursive Feature Elimination"
   ]
  },
  {
   "cell_type": "code",
   "execution_count": 65,
   "metadata": {},
   "outputs": [
    {
     "name": "stdout",
     "output_type": "stream",
     "text": [
      "['bfast_2', 'callcard', 'carbuy', 'carcatvalue', 'card2_2', 'card2_3', 'card2_4', 'card2_5', 'card2benefit_3', 'card2fee', 'card_2', 'card_3', 'card_4', 'card_5', 'cardfee', 'cardtenurecat', 'cardtype_2', 'cartype', 'churn', 'commutebike', 'commutebus', 'commutecar', 'commutecarpool', 'commutecat_4', 'commutecat_5', 'commutenonmotor', 'commuterail', 'default', 'ebill', 'edcat', 'forward', 'gender', 'hometype_3', 'inccat', 'internet_1', 'internet_3', 'internet_4', 'jobcat_4', 'jobcat_5', 'jobcat_6', 'ln_cardmon', 'ln_income', 'ln_longten', 'ln_wiremon', 'ln_wireten', 'owndvd', 'ownfax', 'ownpc', 'owntv', 'ownvcr', 'pager', 'pets_birds', 'pets_reptiles', 'pets_saltfish', 'polview_3', 'polview_4', 'polview_5', 'polview_6', 'polview_7', 'reason_1', 'reason_2', 'reason_3', 'reason_4', 'region_2', 'region_4', 'region_5', 'response_02', 'response_03', 'telecommute', 'union', 'voice']\n"
     ]
    }
   ],
   "source": [
    "from sklearn.feature_selection import RFE\n",
    "from sklearn.linear_model import LinearRegression\n",
    "\n",
    "# Using LinearRegressor as an estimator\n",
    "rf_est = LinearRegression()\n",
    "\n",
    "# Using RFE to get importance of each variable\n",
    "rfe = RFE(estimator = rf_est)\n",
    "rfe.fit(features, target)\n",
    "\n",
    "# Getting important features\n",
    "rfe_cols = list(features.columns[rfe.support_])\n",
    "print(rfe_cols)"
   ]
  },
  {
   "cell_type": "markdown",
   "metadata": {},
   "source": [
    "###  VIF (Variance Inflation Factor): Check the multicollinieirity for all the variables in the model"
   ]
  },
  {
   "cell_type": "code",
   "execution_count": 66,
   "metadata": {
    "scrolled": false
   },
   "outputs": [
    {
     "name": "stdout",
     "output_type": "stream",
     "text": [
      "no. of combine features:  108\n",
      "['addresscat', 'agecat', 'bfast_2', 'bfast_3', 'callcard', 'callid', 'callwait', 'carbuy', 'carcatvalue', 'card2_2', 'card2_3', 'card2_4', 'card2_5', 'card2benefit_3', 'card2fee', 'card2tenurecat', 'card_2', 'card_3', 'card_4', 'card_5', 'cardfee', 'cardtenurecat', 'cardtype_2', 'carown', 'cartype', 'carvalue', 'churn', 'commutebike', 'commutebus', 'commutecar', 'commutecarpool', 'commutecat_4', 'commutecat_5', 'commutenonmotor', 'commuterail', 'confer', 'default', 'ebill', 'ed', 'edcat', 'empcat', 'forward', 'gender', 'homeown', 'hometype_2', 'hometype_3', 'hourstv', 'inccat', 'internet_1', 'internet_3', 'internet_4', 'jobcat_2', 'jobcat_3', 'jobcat_4', 'jobcat_5', 'jobcat_6', 'jobsat', 'ln_cardmon', 'ln_cardten', 'ln_creddebt', 'ln_equipmon', 'ln_equipten', 'ln_income', 'ln_longmon', 'ln_longten', 'ln_othdebt', 'ln_tollmon', 'ln_tollten', 'ln_wiremon', 'ln_wireten', 'multline', 'news', 'owncd', 'owndvd', 'ownfax', 'owngame', 'ownipod', 'ownpc', 'ownpda', 'owntv', 'ownvcr', 'pager', 'pets_birds', 'pets_reptiles', 'pets_saltfish', 'polcontrib', 'polview_3', 'polview_4', 'polview_5', 'polview_6', 'polview_7', 'reason_1', 'reason_2', 'reason_3', 'reason_4', 'region_2', 'region_4', 'region_5', 'response_02', 'response_03', 'retire', 'spoused', 'spousedcat', 'telecommute', 'tenure', 'union', 'voice', 'vote']\n"
     ]
    }
   ],
   "source": [
    "# combining all important variables\n",
    "combine_feature = f_cols + rfe_cols\n",
    "combine_feature = list(set(combine_feature))\n",
    "combine_feature.sort()\n",
    "print('no. of combine features: ', len(combine_feature))\n",
    "print(combine_feature)"
   ]
  },
  {
   "cell_type": "code",
   "execution_count": 67,
   "metadata": {
    "scrolled": false
   },
   "outputs": [
    {
     "name": "stdout",
     "output_type": "stream",
     "text": [
      "ln_total_spent ~ addresscat + agecat + bfast_2 + bfast_3 + callcard + callid + callwait + carbuy + carcatvalue + card2_2 + card2_3 + card2_4 + card2_5 + card2benefit_3 + card2fee + card2tenurecat + card_2 + card_3 + card_4 + card_5 + cardfee + cardtenurecat + cardtype_2 + carown + cartype + carvalue + churn + commutebike + commutebus + commutecar + commutecarpool + commutecat_4 + commutecat_5 + commutenonmotor + commuterail + confer + default + ebill + ed + edcat + empcat + forward + gender + homeown + hometype_2 + hometype_3 + hourstv + inccat + internet_1 + internet_3 + internet_4 + jobcat_2 + jobcat_3 + jobcat_4 + jobcat_5 + jobcat_6 + jobsat + ln_cardmon + ln_cardten + ln_creddebt + ln_equipmon + ln_equipten + ln_income + ln_longmon + ln_longten + ln_othdebt + ln_tollmon + ln_tollten + ln_wiremon + ln_wireten + multline + news + owncd + owndvd + ownfax + owngame + ownipod + ownpc + ownpda + owntv + ownvcr + pager + pets_birds + pets_reptiles + pets_saltfish + polcontrib + polview_3 + polview_4 + polview_5 + polview_6 + polview_7 + reason_1 + reason_2 + reason_3 + reason_4 + region_2 + region_4 + region_5 + response_02 + response_03 + retire + spoused + spousedcat + telecommute + tenure + union + voice + vote\n"
     ]
    }
   ],
   "source": [
    "# High VIF means information in that variable has already been explained by other X variables present in the model\n",
    "from statsmodels.stats.outliers_influence import variance_inflation_factor\n",
    "from patsy import dmatrices\n",
    "\n",
    "model_param = 'ln_total_spent ~ ' + ' + '.join(combine_feature)\n",
    "print(model_param)"
   ]
  },
  {
   "cell_type": "code",
   "execution_count": 68,
   "metadata": {
    "scrolled": true
   },
   "outputs": [
    {
     "data": {
      "text/html": [
       "<div>\n",
       "<style scoped>\n",
       "    .dataframe tbody tr th:only-of-type {\n",
       "        vertical-align: middle;\n",
       "    }\n",
       "\n",
       "    .dataframe tbody tr th {\n",
       "        vertical-align: top;\n",
       "    }\n",
       "\n",
       "    .dataframe thead th {\n",
       "        text-align: right;\n",
       "    }\n",
       "</style>\n",
       "<table border=\"1\" class=\"dataframe\">\n",
       "  <thead>\n",
       "    <tr style=\"text-align: right;\">\n",
       "      <th></th>\n",
       "      <th>Features</th>\n",
       "      <th>VIF</th>\n",
       "    </tr>\n",
       "  </thead>\n",
       "  <tbody>\n",
       "    <tr>\n",
       "      <th>0</th>\n",
       "      <td>Intercept</td>\n",
       "      <td>140.073426</td>\n",
       "    </tr>\n",
       "    <tr>\n",
       "      <th>1</th>\n",
       "      <td>empcat</td>\n",
       "      <td>4.540285</td>\n",
       "    </tr>\n",
       "    <tr>\n",
       "      <th>2</th>\n",
       "      <td>inccat</td>\n",
       "      <td>4.175495</td>\n",
       "    </tr>\n",
       "    <tr>\n",
       "      <th>3</th>\n",
       "      <td>cardtenurecat</td>\n",
       "      <td>3.295412</td>\n",
       "    </tr>\n",
       "    <tr>\n",
       "      <th>4</th>\n",
       "      <td>addresscat</td>\n",
       "      <td>3.088058</td>\n",
       "    </tr>\n",
       "  </tbody>\n",
       "</table>\n",
       "</div>"
      ],
      "text/plain": [
       "        Features         VIF\n",
       "0      Intercept  140.073426\n",
       "1         empcat    4.540285\n",
       "2         inccat    4.175495\n",
       "3  cardtenurecat    3.295412\n",
       "4     addresscat    3.088058"
      ]
     },
     "execution_count": 68,
     "metadata": {},
     "output_type": "execute_result"
    }
   ],
   "source": [
    "# First taking all the vaiables and iteratively removing variable with higher VIF we got the final eqn as new_eqn\n",
    "\n",
    "# dropping : ln_wiremon + ln_tollmon + ln_equipmon + ln_cardten + ln_longten + ln_income + ed + spousedcat + ln_cardmon +\n",
    "# card2tenurecat + carvalue + tenure + agecat + \n",
    "\n",
    "model_param = ''' ln_total_spent ~ addresscat + bfast_2 + bfast_3 + callcard + callid + callwait + carbuy + \n",
    "carcatvalue + card2_2 + card2_3 + card2_4 + card2_5 + card2benefit_3 + card2fee + card_2 + card_3 + \n",
    "card_4 + card_5 + cardfee + cardtenurecat + cardtype_2 + carown + cartype + churn + commutebike + commutebus + \n",
    "commutecar + commutecarpool + commutecat_4 + commutecat_5 + commutenonmotor + commuterail + confer + default + ebill +\n",
    "edcat + empcat + forward + gender + homeown + hometype_2 + hometype_3 + hourstv + inccat + internet_1 + internet_3 + \n",
    "internet_4 + jobcat_2 + jobcat_3 + jobcat_4 + jobcat_5 + jobcat_6 + jobsat + ln_creddebt + ln_equipten + ln_longmon +  \n",
    "ln_othdebt + ln_tollten + ln_wireten + multline + news + owncd + owndvd + ownfax + owngame + ownipod + ownpc + ownpda + \n",
    "owntv + ownvcr + pager + pets_birds + pets_reptiles + pets_saltfish + polcontrib + polview_3 + polview_4 + polview_5 + \n",
    "polview_6 + polview_7 + reason_1 + reason_2 + reason_3 + reason_4 + region_2 + region_4 + region_5 + response_02 + \n",
    "response_03 + retire + spoused + telecommute + union + voice + vote '''\n",
    "\n",
    "# separate the Y and X variables\n",
    "y, X = dmatrices(model_param, data = data, return_type = 'dataframe')\n",
    "\n",
    "# For each X, calculate VIF and save in dataframe\n",
    "vif = pd.DataFrame()\n",
    "vif['Features'] = X.columns\n",
    "vif['VIF'] = [variance_inflation_factor(X.values, i) for i in range(X.shape[1])]\n",
    "\n",
    "# display the output\n",
    "vif.sort_values('VIF', ascending=False, inplace=True, ignore_index=True)\n",
    "vif.head()"
   ]
  },
  {
   "cell_type": "code",
   "execution_count": 69,
   "metadata": {
    "scrolled": false
   },
   "outputs": [
    {
     "name": "stdout",
     "output_type": "stream",
     "text": [
      "numbers of selected features:  95\n",
      "['addresscat', 'bfast_2', 'bfast_3', 'callcard', 'callid', 'callwait', 'carbuy', 'carcatvalue', 'card2_2', 'card2_3', 'card2_4', 'card2_5', 'card2benefit_3', 'card2fee', 'card_2', 'card_3', 'card_4', 'card_5', 'cardfee', 'cardtenurecat', 'cardtype_2', 'carown', 'cartype', 'churn', 'commutebike', 'commutebus', 'commutecar', 'commutecarpool', 'commutecat_4', 'commutecat_5', 'commutenonmotor', 'commuterail', 'confer', 'default', 'ebill', 'edcat', 'empcat', 'forward', 'gender', 'homeown', 'hometype_2', 'hometype_3', 'hourstv', 'inccat', 'internet_1', 'internet_3', 'internet_4', 'jobcat_2', 'jobcat_3', 'jobcat_4', 'jobcat_5', 'jobcat_6', 'jobsat', 'ln_creddebt', 'ln_equipten', 'ln_longmon', 'ln_othdebt', 'ln_tollten', 'ln_wireten', 'multline', 'news', 'owncd', 'owndvd', 'ownfax', 'owngame', 'ownipod', 'ownpc', 'ownpda', 'owntv', 'ownvcr', 'pager', 'pets_birds', 'pets_reptiles', 'pets_saltfish', 'polcontrib', 'polview_3', 'polview_4', 'polview_5', 'polview_6', 'polview_7', 'reason_1', 'reason_2', 'reason_3', 'reason_4', 'region_2', 'region_4', 'region_5', 'response_02', 'response_03', 'retire', 'spoused', 'telecommute', 'union', 'voice', 'vote']\n"
     ]
    }
   ],
   "source": [
    "# All the features have less than 5 VIF Factor(low Multicollinearity). using these features for model building.\n",
    "vif_cols = list(set(vif.Features).difference(['Intercept']))\n",
    "vif_cols.sort()\n",
    "print('numbers of selected features: ', len(vif_cols))\n",
    "print(vif_cols)"
   ]
  },
  {
   "cell_type": "markdown",
   "metadata": {},
   "source": [
    "# Model Implementation"
   ]
  },
  {
   "cell_type": "markdown",
   "metadata": {},
   "source": [
    "**Train And Test data**"
   ]
  },
  {
   "cell_type": "code",
   "execution_count": 70,
   "metadata": {},
   "outputs": [],
   "source": [
    "train, test = train_test_split(data, test_size=0.3, random_state=42)"
   ]
  },
  {
   "cell_type": "markdown",
   "metadata": {},
   "source": [
    "# Linear Regression Model"
   ]
  },
  {
   "cell_type": "code",
   "execution_count": 71,
   "metadata": {
    "scrolled": true
   },
   "outputs": [
    {
     "name": "stdout",
     "output_type": "stream",
     "text": [
      "ln_total_spent ~ addresscat + bfast_2 + bfast_3 + callcard + callid + callwait + carbuy + carcatvalue + card2_2 + card2_3 + card2_4 + card2_5 + card2benefit_3 + card2fee + card_2 + card_3 + card_4 + card_5 + cardfee + cardtenurecat + cardtype_2 + carown + cartype + churn + commutebike + commutebus + commutecar + commutecarpool + commutecat_4 + commutecat_5 + commutenonmotor + commuterail + confer + default + ebill + edcat + empcat + forward + gender + homeown + hometype_2 + hometype_3 + hourstv + inccat + internet_1 + internet_3 + internet_4 + jobcat_2 + jobcat_3 + jobcat_4 + jobcat_5 + jobcat_6 + jobsat + ln_creddebt + ln_equipten + ln_longmon + ln_othdebt + ln_tollten + ln_wireten + multline + news + owncd + owndvd + ownfax + owngame + ownipod + ownpc + ownpda + owntv + ownvcr + pager + pets_birds + pets_reptiles + pets_saltfish + polcontrib + polview_3 + polview_4 + polview_5 + polview_6 + polview_7 + reason_1 + reason_2 + reason_3 + reason_4 + region_2 + region_4 + region_5 + response_02 + response_03 + retire + spoused + telecommute + union + voice + vote\n"
     ]
    }
   ],
   "source": [
    "# Getting model equation\n",
    "formula_m0 = \"ln_total_spent ~ \" + \" + \".join(vif_cols)\n",
    "print(formula_m0)"
   ]
  },
  {
   "cell_type": "markdown",
   "metadata": {},
   "source": [
    "#### Model - 0 "
   ]
  },
  {
   "cell_type": "code",
   "execution_count": 72,
   "metadata": {
    "scrolled": true
   },
   "outputs": [
    {
     "name": "stdout",
     "output_type": "stream",
     "text": [
      "                            OLS Regression Results                            \n",
      "==============================================================================\n",
      "Dep. Variable:         ln_total_spent   R-squared:                       0.355\n",
      "Model:                            OLS   Adj. R-squared:                  0.337\n",
      "Method:                 Least Squares   F-statistic:                     19.69\n",
      "Date:                Sun, 14 Nov 2021   Prob (F-statistic):          2.21e-253\n",
      "Time:                        11:38:24   Log-Likelihood:                -2670.4\n",
      "No. Observations:                3500   AIC:                             5533.\n",
      "Df Residuals:                    3404   BIC:                             6124.\n",
      "Df Model:                          95                                         \n",
      "Covariance Type:            nonrobust                                         \n",
      "===================================================================================\n",
      "                      coef    std err          t      P>|t|      [0.025      0.975]\n",
      "-----------------------------------------------------------------------------------\n",
      "Intercept           6.3622      0.104     61.141      0.000       6.158       6.566\n",
      "addresscat         -0.0156      0.012     -1.323      0.186      -0.039       0.008\n",
      "bfast_2            -0.0496      0.027     -1.844      0.065      -0.102       0.003\n",
      "bfast_3            -0.0130      0.022     -0.580      0.562      -0.057       0.031\n",
      "callcard           -0.0196      0.025     -0.790      0.429      -0.068       0.029\n",
      "callid              0.0021      0.027      0.078      0.938      -0.050       0.055\n",
      "callwait            0.0027      0.027      0.099      0.921      -0.050       0.055\n",
      "carbuy              0.0091      0.019      0.489      0.625      -0.028       0.046\n",
      "carcatvalue         0.0070      0.017      0.409      0.682      -0.027       0.041\n",
      "card2_2            -0.3966      0.030    -13.425      0.000      -0.454      -0.339\n",
      "card2_3            -0.3929      0.029    -13.420      0.000      -0.450      -0.335\n",
      "card2_4            -0.4381      0.032    -13.651      0.000      -0.501      -0.375\n",
      "card2_5            -0.2842      0.042     -6.695      0.000      -0.367      -0.201\n",
      "card2benefit_3     -0.0492      0.020     -2.412      0.016      -0.089      -0.009\n",
      "card2fee            0.0027      0.023      0.117      0.907      -0.043       0.049\n",
      "card_2             -0.5874      0.029    -20.192      0.000      -0.644      -0.530\n",
      "card_3             -0.6050      0.030    -20.382      0.000      -0.663      -0.547\n",
      "card_4             -0.6887      0.030    -22.837      0.000      -0.748      -0.630\n",
      "card_5             -0.4840      0.049     -9.922      0.000      -0.580      -0.388\n",
      "cardfee            -0.0140      0.023     -0.610      0.542      -0.059       0.031\n",
      "cardtenurecat       0.0031      0.012      0.255      0.799      -0.020       0.027\n",
      "cardtype_2          0.0122      0.021      0.583      0.560      -0.029       0.053\n",
      "carown              0.0196      0.025      0.778      0.437      -0.030       0.069\n",
      "cartype             0.0307      0.019      1.631      0.103      -0.006       0.067\n",
      "churn               0.0235      0.024      0.988      0.323      -0.023       0.070\n",
      "commutebike        -0.0275      0.028     -0.982      0.326      -0.082       0.027\n",
      "commutebus          0.0077      0.019      0.408      0.683      -0.029       0.045\n",
      "commutecar         -0.0050      0.023     -0.219      0.826      -0.050       0.040\n",
      "commutecarpool      0.0179      0.020      0.880      0.379      -0.022       0.058\n",
      "commutecat_4        0.0157      0.029      0.542      0.588      -0.041       0.073\n",
      "commutecat_5       -0.0840      0.059     -1.433      0.152      -0.199       0.031\n",
      "commutenonmotor    -0.0502      0.038     -1.307      0.191      -0.125       0.025\n",
      "commuterail        -0.0132      0.020     -0.648      0.517      -0.053       0.027\n",
      "confer              0.0029      0.027      0.106      0.916      -0.050       0.056\n",
      "default             0.0236      0.025      0.932      0.351      -0.026       0.073\n",
      "ebill              -0.0237      0.026     -0.925      0.355      -0.074       0.027\n",
      "edcat              -0.0103      0.010     -1.047      0.295      -0.030       0.009\n",
      "empcat              0.0325      0.013      2.509      0.012       0.007       0.058\n",
      "forward             0.0127      0.026      0.480      0.631      -0.039       0.064\n",
      "gender             -0.0511      0.018     -2.818      0.005      -0.087      -0.016\n",
      "homeown            -0.0020      0.027     -0.073      0.942      -0.055       0.051\n",
      "hometype_2         -0.0126      0.029     -0.443      0.658      -0.069       0.043\n",
      "hometype_3          0.0175      0.025      0.708      0.479      -0.031       0.066\n",
      "hourstv             0.0008      0.002      0.373      0.709      -0.003       0.005\n",
      "inccat              0.1526      0.015     10.190      0.000       0.123       0.182\n",
      "internet_1          0.0133      0.029      0.452      0.652      -0.044       0.071\n",
      "internet_3          0.0863      0.033      2.616      0.009       0.022       0.151\n",
      "internet_4          0.0887      0.035      2.497      0.013       0.019       0.158\n",
      "jobcat_2            0.0029      0.025      0.118      0.906      -0.045       0.051\n",
      "jobcat_3           -0.0101      0.032     -0.320      0.749      -0.072       0.052\n",
      "jobcat_4           -0.0626      0.050     -1.248      0.212      -0.161       0.036\n",
      "jobcat_5           -0.0578      0.037     -1.582      0.114      -0.129       0.014\n",
      "jobcat_6           -0.0609      0.032     -1.929      0.054      -0.123       0.001\n",
      "jobsat             -0.0012      0.008     -0.162      0.871      -0.016       0.014\n",
      "ln_creddebt         0.0164      0.022      0.739      0.460      -0.027       0.060\n",
      "ln_equipten        -0.0040      0.004     -1.047      0.295      -0.012       0.004\n",
      "ln_longmon          0.0126      0.021      0.600      0.549      -0.029       0.054\n",
      "ln_othdebt         -0.0014      0.020     -0.070      0.944      -0.040       0.037\n",
      "ln_tollten         -0.0013      0.004     -0.321      0.749      -0.009       0.007\n",
      "ln_wireten          0.0018      0.005      0.388      0.698      -0.007       0.011\n",
      "multline           -0.0043      0.023     -0.184      0.854      -0.050       0.041\n",
      "news                0.0082      0.022      0.373      0.709      -0.035       0.051\n",
      "owncd               0.0617      0.044      1.397      0.163      -0.025       0.148\n",
      "owndvd              0.0455      0.041      1.121      0.262      -0.034       0.125\n",
      "ownfax              0.0242      0.030      0.811      0.418      -0.034       0.083\n",
      "owngame            -0.0181      0.022     -0.821      0.412      -0.061       0.025\n",
      "ownipod             0.0315      0.022      1.455      0.146      -0.011       0.074\n",
      "ownpc               0.0092      0.026      0.348      0.728      -0.043       0.061\n",
      "ownpda              0.0032      0.029      0.111      0.911      -0.053       0.060\n",
      "owntv              -0.0461      0.087     -0.531      0.596      -0.216       0.124\n",
      "ownvcr              0.0592      0.040      1.469      0.142      -0.020       0.138\n",
      "pager              -0.0335      0.031     -1.077      0.282      -0.095       0.028\n",
      "pets_birds         -0.0216      0.020     -1.055      0.292      -0.062       0.019\n",
      "pets_reptiles       0.0263      0.034      0.770      0.442      -0.041       0.093\n",
      "pets_saltfish       0.0564      0.043      1.310      0.190      -0.028       0.141\n",
      "polcontrib          0.0080      0.022      0.365      0.715      -0.035       0.051\n",
      "polview_3          -0.0581      0.034     -1.726      0.084      -0.124       0.008\n",
      "polview_4          -0.0460      0.028     -1.622      0.105      -0.102       0.010\n",
      "polview_5          -0.0596      0.032     -1.892      0.059      -0.121       0.002\n",
      "polview_6          -0.0368      0.032     -1.162      0.245      -0.099       0.025\n",
      "polview_7          -0.2025      0.072     -2.810      0.005      -0.344      -0.061\n",
      "reason_1           -0.1205      0.032     -3.790      0.000      -0.183      -0.058\n",
      "reason_2            0.2271      0.036      6.287      0.000       0.156       0.298\n",
      "reason_3           -0.0935      0.079     -1.178      0.239      -0.249       0.062\n",
      "reason_4           -0.1784      0.063     -2.841      0.005      -0.302      -0.055\n",
      "region_2           -0.0120      0.025     -0.477      0.634      -0.061       0.037\n",
      "region_4            0.0204      0.025      0.824      0.410      -0.028       0.069\n",
      "region_5            0.0382      0.025      1.552      0.121      -0.010       0.087\n",
      "response_02        -0.0167      0.027     -0.616      0.538      -0.070       0.036\n",
      "response_03         0.0329      0.030      1.090      0.276      -0.026       0.092\n",
      "retire             -0.1588      0.038     -4.189      0.000      -0.233      -0.084\n",
      "spoused            -0.0012      0.001     -0.908      0.364      -0.004       0.001\n",
      "telecommute         0.0213      0.025      0.870      0.384      -0.027       0.069\n",
      "union               0.0309      0.026      1.209      0.227      -0.019       0.081\n",
      "voice              -0.0199      0.029     -0.698      0.485      -0.076       0.036\n",
      "vote               -0.0112      0.019     -0.602      0.547      -0.048       0.025\n",
      "==============================================================================\n",
      "Omnibus:                       83.335   Durbin-Watson:                   2.039\n",
      "Prob(Omnibus):                  0.000   Jarque-Bera (JB):               89.302\n",
      "Skew:                          -0.373   Prob(JB):                     4.06e-20\n",
      "Kurtosis:                       3.236   Cond. No.                         317.\n",
      "==============================================================================\n",
      "\n",
      "Warnings:\n",
      "[1] Standard Errors assume that the covariance matrix of the errors is correctly specified.\n"
     ]
    }
   ],
   "source": [
    "formula_m0 = '''ln_total_spent ~ addresscat + bfast_2 + bfast_3 + callcard + callid + callwait + carbuy + carcatvalue + \n",
    "card2_2 + card2_3 + card2_4 + card2_5 + card2benefit_3 + card2fee + card_2 + card_3 + card_4 + card_5 + cardfee + \n",
    "cardtenurecat + cardtype_2 + carown + cartype + churn + commutebike + commutebus + commutecar + commutecarpool + \n",
    "commutecat_4 + commutecat_5 + commutenonmotor + commuterail + confer + default + ebill + edcat + empcat + forward + \n",
    "gender + homeown + hometype_2 + hometype_3 + hourstv + inccat + internet_1 + internet_3 + internet_4 + jobcat_2 + \n",
    "jobcat_3 + jobcat_4 + jobcat_5 + jobcat_6 + jobsat + ln_creddebt + ln_equipten + ln_longmon + ln_othdebt + ln_tollten + \n",
    "ln_wireten + multline + news + owncd + owndvd + ownfax + owngame + ownipod + ownpc + ownpda + owntv + ownvcr + pager + \n",
    "pets_birds + pets_reptiles + pets_saltfish + polcontrib + polview_3 + polview_4 + polview_5 + polview_6 + polview_7 + \n",
    "reason_1 + reason_2 + reason_3 + reason_4 + region_2 + region_4 + region_5 + response_02 + response_03 + retire + \n",
    "spoused + telecommute + union + voice + vote'''\n",
    "\n",
    "model0 = smf.ols(formula = formula_m0, data = train).fit()\n",
    "print(model0.summary())"
   ]
  },
  {
   "cell_type": "markdown",
   "metadata": {},
   "source": [
    "### Nelglecting the features which have p values > 0.05"
   ]
  },
  {
   "cell_type": "markdown",
   "metadata": {},
   "source": [
    "## Model-1"
   ]
  },
  {
   "cell_type": "markdown",
   "metadata": {},
   "source": [
    "**Removing insignificant variables based on p-value > 0.05 from model summary:**\n",
    "    '''ln_othdebt, homeown, callid, card2fee, ownpda, jobcat_2, callwait, confer, jobsat, multline, cardtenurecat, commutecar, \n",
    "    ln_tollten, ownpc, polcontrib, jobcat_3, carcatvalue, hourstv, news, commutebus, owntv, ln_wireten, region_2, carbuy, \n",
    "    hometype_2, bfast_3, cardtype_2, response_02, commutecat_4, forward, voice, cardfee, internet_1, vote, callcard, \n",
    "    ln_creddebt, ln_longmon, pets_reptiles, commuterail, churn, owngame, commutecarpool, commutebike, carown, ownfax, \n",
    "    telecommute, ebill, spoused, hometype_3, pets_birds, owndvd, addresscat, region_4, pager, response_03, union, \n",
    "    pets_saltfish, polview_6, jobcat_4, jobcat_5, ownipod, jobcat_6, edcat, reason_3, commutenonmotor, region_5, commutecat_5, \n",
    "    polview_3, polview_4, polview_5, default, owncd, ln_equipten, internet_4, internet_3, cartype, bfast_2, empcat'''"
   ]
  },
  {
   "cell_type": "code",
   "execution_count": 73,
   "metadata": {
    "scrolled": true
   },
   "outputs": [
    {
     "name": "stdout",
     "output_type": "stream",
     "text": [
      "                            OLS Regression Results                            \n",
      "==============================================================================\n",
      "Dep. Variable:         ln_total_spent   R-squared:                       0.341\n",
      "Model:                            OLS   Adj. R-squared:                  0.338\n",
      "Method:                 Least Squares   F-statistic:                     106.0\n",
      "Date:                Sun, 14 Nov 2021   Prob (F-statistic):          1.72e-299\n",
      "Time:                        11:38:24   Log-Likelihood:                -2706.7\n",
      "No. Observations:                3500   AIC:                             5449.\n",
      "Df Residuals:                    3482   BIC:                             5560.\n",
      "Df Model:                          17                                         \n",
      "Covariance Type:            nonrobust                                         \n",
      "==================================================================================\n",
      "                     coef    std err          t      P>|t|      [0.025      0.975]\n",
      "----------------------------------------------------------------------------------\n",
      "Intercept          6.3987      0.048    132.513      0.000       6.304       6.493\n",
      "card2_2           -0.3929      0.029    -13.532      0.000      -0.450      -0.336\n",
      "card2_3           -0.3884      0.029    -13.454      0.000      -0.445      -0.332\n",
      "card2_4           -0.4403      0.032    -13.908      0.000      -0.502      -0.378\n",
      "card2_5           -0.2847      0.042     -6.840      0.000      -0.366      -0.203\n",
      "card2benefit_3    -0.0461      0.020     -2.281      0.023      -0.086      -0.006\n",
      "card_2            -0.5836      0.029    -20.468      0.000      -0.640      -0.528\n",
      "card_3            -0.6010      0.029    -20.661      0.000      -0.658      -0.544\n",
      "card_4            -0.6989      0.030    -23.513      0.000      -0.757      -0.641\n",
      "card_5            -0.4852      0.048    -10.160      0.000      -0.579      -0.392\n",
      "gender            -0.0540      0.018     -3.010      0.003      -0.089      -0.019\n",
      "inccat             0.1701      0.008     20.615      0.000       0.154       0.186\n",
      "ownvcr             0.0983      0.033      3.007      0.003       0.034       0.162\n",
      "polview_7         -0.1633      0.068     -2.402      0.016      -0.297      -0.030\n",
      "reason_1          -0.1168      0.031     -3.727      0.000      -0.178      -0.055\n",
      "reason_2           0.2316      0.036      6.501      0.000       0.162       0.301\n",
      "reason_4          -0.1766      0.062     -2.848      0.004      -0.298      -0.055\n",
      "retire            -0.1637      0.027     -6.129      0.000      -0.216      -0.111\n",
      "==============================================================================\n",
      "Omnibus:                       86.108   Durbin-Watson:                   2.052\n",
      "Prob(Omnibus):                  0.000   Jarque-Bera (JB):               92.821\n",
      "Skew:                          -0.376   Prob(JB):                     6.98e-21\n",
      "Kurtosis:                       3.266   Cond. No.                         24.0\n",
      "==============================================================================\n",
      "\n",
      "Warnings:\n",
      "[1] Standard Errors assume that the covariance matrix of the errors is correctly specified.\n"
     ]
    }
   ],
   "source": [
    "formula_m1 = '''ln_total_spent ~ card2_2 + card2_3 + card2_4 + card2_5 + card2benefit_3 + card_2 + card_3 + card_4 + card_5 + \n",
    "gender + inccat + ownvcr + polview_7 + reason_1 + reason_2 + reason_4 + retire'''\n",
    "\n",
    "model1 = smf.ols(formula = formula_m1, data = train).fit()\n",
    "print(model1.summary())"
   ]
  },
  {
   "cell_type": "markdown",
   "metadata": {},
   "source": [
    "### POST MODELING\n",
    "### Model Validation\n",
    "### Predicting the Y on the train and test dataset"
   ]
  },
  {
   "cell_type": "code",
   "execution_count": 74,
   "metadata": {},
   "outputs": [],
   "source": [
    "# Transforming log values into actual values in both training and testing data sets\n",
    "train.loc[:,'lr_pred'] = np.exp(model1.predict(train))\n",
    "test.loc[:,'lr_pred'] = np.exp(model1.predict(test))"
   ]
  },
  {
   "cell_type": "code",
   "execution_count": 75,
   "metadata": {},
   "outputs": [
    {
     "name": "stdout",
     "output_type": "stream",
     "text": [
      "R-square Score: 0.31536160797410895\n"
     ]
    }
   ],
   "source": [
    "lr_r2 = metrics.r2_score(train.total_spent, train.lr_pred)\n",
    "print('R-square Score:', lr_r2)"
   ]
  },
  {
   "cell_type": "code",
   "execution_count": 76,
   "metadata": {},
   "outputs": [
    {
     "data": {
      "text/html": [
       "<div>\n",
       "<style scoped>\n",
       "    .dataframe tbody tr th:only-of-type {\n",
       "        vertical-align: middle;\n",
       "    }\n",
       "\n",
       "    .dataframe tbody tr th {\n",
       "        vertical-align: top;\n",
       "    }\n",
       "\n",
       "    .dataframe thead th {\n",
       "        text-align: right;\n",
       "    }\n",
       "</style>\n",
       "<table border=\"1\" class=\"dataframe\">\n",
       "  <thead>\n",
       "    <tr style=\"text-align: right;\">\n",
       "      <th></th>\n",
       "      <th>total_spent</th>\n",
       "      <th>lr_pred</th>\n",
       "    </tr>\n",
       "  </thead>\n",
       "  <tbody>\n",
       "    <tr>\n",
       "      <th>1840</th>\n",
       "      <td>313.34</td>\n",
       "      <td>370.550872</td>\n",
       "    </tr>\n",
       "    <tr>\n",
       "      <th>2115</th>\n",
       "      <td>764.01</td>\n",
       "      <td>497.588018</td>\n",
       "    </tr>\n",
       "    <tr>\n",
       "      <th>4437</th>\n",
       "      <td>443.09</td>\n",
       "      <td>272.112279</td>\n",
       "    </tr>\n",
       "    <tr>\n",
       "      <th>1146</th>\n",
       "      <td>172.83</td>\n",
       "      <td>326.793139</td>\n",
       "    </tr>\n",
       "    <tr>\n",
       "      <th>2486</th>\n",
       "      <td>220.63</td>\n",
       "      <td>326.793139</td>\n",
       "    </tr>\n",
       "  </tbody>\n",
       "</table>\n",
       "</div>"
      ],
      "text/plain": [
       "      total_spent     lr_pred\n",
       "1840       313.34  370.550872\n",
       "2115       764.01  497.588018\n",
       "4437       443.09  272.112279\n",
       "1146       172.83  326.793139\n",
       "2486       220.63  326.793139"
      ]
     },
     "execution_count": 76,
     "metadata": {},
     "output_type": "execute_result"
    }
   ],
   "source": [
    "train[['total_spent','lr_pred']].head()"
   ]
  },
  {
   "cell_type": "code",
   "execution_count": 77,
   "metadata": {},
   "outputs": [
    {
     "data": {
      "image/png": "[encoded data removed]",
      "text/plain": [
       "<Figure size 432x288 with 1 Axes>"
      ]
     },
     "metadata": {
      "needs_background": "light"
     },
     "output_type": "display_data"
    }
   ],
   "source": [
    "sns.scatterplot(train.total_spent, train.lr_pred)\n",
    "plt.show()"
   ]
  },
  {
   "cell_type": "code",
   "execution_count": 78,
   "metadata": {},
   "outputs": [
    {
     "data": {
      "image/png": "[encoded data removed]",
      "text/plain": [
       "<Figure size 432x288 with 1 Axes>"
      ]
     },
     "metadata": {
      "needs_background": "light"
     },
     "output_type": "display_data"
    }
   ],
   "source": [
    "sns.scatterplot(test.total_spent, test.lr_pred)\n",
    "plt.show()"
   ]
  },
  {
   "cell_type": "markdown",
   "metadata": {},
   "source": [
    "**Checking Metrics for both training and testing data sets**"
   ]
  },
  {
   "cell_type": "code",
   "execution_count": 79,
   "metadata": {},
   "outputs": [
    {
     "name": "stdout",
     "output_type": "stream",
     "text": [
      "MAPE values for training and testing data :\n",
      "0.47276673800034186\n",
      "0.4811486237443822\n",
      "\n",
      " RMSE values for training and testing data :\n",
      "268.04047452656346\n",
      "271.31271416152276\n"
     ]
    }
   ],
   "source": [
    "# Metrics for both training and testing data \n",
    "\n",
    "# Mean Absolute Percentage Error \n",
    "print(\"MAPE values for training and testing data :\")\n",
    "lr_MAPE_train = np.mean(np.abs(train.total_spent - train.lr_pred)/train.total_spent)\n",
    "print(lr_MAPE_train)\n",
    "lr_MAPE_test = np.mean(np.abs(test.total_spent - test.lr_pred)/test.total_spent)\n",
    "print(lr_MAPE_test)\n",
    "\n",
    "# Root Mean Squared error\n",
    "print(\"\\n RMSE values for training and testing data :\")\n",
    "lr_RMSE_train = np.sqrt(mean_squared_error(train.total_spent,train.lr_pred))\n",
    "print(lr_RMSE_train)\n",
    "lr_RMSE_test =np.sqrt(mean_squared_error(test.total_spent,test.lr_pred))\n",
    "print(lr_RMSE_test)"
   ]
  },
  {
   "cell_type": "markdown",
   "metadata": {},
   "source": [
    "**Analysis of Residuals**"
   ]
  },
  {
   "cell_type": "code",
   "execution_count": 80,
   "metadata": {},
   "outputs": [
    {
     "data": {
      "image/png": "[encoded data removed]",
      "text/plain": [
       "<Figure size 432x288 with 1 Axes>"
      ]
     },
     "metadata": {
      "needs_background": "light"
     },
     "output_type": "display_data"
    }
   ],
   "source": [
    "# Checking Errors distribution\n",
    "model1.resid.hist(bins=15)\n",
    "plt.show()\n",
    "# Residuals following Normal distribution. This is one of the Assumption in Linear Regression."
   ]
  },
  {
   "cell_type": "code",
   "execution_count": 81,
   "metadata": {},
   "outputs": [
    {
     "name": "stdout",
     "output_type": "stream",
     "text": [
      "2.9643335405385837e-14\n"
     ]
    }
   ],
   "source": [
    "# assumption: mean of residuals/errors is zero\n",
    "print(model1.resid.mean())"
   ]
  },
  {
   "cell_type": "code",
   "execution_count": 82,
   "metadata": {},
   "outputs": [
    {
     "name": "stdout",
     "output_type": "stream",
     "text": [
      "(0.7010952758018842, 0.0)\n"
     ]
    }
   ],
   "source": [
    "# assumption: residuals/errors of the model should not be correlated with dependant (Y) variable\n",
    "print(stats.stats.pearsonr(model1.resid, train.total_spent))"
   ]
  },
  {
   "cell_type": "code",
   "execution_count": 83,
   "metadata": {},
   "outputs": [
    {
     "data": {
      "image/png": "[encoded data removed]",
      "text/plain": [
       "<Figure size 432x288 with 1 Axes>"
      ]
     },
     "metadata": {
      "needs_background": "light"
     },
     "output_type": "display_data"
    }
   ],
   "source": [
    "# assumption: homoscedasticity of residuals/errors\n",
    "sns.scatterplot(model1.resid, train.total_spent)\n",
    "plt.show()"
   ]
  },
  {
   "cell_type": "code",
   "execution_count": 84,
   "metadata": {},
   "outputs": [
    {
     "data": {
      "image/png": "[encoded data removed]",
      "text/plain": [
       "<Figure size 432x288 with 1 Axes>"
      ]
     },
     "metadata": {
      "needs_background": "light"
     },
     "output_type": "display_data"
    }
   ],
   "source": [
    "# Q-Q plot of Residuals\n",
    "stats.probplot(model1.resid, dist='norm', plot=pylab)\n",
    "pylab.show()"
   ]
  },
  {
   "cell_type": "markdown",
   "metadata": {},
   "source": [
    "**Decile Analysis**"
   ]
  },
  {
   "cell_type": "markdown",
   "metadata": {},
   "source": [
    "***Decile analysis for validation of models - Business validation***"
   ]
  },
  {
   "cell_type": "code",
   "execution_count": 85,
   "metadata": {},
   "outputs": [],
   "source": [
    "# Writing output data into excel\n",
    "output = pd.ExcelWriter('CreditCardSpend_output.xlsx')"
   ]
  },
  {
   "cell_type": "code",
   "execution_count": 86,
   "metadata": {},
   "outputs": [],
   "source": [
    "# create the 10 groups in the data\n",
    "train.loc[:,'lr_deciles'] = pd.qcut(train['lr_pred'], 10, labels = False)\n",
    "test.loc[:,'lr_deciles'] = pd.qcut(test['lr_pred'], 10, labels = False)\n",
    "\n",
    "# Decile Analysis for train_output data\n",
    "lr_decile_train = train.groupby('lr_deciles')[['total_spent', 'lr_pred']].mean().reset_index().sort_values(\n",
    "    by = 'lr_deciles', ascending = False)\n",
    "\n",
    "# Decile Analysis for test_output data\n",
    "lr_decile_test = test.groupby('lr_deciles')[['total_spent', 'lr_pred']].mean().reset_index().sort_values(\n",
    "    by = 'lr_deciles', ascending = False)\n",
    "\n",
    "# write the data into the file\n",
    "lr_decile_train.to_excel(output, 'Decile', startrow=2 , startcol=0, index = False)\n",
    "lr_decile_test.to_excel(output, 'Decile', startrow=2 , startcol=5, index = False)"
   ]
  },
  {
   "cell_type": "code",
   "execution_count": 87,
   "metadata": {},
   "outputs": [
    {
     "data": {
      "text/html": [
       "<div>\n",
       "<style scoped>\n",
       "    .dataframe tbody tr th:only-of-type {\n",
       "        vertical-align: middle;\n",
       "    }\n",
       "\n",
       "    .dataframe tbody tr th {\n",
       "        vertical-align: top;\n",
       "    }\n",
       "\n",
       "    .dataframe thead th {\n",
       "        text-align: right;\n",
       "    }\n",
       "</style>\n",
       "<table border=\"1\" class=\"dataframe\">\n",
       "  <thead>\n",
       "    <tr style=\"text-align: right;\">\n",
       "      <th></th>\n",
       "      <th>lr_deciles</th>\n",
       "      <th>total_spent</th>\n",
       "      <th>lr_pred</th>\n",
       "    </tr>\n",
       "  </thead>\n",
       "  <tbody>\n",
       "    <tr>\n",
       "      <th>9</th>\n",
       "      <td>9</td>\n",
       "      <td>906.654552</td>\n",
       "      <td>835.718745</td>\n",
       "    </tr>\n",
       "    <tr>\n",
       "      <th>8</th>\n",
       "      <td>8</td>\n",
       "      <td>705.088458</td>\n",
       "      <td>621.999365</td>\n",
       "    </tr>\n",
       "    <tr>\n",
       "      <th>7</th>\n",
       "      <td>7</td>\n",
       "      <td>598.160121</td>\n",
       "      <td>527.159569</td>\n",
       "    </tr>\n",
       "    <tr>\n",
       "      <th>6</th>\n",
       "      <td>6</td>\n",
       "      <td>522.795772</td>\n",
       "      <td>462.122993</td>\n",
       "    </tr>\n",
       "    <tr>\n",
       "      <th>5</th>\n",
       "      <td>5</td>\n",
       "      <td>481.622043</td>\n",
       "      <td>412.057069</td>\n",
       "    </tr>\n",
       "    <tr>\n",
       "      <th>4</th>\n",
       "      <td>4</td>\n",
       "      <td>411.962308</td>\n",
       "      <td>366.113110</td>\n",
       "    </tr>\n",
       "    <tr>\n",
       "      <th>3</th>\n",
       "      <td>3</td>\n",
       "      <td>389.554686</td>\n",
       "      <td>331.903977</td>\n",
       "    </tr>\n",
       "    <tr>\n",
       "      <th>2</th>\n",
       "      <td>2</td>\n",
       "      <td>331.449085</td>\n",
       "      <td>305.053284</td>\n",
       "    </tr>\n",
       "    <tr>\n",
       "      <th>1</th>\n",
       "      <td>1</td>\n",
       "      <td>321.224482</td>\n",
       "      <td>273.716075</td>\n",
       "    </tr>\n",
       "    <tr>\n",
       "      <th>0</th>\n",
       "      <td>0</td>\n",
       "      <td>268.334264</td>\n",
       "      <td>229.368950</td>\n",
       "    </tr>\n",
       "  </tbody>\n",
       "</table>\n",
       "</div>"
      ],
      "text/plain": [
       "   lr_deciles  total_spent     lr_pred\n",
       "9           9   906.654552  835.718745\n",
       "8           8   705.088458  621.999365\n",
       "7           7   598.160121  527.159569\n",
       "6           6   522.795772  462.122993\n",
       "5           5   481.622043  412.057069\n",
       "4           4   411.962308  366.113110\n",
       "3           3   389.554686  331.903977\n",
       "2           2   331.449085  305.053284\n",
       "1           1   321.224482  273.716075\n",
       "0           0   268.334264  229.368950"
      ]
     },
     "execution_count": 87,
     "metadata": {},
     "output_type": "execute_result"
    }
   ],
   "source": [
    "lr_decile_train"
   ]
  },
  {
   "cell_type": "code",
   "execution_count": 88,
   "metadata": {},
   "outputs": [
    {
     "data": {
      "text/html": [
       "<div>\n",
       "<style scoped>\n",
       "    .dataframe tbody tr th:only-of-type {\n",
       "        vertical-align: middle;\n",
       "    }\n",
       "\n",
       "    .dataframe tbody tr th {\n",
       "        vertical-align: top;\n",
       "    }\n",
       "\n",
       "    .dataframe thead th {\n",
       "        text-align: right;\n",
       "    }\n",
       "</style>\n",
       "<table border=\"1\" class=\"dataframe\">\n",
       "  <thead>\n",
       "    <tr style=\"text-align: right;\">\n",
       "      <th></th>\n",
       "      <th>lr_deciles</th>\n",
       "      <th>total_spent</th>\n",
       "      <th>lr_pred</th>\n",
       "    </tr>\n",
       "  </thead>\n",
       "  <tbody>\n",
       "    <tr>\n",
       "      <th>9</th>\n",
       "      <td>9</td>\n",
       "      <td>885.005383</td>\n",
       "      <td>846.471084</td>\n",
       "    </tr>\n",
       "    <tr>\n",
       "      <th>8</th>\n",
       "      <td>8</td>\n",
       "      <td>691.918286</td>\n",
       "      <td>615.855668</td>\n",
       "    </tr>\n",
       "    <tr>\n",
       "      <th>7</th>\n",
       "      <td>7</td>\n",
       "      <td>577.859648</td>\n",
       "      <td>527.984388</td>\n",
       "    </tr>\n",
       "    <tr>\n",
       "      <th>6</th>\n",
       "      <td>6</td>\n",
       "      <td>552.387456</td>\n",
       "      <td>460.867523</td>\n",
       "    </tr>\n",
       "    <tr>\n",
       "      <th>5</th>\n",
       "      <td>5</td>\n",
       "      <td>464.627666</td>\n",
       "      <td>411.161323</td>\n",
       "    </tr>\n",
       "    <tr>\n",
       "      <th>4</th>\n",
       "      <td>4</td>\n",
       "      <td>447.666918</td>\n",
       "      <td>364.253749</td>\n",
       "    </tr>\n",
       "    <tr>\n",
       "      <th>3</th>\n",
       "      <td>3</td>\n",
       "      <td>381.853975</td>\n",
       "      <td>330.903114</td>\n",
       "    </tr>\n",
       "    <tr>\n",
       "      <th>2</th>\n",
       "      <td>2</td>\n",
       "      <td>358.770719</td>\n",
       "      <td>304.437791</td>\n",
       "    </tr>\n",
       "    <tr>\n",
       "      <th>1</th>\n",
       "      <td>1</td>\n",
       "      <td>334.629257</td>\n",
       "      <td>272.703885</td>\n",
       "    </tr>\n",
       "    <tr>\n",
       "      <th>0</th>\n",
       "      <td>0</td>\n",
       "      <td>270.374210</td>\n",
       "      <td>231.277206</td>\n",
       "    </tr>\n",
       "  </tbody>\n",
       "</table>\n",
       "</div>"
      ],
      "text/plain": [
       "   lr_deciles  total_spent     lr_pred\n",
       "9           9   885.005383  846.471084\n",
       "8           8   691.918286  615.855668\n",
       "7           7   577.859648  527.984388\n",
       "6           6   552.387456  460.867523\n",
       "5           5   464.627666  411.161323\n",
       "4           4   447.666918  364.253749\n",
       "3           3   381.853975  330.903114\n",
       "2           2   358.770719  304.437791\n",
       "1           1   334.629257  272.703885\n",
       "0           0   270.374210  231.277206"
      ]
     },
     "execution_count": 88,
     "metadata": {},
     "output_type": "execute_result"
    }
   ],
   "source": [
    "lr_decile_test"
   ]
  },
  {
   "cell_type": "code",
   "execution_count": 89,
   "metadata": {
    "scrolled": true
   },
   "outputs": [
    {
     "data": {
      "image/png": "[encoded data removed]",
      "text/plain": [
       "<Figure size 432x288 with 1 Axes>"
      ]
     },
     "metadata": {
      "needs_background": "light"
     },
     "output_type": "display_data"
    }
   ],
   "source": [
    "# Getting importance of factors\n",
    "lr_fi = pd.DataFrame({'Features' : model1.tvalues[1:].index,\n",
    "                      'T_value' : model1.tvalues[1:]\n",
    "                     }).sort_values(by = 'T_value').reset_index(drop = True)\n",
    "\n",
    "lr_fi.to_excel(output, 'Drivers', startrow=2 , startcol=0, index = False)\n",
    "\n",
    "plt.barh(width = lr_fi.T_value, y = lr_fi.Features)\n",
    "plt.show()"
   ]
  },
  {
   "cell_type": "markdown",
   "metadata": {},
   "source": [
    "# Machine learning"
   ]
  },
  {
   "cell_type": "code",
   "execution_count": 90,
   "metadata": {},
   "outputs": [
    {
     "name": "stdout",
     "output_type": "stream",
     "text": [
      "['card2_2', 'card2_3', 'card2_4', 'card2_5', 'card2benefit_3', 'card_2', 'card_3', 'card_4', 'card_5', 'gender', 'inccat', 'ownvcr', 'polview_7', 'reason_1', 'reason_2', 'reason_4', 'retire']\n"
     ]
    }
   ],
   "source": [
    "# Getting final features\n",
    "X_cols = list(model1.pvalues.index.difference(['Intercept']))\n",
    "print(X_cols)\n",
    "X = data[X_cols]\n",
    "Y = data.ln_total_spent"
   ]
  },
  {
   "cell_type": "markdown",
   "metadata": {},
   "source": [
    "#### Getting Train and Test dataset for Machine Learning modelling"
   ]
  },
  {
   "cell_type": "code",
   "execution_count": 91,
   "metadata": {},
   "outputs": [],
   "source": [
    "train_x, test_x, train_y, test_y = train_test_split(X, Y, test_size = 0.3, random_state = 42)"
   ]
  },
  {
   "cell_type": "code",
   "execution_count": 92,
   "metadata": {},
   "outputs": [],
   "source": [
    "# dataframe for train and test output\n",
    "train_output = pd.DataFrame()\n",
    "test_output = pd.DataFrame()\n",
    "\n",
    "# Including the Y(dependent) Variable to compare\n",
    "train_output['total_spent'] = np.exp(train_y)\n",
    "test_output['total_spent'] = np.exp(test_y)"
   ]
  },
  {
   "cell_type": "code",
   "execution_count": 93,
   "metadata": {},
   "outputs": [],
   "source": [
    "# Importing packages\n",
    "from sklearn.model_selection import GridSearchCV, train_test_split\n",
    "from sklearn.preprocessing import StandardScaler\n",
    "from sklearn import metrics\n",
    "from sklearn.tree import export_graphviz, export\n",
    "from sklearn.tree import DecisionTreeRegressor\n",
    "from sklearn.ensemble import BaggingRegressor\n",
    "from sklearn.ensemble import AdaBoostRegressor\n",
    "from sklearn.ensemble import RandomForestRegressor\n",
    "from sklearn.ensemble import GradientBoostingRegressor\n",
    "from sklearn.neighbors import KNeighborsRegressor\n",
    "from xgboost import XGBRegressor\n",
    "from sklearn.linear_model import Ridge,Lasso"
   ]
  },
  {
   "cell_type": "markdown",
   "metadata": {},
   "source": [
    "## Decision Trees "
   ]
  },
  {
   "cell_type": "code",
   "execution_count": 94,
   "metadata": {},
   "outputs": [],
   "source": [
    "# Importing packages\n",
    "from sklearn import metrics\n",
    "from sklearn.tree import DecisionTreeRegressor, export_graphviz, export\n",
    "from sklearn.model_selection import GridSearchCV"
   ]
  },
  {
   "cell_type": "code",
   "execution_count": 95,
   "metadata": {},
   "outputs": [
    {
     "name": "stdout",
     "output_type": "stream",
     "text": [
      "Fitting 10 folds for each of 150 candidates, totalling 1500 fits\n"
     ]
    },
    {
     "name": "stderr",
     "output_type": "stream",
     "text": [
      "[Parallel(n_jobs=-1)]: Using backend LokyBackend with 4 concurrent workers.\n",
      "[Parallel(n_jobs=-1)]: Done  10 tasks      | elapsed:   11.8s\n",
      "[Parallel(n_jobs=-1)]: Done  64 tasks      | elapsed:   13.5s\n",
      "[Parallel(n_jobs=-1)]: Done 154 tasks      | elapsed:   16.3s\n",
      "[Parallel(n_jobs=-1)]: Done 280 tasks      | elapsed:   21.4s\n",
      "[Parallel(n_jobs=-1)]: Done 442 tasks      | elapsed:   27.0s\n",
      "[Parallel(n_jobs=-1)]: Done 640 tasks      | elapsed:   33.2s\n",
      "[Parallel(n_jobs=-1)]: Done 874 tasks      | elapsed:   40.8s\n",
      "[Parallel(n_jobs=-1)]: Done 1144 tasks      | elapsed:   49.5s\n",
      "[Parallel(n_jobs=-1)]: Done 1450 tasks      | elapsed:   59.5s\n",
      "[Parallel(n_jobs=-1)]: Done 1500 out of 1500 | elapsed:  1.0min finished\n"
     ]
    }
   ],
   "source": [
    "# Model building\n",
    "param = {'max_depth': range(5,15),\n",
    "         'min_samples_split' : range(2,5),\n",
    "         'min_samples_leaf' : range(5,10)\n",
    "         }\n",
    "\n",
    "gscv_dt = GridSearchCV(DecisionTreeRegressor(random_state=42), \n",
    "                        param_grid = param, \n",
    "                        cv = 10,\n",
    "                        scoring = 'neg_mean_squared_error',\n",
    "                        n_jobs=-1,\n",
    "                        verbose=5).fit(train_x, train_y)"
   ]
  },
  {
   "cell_type": "code",
   "execution_count": 96,
   "metadata": {
    "scrolled": true
   },
   "outputs": [
    {
     "data": {
      "text/plain": [
       "{'max_depth': 9, 'min_samples_leaf': 8, 'min_samples_split': 2}"
      ]
     },
     "execution_count": 96,
     "metadata": {},
     "output_type": "execute_result"
    }
   ],
   "source": [
    "gscv_dt.best_params_"
   ]
  },
  {
   "cell_type": "code",
   "execution_count": 97,
   "metadata": {},
   "outputs": [
    {
     "data": {
      "text/plain": [
       "0.3129891311703043"
      ]
     },
     "execution_count": 97,
     "metadata": {},
     "output_type": "execute_result"
    }
   ],
   "source": [
    "# best Score\n",
    "-1*gscv_dt.best_score_"
   ]
  },
  {
   "cell_type": "code",
   "execution_count": 98,
   "metadata": {
    "scrolled": true
   },
   "outputs": [
    {
     "data": {
      "text/plain": [
       "0.2642909587691854"
      ]
     },
     "execution_count": 98,
     "metadata": {},
     "output_type": "execute_result"
    }
   ],
   "source": [
    "-1*gscv_dt.score(train_x, train_y)"
   ]
  },
  {
   "cell_type": "markdown",
   "metadata": {},
   "source": [
    "**Building final descision  tree model on best parameters**"
   ]
  },
  {
   "cell_type": "code",
   "execution_count": 99,
   "metadata": {},
   "outputs": [
    {
     "name": "stdout",
     "output_type": "stream",
     "text": [
      "R-square Score: 0.33810143188318864\n"
     ]
    }
   ],
   "source": [
    "dt = gscv_dt.best_estimator_\n",
    "\n",
    "# Predicting values for both training and testing data sets\n",
    "train_output.loc[:, 'dt_pred'] = np.exp(dt.predict(train_x))\n",
    "test_output.loc[:, 'dt_pred'] = np.exp(dt.predict(test_x))\n",
    "\n",
    "dt_r2 = metrics.r2_score(train_output.total_spent, train_output.dt_pred)\n",
    "print('R-square Score:', dt_r2)"
   ]
  },
  {
   "cell_type": "code",
   "execution_count": 100,
   "metadata": {},
   "outputs": [
    {
     "name": "stdout",
     "output_type": "stream",
     "text": [
      "MAPE values for training and testing data :\n",
      "0.4600283531804034\n",
      "0.5075432916486162\n",
      "\n",
      "RMSE values for training and testing data :\n",
      "263.55148907742046\n",
      "276.4604013885058\n"
     ]
    }
   ],
   "source": [
    "# Metrics for both training and testing data \n",
    "\n",
    "# Mean Absolute Percentage Error \n",
    "print(\"MAPE values for training and testing data :\")\n",
    "dt_MAPE_train = np.mean(np.abs(train_output.total_spent - train_output.dt_pred)/train_output.total_spent)\n",
    "print(dt_MAPE_train)\n",
    "dt_MAPE_test = np.mean(np.abs(test_output.total_spent - test_output.dt_pred)/test_output.total_spent)\n",
    "print(dt_MAPE_test)\n",
    "\n",
    "# Root Mean Squared error\n",
    "print(\"\\nRMSE values for training and testing data :\")\n",
    "dt_RMSE_train = np.sqrt(mean_squared_error(train_output.total_spent,train_output.dt_pred))\n",
    "print(dt_RMSE_train)\n",
    "dt_RMSE_test =np.sqrt(mean_squared_error(test_output.total_spent,test_output.dt_pred))\n",
    "print(dt_RMSE_test)"
   ]
  },
  {
   "cell_type": "markdown",
   "metadata": {},
   "source": [
    "**Decile Analysis**"
   ]
  },
  {
   "cell_type": "code",
   "execution_count": 101,
   "metadata": {},
   "outputs": [],
   "source": [
    "# Creating Deciles\n",
    "train_output.loc[:,'dt_deciles'] = pd.qcut(train_output['dt_pred'], 10, labels = False)\n",
    "test_output.loc[:,'dt_deciles'] = pd.qcut(test_output['dt_pred'], 10, labels = False)\n",
    "\n",
    "# Decile Analysis for train_output data\n",
    "dt_decile_train = train_output.groupby('dt_deciles')[['total_spent', 'dt_pred']].mean().reset_index().sort_values(\n",
    "    by = 'dt_deciles', ascending = False)\n",
    "\n",
    "# Decile Analysis for test_output data\n",
    "dt_decile_test = test_output.groupby('dt_deciles')[['total_spent', 'dt_pred']].mean().reset_index().sort_values(\n",
    "    by = 'dt_deciles', ascending = False)\n",
    "\n",
    "# write the data into the file\n",
    "dt_decile_train.to_excel(output, 'Decile', startrow=2 , startcol=10, index = False)\n",
    "dt_decile_test.to_excel(output, 'Decile', startrow=2 , startcol=15, index = False)"
   ]
  },
  {
   "cell_type": "code",
   "execution_count": 102,
   "metadata": {},
   "outputs": [
    {
     "data": {
      "text/html": [
       "<div>\n",
       "<style scoped>\n",
       "    .dataframe tbody tr th:only-of-type {\n",
       "        vertical-align: middle;\n",
       "    }\n",
       "\n",
       "    .dataframe tbody tr th {\n",
       "        vertical-align: top;\n",
       "    }\n",
       "\n",
       "    .dataframe thead th {\n",
       "        text-align: right;\n",
       "    }\n",
       "</style>\n",
       "<table border=\"1\" class=\"dataframe\">\n",
       "  <thead>\n",
       "    <tr style=\"text-align: right;\">\n",
       "      <th></th>\n",
       "      <th>dt_deciles</th>\n",
       "      <th>total_spent</th>\n",
       "      <th>dt_pred</th>\n",
       "    </tr>\n",
       "  </thead>\n",
       "  <tbody>\n",
       "    <tr>\n",
       "      <th>9</th>\n",
       "      <td>9</td>\n",
       "      <td>926.611007</td>\n",
       "      <td>839.599398</td>\n",
       "    </tr>\n",
       "    <tr>\n",
       "      <th>8</th>\n",
       "      <td>8</td>\n",
       "      <td>706.244627</td>\n",
       "      <td>631.304844</td>\n",
       "    </tr>\n",
       "    <tr>\n",
       "      <th>7</th>\n",
       "      <td>7</td>\n",
       "      <td>597.979291</td>\n",
       "      <td>533.813721</td>\n",
       "    </tr>\n",
       "    <tr>\n",
       "      <th>6</th>\n",
       "      <td>6</td>\n",
       "      <td>532.792264</td>\n",
       "      <td>464.111969</td>\n",
       "    </tr>\n",
       "    <tr>\n",
       "      <th>5</th>\n",
       "      <td>5</td>\n",
       "      <td>468.981755</td>\n",
       "      <td>414.931204</td>\n",
       "    </tr>\n",
       "    <tr>\n",
       "      <th>4</th>\n",
       "      <td>4</td>\n",
       "      <td>423.644005</td>\n",
       "      <td>378.633257</td>\n",
       "    </tr>\n",
       "    <tr>\n",
       "      <th>3</th>\n",
       "      <td>3</td>\n",
       "      <td>385.080793</td>\n",
       "      <td>342.167793</td>\n",
       "    </tr>\n",
       "    <tr>\n",
       "      <th>2</th>\n",
       "      <td>2</td>\n",
       "      <td>343.207162</td>\n",
       "      <td>307.287222</td>\n",
       "    </tr>\n",
       "    <tr>\n",
       "      <th>1</th>\n",
       "      <td>1</td>\n",
       "      <td>317.265040</td>\n",
       "      <td>273.419903</td>\n",
       "    </tr>\n",
       "    <tr>\n",
       "      <th>0</th>\n",
       "      <td>0</td>\n",
       "      <td>255.083444</td>\n",
       "      <td>215.715610</td>\n",
       "    </tr>\n",
       "  </tbody>\n",
       "</table>\n",
       "</div>"
      ],
      "text/plain": [
       "   dt_deciles  total_spent     dt_pred\n",
       "9           9   926.611007  839.599398\n",
       "8           8   706.244627  631.304844\n",
       "7           7   597.979291  533.813721\n",
       "6           6   532.792264  464.111969\n",
       "5           5   468.981755  414.931204\n",
       "4           4   423.644005  378.633257\n",
       "3           3   385.080793  342.167793\n",
       "2           2   343.207162  307.287222\n",
       "1           1   317.265040  273.419903\n",
       "0           0   255.083444  215.715610"
      ]
     },
     "execution_count": 102,
     "metadata": {},
     "output_type": "execute_result"
    }
   ],
   "source": [
    "dt_decile_train"
   ]
  },
  {
   "cell_type": "code",
   "execution_count": 103,
   "metadata": {},
   "outputs": [
    {
     "data": {
      "text/html": [
       "<div>\n",
       "<style scoped>\n",
       "    .dataframe tbody tr th:only-of-type {\n",
       "        vertical-align: middle;\n",
       "    }\n",
       "\n",
       "    .dataframe tbody tr th {\n",
       "        vertical-align: top;\n",
       "    }\n",
       "\n",
       "    .dataframe thead th {\n",
       "        text-align: right;\n",
       "    }\n",
       "</style>\n",
       "<table border=\"1\" class=\"dataframe\">\n",
       "  <thead>\n",
       "    <tr style=\"text-align: right;\">\n",
       "      <th></th>\n",
       "      <th>dt_deciles</th>\n",
       "      <th>total_spent</th>\n",
       "      <th>dt_pred</th>\n",
       "    </tr>\n",
       "  </thead>\n",
       "  <tbody>\n",
       "    <tr>\n",
       "      <th>9</th>\n",
       "      <td>9</td>\n",
       "      <td>873.298416</td>\n",
       "      <td>862.602985</td>\n",
       "    </tr>\n",
       "    <tr>\n",
       "      <th>8</th>\n",
       "      <td>8</td>\n",
       "      <td>684.242612</td>\n",
       "      <td>628.911691</td>\n",
       "    </tr>\n",
       "    <tr>\n",
       "      <th>7</th>\n",
       "      <td>7</td>\n",
       "      <td>578.742342</td>\n",
       "      <td>526.634015</td>\n",
       "    </tr>\n",
       "    <tr>\n",
       "      <th>6</th>\n",
       "      <td>6</td>\n",
       "      <td>512.110075</td>\n",
       "      <td>457.258862</td>\n",
       "    </tr>\n",
       "    <tr>\n",
       "      <th>5</th>\n",
       "      <td>5</td>\n",
       "      <td>498.223812</td>\n",
       "      <td>412.106386</td>\n",
       "    </tr>\n",
       "    <tr>\n",
       "      <th>4</th>\n",
       "      <td>4</td>\n",
       "      <td>384.697852</td>\n",
       "      <td>375.514428</td>\n",
       "    </tr>\n",
       "    <tr>\n",
       "      <th>3</th>\n",
       "      <td>3</td>\n",
       "      <td>402.028955</td>\n",
       "      <td>342.262508</td>\n",
       "    </tr>\n",
       "    <tr>\n",
       "      <th>2</th>\n",
       "      <td>2</td>\n",
       "      <td>367.369152</td>\n",
       "      <td>310.088159</td>\n",
       "    </tr>\n",
       "    <tr>\n",
       "      <th>1</th>\n",
       "      <td>1</td>\n",
       "      <td>354.861307</td>\n",
       "      <td>278.610436</td>\n",
       "    </tr>\n",
       "    <tr>\n",
       "      <th>0</th>\n",
       "      <td>0</td>\n",
       "      <td>302.600533</td>\n",
       "      <td>223.274594</td>\n",
       "    </tr>\n",
       "  </tbody>\n",
       "</table>\n",
       "</div>"
      ],
      "text/plain": [
       "   dt_deciles  total_spent     dt_pred\n",
       "9           9   873.298416  862.602985\n",
       "8           8   684.242612  628.911691\n",
       "7           7   578.742342  526.634015\n",
       "6           6   512.110075  457.258862\n",
       "5           5   498.223812  412.106386\n",
       "4           4   384.697852  375.514428\n",
       "3           3   402.028955  342.262508\n",
       "2           2   367.369152  310.088159\n",
       "1           1   354.861307  278.610436\n",
       "0           0   302.600533  223.274594"
      ]
     },
     "execution_count": 103,
     "metadata": {},
     "output_type": "execute_result"
    }
   ],
   "source": [
    "dt_decile_test"
   ]
  },
  {
   "cell_type": "code",
   "execution_count": 104,
   "metadata": {},
   "outputs": [
    {
     "data": {
      "image/png": "[encoded data removed]",
      "text/plain": [
       "<Figure size 432x288 with 1 Axes>"
      ]
     },
     "metadata": {
      "needs_background": "light"
     },
     "output_type": "display_data"
    }
   ],
   "source": [
    "# Feature Impotance\n",
    "dt_fi = pd.DataFrame({'Features' : train_x.columns ,\n",
    "                      'Importance' : dt.feature_importances_\n",
    "                     }).sort_values(by = 'Importance').reset_index(drop = True)\n",
    "\n",
    "dt_fi.to_excel(output, 'Drivers', startrow=2, startcol=5, index = False)\n",
    "\n",
    "plt.barh(width = dt_fi.Importance, y = dt_fi.Features)\n",
    "plt.show()"
   ]
  },
  {
   "cell_type": "markdown",
   "metadata": {},
   "source": [
    "# Ensemble Learning"
   ]
  },
  {
   "cell_type": "markdown",
   "metadata": {},
   "source": [
    "# Random Forest"
   ]
  },
  {
   "cell_type": "code",
   "execution_count": 105,
   "metadata": {},
   "outputs": [],
   "source": [
    "# Importing required packages\n",
    "from sklearn.ensemble import BaggingRegressor\n",
    "from sklearn.ensemble import AdaBoostRegressor\n",
    "from sklearn.ensemble import RandomForestRegressor\n",
    "from sklearn.ensemble import GradientBoostingRegressor"
   ]
  },
  {
   "cell_type": "code",
   "execution_count": 106,
   "metadata": {},
   "outputs": [
    {
     "name": "stdout",
     "output_type": "stream",
     "text": [
      "Fitting 5 folds for each of 48 candidates, totalling 240 fits\n"
     ]
    },
    {
     "name": "stderr",
     "output_type": "stream",
     "text": [
      "[Parallel(n_jobs=-1)]: Using backend LokyBackend with 4 concurrent workers.\n",
      "[Parallel(n_jobs=-1)]: Done  10 tasks      | elapsed:   42.0s\n",
      "[Parallel(n_jobs=-1)]: Done  64 tasks      | elapsed:  4.2min\n",
      "[Parallel(n_jobs=-1)]: Done 154 tasks      | elapsed: 10.4min\n",
      "[Parallel(n_jobs=-1)]: Done 240 out of 240 | elapsed: 16.7min finished\n"
     ]
    }
   ],
   "source": [
    "param = {'n_estimators': [500,600,700],\n",
    "         'max_depth': [5,6,7,8],\n",
    "         'min_samples_split' : [7,8,9,10]\n",
    "        }\n",
    "\n",
    "gscv_rf = GridSearchCV(estimator=RandomForestRegressor(random_state=42), \n",
    "                       param_grid=param, \n",
    "                       cv=5, \n",
    "                       scoring = 'neg_mean_squared_error',\n",
    "                       n_jobs=-1, \n",
    "                       verbose=5).fit(train_x,train_y)"
   ]
  },
  {
   "cell_type": "code",
   "execution_count": 107,
   "metadata": {
    "scrolled": false
   },
   "outputs": [
    {
     "data": {
      "text/plain": [
       "{'max_depth': 7, 'min_samples_split': 10, 'n_estimators': 600}"
      ]
     },
     "execution_count": 107,
     "metadata": {},
     "output_type": "execute_result"
    }
   ],
   "source": [
    "gscv_rf.best_params_"
   ]
  },
  {
   "cell_type": "code",
   "execution_count": 108,
   "metadata": {},
   "outputs": [
    {
     "data": {
      "text/plain": [
       "0.29814828142682104"
      ]
     },
     "execution_count": 108,
     "metadata": {},
     "output_type": "execute_result"
    }
   ],
   "source": [
    "-1*gscv_rf.best_score_"
   ]
  },
  {
   "cell_type": "code",
   "execution_count": 109,
   "metadata": {},
   "outputs": [
    {
     "data": {
      "text/plain": [
       "0.26461371628468217"
      ]
     },
     "execution_count": 109,
     "metadata": {},
     "output_type": "execute_result"
    }
   ],
   "source": [
    "-1*gscv_rf.score(train_x,train_y)"
   ]
  },
  {
   "cell_type": "markdown",
   "metadata": {},
   "source": [
    "**Building random forest on best parameters**"
   ]
  },
  {
   "cell_type": "code",
   "execution_count": 110,
   "metadata": {},
   "outputs": [
    {
     "name": "stdout",
     "output_type": "stream",
     "text": [
      "R-square Score: 0.3239715630599779\n"
     ]
    }
   ],
   "source": [
    "# Using best fit parameters to fit the model\n",
    "rf = gscv_rf.best_estimator_\n",
    "\n",
    "# Predicting total spent on train and test dataset\n",
    "train_output.loc[:, 'rf_pred'] = np.exp(rf.predict(train_x))\n",
    "test_output.loc[:, 'rf_pred'] = np.exp(rf.predict(test_x))\n",
    "\n",
    "# R-square Score\n",
    "rf_r2 = metrics.r2_score(train_output.total_spent, train_output.rf_pred)\n",
    "print('R-square Score:', rf_r2)"
   ]
  },
  {
   "cell_type": "code",
   "execution_count": 111,
   "metadata": {},
   "outputs": [
    {
     "name": "stdout",
     "output_type": "stream",
     "text": [
      "MAPE values for training and testing data :\n",
      "0.45971429694001165\n",
      "0.4924108018264277\n",
      "\n",
      "RMSE values for training and testing data :\n",
      "266.3497147130627\n",
      "276.45942245247784\n"
     ]
    }
   ],
   "source": [
    "# Metrics for both training and testing data \n",
    "\n",
    "# Mean Absolute Percentage Error \n",
    "print(\"MAPE values for training and testing data :\")\n",
    "rf_MAPE_train = np.mean(np.abs(train_output.total_spent - train_output.rf_pred)/train_output.total_spent)\n",
    "print(rf_MAPE_train)\n",
    "rf_MAPE_test = np.mean(np.abs(test_output.total_spent - test_output.rf_pred)/test_output.total_spent)\n",
    "print(rf_MAPE_test)\n",
    "\n",
    "# Root Mean Squared error\n",
    "print(\"\\nRMSE values for training and testing data :\")\n",
    "rf_RMSE_train = np.sqrt(mean_squared_error(train_output.total_spent,train_output.rf_pred))\n",
    "print(rf_RMSE_train)\n",
    "rf_RMSE_test =np.sqrt(mean_squared_error(test_output.total_spent,test_output.rf_pred))\n",
    "print(rf_RMSE_test)"
   ]
  },
  {
   "cell_type": "code",
   "execution_count": 112,
   "metadata": {},
   "outputs": [
    {
     "name": "stdout",
     "output_type": "stream",
     "text": [
      "Correlation - Train Data:  (0.6104304192044812, 0.0)  |  Test Data:  (0.5426304434886585, 1.3404510673389547e-115)\n"
     ]
    }
   ],
   "source": [
    "#Correlation between actual and predicted values\n",
    "Corr_train = stats.stats.pearsonr(train_output.total_spent, train_output.rf_pred)\n",
    "Corr_test = stats.stats.pearsonr(test_output.total_spent, test_output.rf_pred)\n",
    "\n",
    "print('Correlation - Train Data: ', Corr_train, ' | ', 'Test Data: ', Corr_test)"
   ]
  },
  {
   "cell_type": "markdown",
   "metadata": {},
   "source": [
    "**Decile Analysis**"
   ]
  },
  {
   "cell_type": "code",
   "execution_count": 113,
   "metadata": {},
   "outputs": [],
   "source": [
    "# Creating Deciles\n",
    "train_output.loc[:,'rf_deciles'] = pd.qcut(train_output['rf_pred'], 10, labels = False)\n",
    "test_output.loc[:,'rf_deciles'] = pd.qcut(test_output['rf_pred'], 10, labels = False)\n",
    "\n",
    "# Decile Analysis for train_output data\n",
    "rf_decile_train = train_output.groupby('rf_deciles')[['total_spent', 'rf_pred']].mean().reset_index().sort_values(\n",
    "    by = 'rf_deciles', ascending = False)\n",
    "\n",
    "# Decile Analysis for test_output data\n",
    "rf_decile_test = test_output.groupby('rf_deciles')[['total_spent', 'rf_pred']].mean().reset_index().sort_values(\n",
    "    by = 'rf_deciles', ascending = False)\n",
    "\n",
    "# write the data into the file\n",
    "rf_decile_train.to_excel(output, 'Decile', startrow=2 , startcol=20, index = False)\n",
    "rf_decile_test.to_excel(output, 'Decile', startrow=2 , startcol=25, index = False)"
   ]
  },
  {
   "cell_type": "code",
   "execution_count": 114,
   "metadata": {},
   "outputs": [
    {
     "data": {
      "text/html": [
       "<div>\n",
       "<style scoped>\n",
       "    .dataframe tbody tr th:only-of-type {\n",
       "        vertical-align: middle;\n",
       "    }\n",
       "\n",
       "    .dataframe tbody tr th {\n",
       "        vertical-align: top;\n",
       "    }\n",
       "\n",
       "    .dataframe thead th {\n",
       "        text-align: right;\n",
       "    }\n",
       "</style>\n",
       "<table border=\"1\" class=\"dataframe\">\n",
       "  <thead>\n",
       "    <tr style=\"text-align: right;\">\n",
       "      <th></th>\n",
       "      <th>rf_deciles</th>\n",
       "      <th>total_spent</th>\n",
       "      <th>rf_pred</th>\n",
       "    </tr>\n",
       "  </thead>\n",
       "  <tbody>\n",
       "    <tr>\n",
       "      <th>9</th>\n",
       "      <td>9</td>\n",
       "      <td>930.821061</td>\n",
       "      <td>794.714698</td>\n",
       "    </tr>\n",
       "    <tr>\n",
       "      <th>8</th>\n",
       "      <td>8</td>\n",
       "      <td>690.840293</td>\n",
       "      <td>598.666892</td>\n",
       "    </tr>\n",
       "    <tr>\n",
       "      <th>7</th>\n",
       "      <td>7</td>\n",
       "      <td>597.752147</td>\n",
       "      <td>510.510035</td>\n",
       "    </tr>\n",
       "    <tr>\n",
       "      <th>6</th>\n",
       "      <td>6</td>\n",
       "      <td>504.701744</td>\n",
       "      <td>436.508172</td>\n",
       "    </tr>\n",
       "    <tr>\n",
       "      <th>5</th>\n",
       "      <td>5</td>\n",
       "      <td>469.479267</td>\n",
       "      <td>406.926168</td>\n",
       "    </tr>\n",
       "    <tr>\n",
       "      <th>4</th>\n",
       "      <td>4</td>\n",
       "      <td>431.906337</td>\n",
       "      <td>378.790515</td>\n",
       "    </tr>\n",
       "    <tr>\n",
       "      <th>3</th>\n",
       "      <td>3</td>\n",
       "      <td>397.491376</td>\n",
       "      <td>344.771160</td>\n",
       "    </tr>\n",
       "    <tr>\n",
       "      <th>2</th>\n",
       "      <td>2</td>\n",
       "      <td>350.048554</td>\n",
       "      <td>316.775244</td>\n",
       "    </tr>\n",
       "    <tr>\n",
       "      <th>1</th>\n",
       "      <td>1</td>\n",
       "      <td>307.907201</td>\n",
       "      <td>285.335494</td>\n",
       "    </tr>\n",
       "    <tr>\n",
       "      <th>0</th>\n",
       "      <td>0</td>\n",
       "      <td>252.813827</td>\n",
       "      <td>238.711934</td>\n",
       "    </tr>\n",
       "  </tbody>\n",
       "</table>\n",
       "</div>"
      ],
      "text/plain": [
       "   rf_deciles  total_spent     rf_pred\n",
       "9           9   930.821061  794.714698\n",
       "8           8   690.840293  598.666892\n",
       "7           7   597.752147  510.510035\n",
       "6           6   504.701744  436.508172\n",
       "5           5   469.479267  406.926168\n",
       "4           4   431.906337  378.790515\n",
       "3           3   397.491376  344.771160\n",
       "2           2   350.048554  316.775244\n",
       "1           1   307.907201  285.335494\n",
       "0           0   252.813827  238.711934"
      ]
     },
     "execution_count": 114,
     "metadata": {},
     "output_type": "execute_result"
    }
   ],
   "source": [
    "rf_decile_train"
   ]
  },
  {
   "cell_type": "code",
   "execution_count": 115,
   "metadata": {},
   "outputs": [
    {
     "data": {
      "text/html": [
       "<div>\n",
       "<style scoped>\n",
       "    .dataframe tbody tr th:only-of-type {\n",
       "        vertical-align: middle;\n",
       "    }\n",
       "\n",
       "    .dataframe tbody tr th {\n",
       "        vertical-align: top;\n",
       "    }\n",
       "\n",
       "    .dataframe thead th {\n",
       "        text-align: right;\n",
       "    }\n",
       "</style>\n",
       "<table border=\"1\" class=\"dataframe\">\n",
       "  <thead>\n",
       "    <tr style=\"text-align: right;\">\n",
       "      <th></th>\n",
       "      <th>rf_deciles</th>\n",
       "      <th>total_spent</th>\n",
       "      <th>rf_pred</th>\n",
       "    </tr>\n",
       "  </thead>\n",
       "  <tbody>\n",
       "    <tr>\n",
       "      <th>9</th>\n",
       "      <td>9</td>\n",
       "      <td>905.194843</td>\n",
       "      <td>806.973759</td>\n",
       "    </tr>\n",
       "    <tr>\n",
       "      <th>8</th>\n",
       "      <td>8</td>\n",
       "      <td>645.666499</td>\n",
       "      <td>591.654329</td>\n",
       "    </tr>\n",
       "    <tr>\n",
       "      <th>7</th>\n",
       "      <td>7</td>\n",
       "      <td>570.063161</td>\n",
       "      <td>514.935180</td>\n",
       "    </tr>\n",
       "    <tr>\n",
       "      <th>6</th>\n",
       "      <td>6</td>\n",
       "      <td>572.901012</td>\n",
       "      <td>437.635659</td>\n",
       "    </tr>\n",
       "    <tr>\n",
       "      <th>5</th>\n",
       "      <td>5</td>\n",
       "      <td>430.527114</td>\n",
       "      <td>403.372410</td>\n",
       "    </tr>\n",
       "    <tr>\n",
       "      <th>4</th>\n",
       "      <td>4</td>\n",
       "      <td>451.336496</td>\n",
       "      <td>373.574667</td>\n",
       "    </tr>\n",
       "    <tr>\n",
       "      <th>3</th>\n",
       "      <td>3</td>\n",
       "      <td>357.627383</td>\n",
       "      <td>337.968687</td>\n",
       "    </tr>\n",
       "    <tr>\n",
       "      <th>2</th>\n",
       "      <td>2</td>\n",
       "      <td>379.431527</td>\n",
       "      <td>316.054477</td>\n",
       "    </tr>\n",
       "    <tr>\n",
       "      <th>1</th>\n",
       "      <td>1</td>\n",
       "      <td>354.609748</td>\n",
       "      <td>287.791076</td>\n",
       "    </tr>\n",
       "    <tr>\n",
       "      <th>0</th>\n",
       "      <td>0</td>\n",
       "      <td>285.691199</td>\n",
       "      <td>241.398668</td>\n",
       "    </tr>\n",
       "  </tbody>\n",
       "</table>\n",
       "</div>"
      ],
      "text/plain": [
       "   rf_deciles  total_spent     rf_pred\n",
       "9           9   905.194843  806.973759\n",
       "8           8   645.666499  591.654329\n",
       "7           7   570.063161  514.935180\n",
       "6           6   572.901012  437.635659\n",
       "5           5   430.527114  403.372410\n",
       "4           4   451.336496  373.574667\n",
       "3           3   357.627383  337.968687\n",
       "2           2   379.431527  316.054477\n",
       "1           1   354.609748  287.791076\n",
       "0           0   285.691199  241.398668"
      ]
     },
     "execution_count": 115,
     "metadata": {},
     "output_type": "execute_result"
    }
   ],
   "source": [
    "rf_decile_test"
   ]
  },
  {
   "cell_type": "code",
   "execution_count": 116,
   "metadata": {},
   "outputs": [
    {
     "data": {
      "image/png": "[encoded data removed]",
      "text/plain": [
       "<Figure size 432x288 with 1 Axes>"
      ]
     },
     "metadata": {
      "needs_background": "light"
     },
     "output_type": "display_data"
    }
   ],
   "source": [
    "# Feature Impotance\n",
    "rf_fi = pd.DataFrame({'Features' : train_x.columns ,\n",
    "                      'Importance' : rf.feature_importances_\n",
    "                     }).sort_values(by = 'Importance').reset_index(drop = True)\n",
    "\n",
    "rf_fi.to_excel(output, 'Drivers', startrow=2, startcol=10, index = False)\n",
    "\n",
    "plt.barh(width = rf_fi.Importance, y = rf_fi.Features)\n",
    "plt.show()"
   ]
  },
  {
   "cell_type": "markdown",
   "metadata": {},
   "source": [
    "# Gradient Boost Model"
   ]
  },
  {
   "cell_type": "code",
   "execution_count": 117,
   "metadata": {},
   "outputs": [
    {
     "name": "stdout",
     "output_type": "stream",
     "text": [
      "Fitting 5 folds for each of 60 candidates, totalling 300 fits\n"
     ]
    },
    {
     "name": "stderr",
     "output_type": "stream",
     "text": [
      "[Parallel(n_jobs=-1)]: Using backend LokyBackend with 4 concurrent workers.\n",
      "[Parallel(n_jobs=-1)]: Done  10 tasks      | elapsed:    3.3s\n",
      "[Parallel(n_jobs=-1)]: Done  64 tasks      | elapsed:   17.4s\n",
      "[Parallel(n_jobs=-1)]: Done 154 tasks      | elapsed:   50.1s\n",
      "[Parallel(n_jobs=-1)]: Done 280 tasks      | elapsed:  1.9min\n",
      "[Parallel(n_jobs=-1)]: Done 300 out of 300 | elapsed:  2.0min finished\n"
     ]
    }
   ],
   "source": [
    "# Getting parameters for best fit using GridSeachCV\n",
    "param = {'max_depth' : range(2,6),\n",
    "         'min_samples_split' : range(2,5),\n",
    "         'min_samples_leaf' : range(10,15)\n",
    "        }\n",
    "\n",
    "gscv_gb = GridSearchCV(estimator = GradientBoostingRegressor(random_state = 42), \n",
    "                       param_grid = param,\n",
    "                       cv = 5,\n",
    "                       scoring = 'neg_mean_squared_error',\n",
    "                       n_jobs = -1,\n",
    "                       verbose=5).fit(train_x, train_y)"
   ]
  },
  {
   "cell_type": "code",
   "execution_count": 118,
   "metadata": {},
   "outputs": [
    {
     "data": {
      "text/plain": [
       "{'max_depth': 3, 'min_samples_leaf': 14, 'min_samples_split': 2}"
      ]
     },
     "execution_count": 118,
     "metadata": {},
     "output_type": "execute_result"
    }
   ],
   "source": [
    "gscv_gb.best_params_"
   ]
  },
  {
   "cell_type": "code",
   "execution_count": 119,
   "metadata": {},
   "outputs": [
    {
     "data": {
      "text/plain": [
       "0.28532504900368005"
      ]
     },
     "execution_count": 119,
     "metadata": {},
     "output_type": "execute_result"
    }
   ],
   "source": [
    "-1*gscv_gb.best_score_"
   ]
  },
  {
   "cell_type": "code",
   "execution_count": 120,
   "metadata": {},
   "outputs": [
    {
     "data": {
      "text/plain": [
       "0.26977981599486145"
      ]
     },
     "execution_count": 120,
     "metadata": {},
     "output_type": "execute_result"
    }
   ],
   "source": [
    "-1*gscv_gb.score(train_x, train_y)"
   ]
  },
  {
   "cell_type": "markdown",
   "metadata": {},
   "source": [
    "**Building random forest on best parameters**"
   ]
  },
  {
   "cell_type": "code",
   "execution_count": 121,
   "metadata": {},
   "outputs": [
    {
     "name": "stdout",
     "output_type": "stream",
     "text": [
      "R-square Score: 0.3086905886024519\n"
     ]
    }
   ],
   "source": [
    "# Using best fit parameters to fit the model\n",
    "gb = gscv_gb.best_estimator_\n",
    "\n",
    "# Predicting total spent on train and test dataset\n",
    "train_output.loc[:, 'gb_pred'] = np.exp(gb.predict(train_x))\n",
    "test_output.loc[:, 'gb_pred'] = np.exp(gb.predict(test_x))\n",
    "\n",
    "# R-square Score\n",
    "gb_r2 = metrics.r2_score(train_output.total_spent, train_output.gb_pred)\n",
    "print('R-square Score:', gb_r2)"
   ]
  },
  {
   "cell_type": "code",
   "execution_count": 122,
   "metadata": {},
   "outputs": [
    {
     "name": "stdout",
     "output_type": "stream",
     "text": [
      "MAPE values for training and testing data :\n",
      "0.46665043578322146\n",
      "0.4850183143583451\n",
      "\n",
      "RMSE values for training and testing data :\n",
      "269.3431830470306\n",
      "274.03636720063963\n"
     ]
    }
   ],
   "source": [
    "# Metrics for both training and testing data \n",
    "\n",
    "# Mean Absolute Percentage Error \n",
    "print(\"MAPE values for training and testing data :\")\n",
    "gb_MAPE_train = np.mean(np.abs(train_output.total_spent - train_output.gb_pred)/train_output.total_spent)\n",
    "print(gb_MAPE_train)\n",
    "gb_MAPE_test = np.mean(np.abs(test_output.total_spent - test_output.gb_pred)/test_output.total_spent)\n",
    "print(gb_MAPE_test)\n",
    "\n",
    "# Root Mean Squared error\n",
    "print(\"\\nRMSE values for training and testing data :\")\n",
    "gb_RMSE_train = np.sqrt(mean_squared_error(train_output.total_spent,train_output.gb_pred))\n",
    "print(gb_RMSE_train)\n",
    "gb_RMSE_test =np.sqrt(mean_squared_error(test_output.total_spent,test_output.gb_pred))\n",
    "print(gb_RMSE_test)"
   ]
  },
  {
   "cell_type": "code",
   "execution_count": 123,
   "metadata": {},
   "outputs": [
    {
     "name": "stdout",
     "output_type": "stream",
     "text": [
      "Correlation - Train Data:  (0.5973916600342145, 0.0)  |  Test Data:  (0.556958187323747, 5.890804596123279e-123)\n"
     ]
    }
   ],
   "source": [
    "#Correlation between actual and predicted values\n",
    "Corr_train = stats.stats.pearsonr(train_output.total_spent, train_output.gb_pred)\n",
    "Corr_test = stats.stats.pearsonr(test_output.total_spent, test_output.gb_pred)\n",
    "\n",
    "print('Correlation - Train Data: ', Corr_train, ' | ', 'Test Data: ', Corr_test)"
   ]
  },
  {
   "cell_type": "markdown",
   "metadata": {},
   "source": [
    "**Decile Analysis**"
   ]
  },
  {
   "cell_type": "code",
   "execution_count": 124,
   "metadata": {},
   "outputs": [],
   "source": [
    "# Creating Deciles\n",
    "train_output.loc[:,'gb_deciles'] = pd.qcut(train_output['gb_pred'], 10, labels = False)\n",
    "test_output.loc[:,'gb_deciles'] = pd.qcut(test_output['gb_pred'], 10, labels = False)\n",
    "\n",
    "# Decile Analysis for train_output data\n",
    "gb_decile_train = train_output.groupby('gb_deciles')[['total_spent', 'gb_pred']].mean().reset_index().sort_values(\n",
    "    by = 'gb_deciles', ascending = False)\n",
    "\n",
    "# Decile Analysis for test_output data\n",
    "gb_decile_test = test_output.groupby('gb_deciles')[['total_spent', 'gb_pred']].mean().reset_index().sort_values(\n",
    "    by = 'gb_deciles', ascending = False)\n",
    "\n",
    "# write the data into the file\n",
    "gb_decile_train.to_excel(output, 'Decile', startrow=2 , startcol=30, index = False)\n",
    "gb_decile_test.to_excel(output, 'Decile', startrow=2 , startcol=35, index = False)"
   ]
  },
  {
   "cell_type": "code",
   "execution_count": 125,
   "metadata": {
    "scrolled": true
   },
   "outputs": [
    {
     "data": {
      "text/html": [
       "<div>\n",
       "<style scoped>\n",
       "    .dataframe tbody tr th:only-of-type {\n",
       "        vertical-align: middle;\n",
       "    }\n",
       "\n",
       "    .dataframe tbody tr th {\n",
       "        vertical-align: top;\n",
       "    }\n",
       "\n",
       "    .dataframe thead th {\n",
       "        text-align: right;\n",
       "    }\n",
       "</style>\n",
       "<table border=\"1\" class=\"dataframe\">\n",
       "  <thead>\n",
       "    <tr style=\"text-align: right;\">\n",
       "      <th></th>\n",
       "      <th>gb_deciles</th>\n",
       "      <th>total_spent</th>\n",
       "      <th>gb_pred</th>\n",
       "    </tr>\n",
       "  </thead>\n",
       "  <tbody>\n",
       "    <tr>\n",
       "      <th>9</th>\n",
       "      <td>9</td>\n",
       "      <td>910.857775</td>\n",
       "      <td>790.069881</td>\n",
       "    </tr>\n",
       "    <tr>\n",
       "      <th>8</th>\n",
       "      <td>8</td>\n",
       "      <td>692.522413</td>\n",
       "      <td>581.869547</td>\n",
       "    </tr>\n",
       "    <tr>\n",
       "      <th>7</th>\n",
       "      <td>7</td>\n",
       "      <td>607.082503</td>\n",
       "      <td>508.703292</td>\n",
       "    </tr>\n",
       "    <tr>\n",
       "      <th>6</th>\n",
       "      <td>6</td>\n",
       "      <td>526.522754</td>\n",
       "      <td>448.731955</td>\n",
       "    </tr>\n",
       "    <tr>\n",
       "      <th>5</th>\n",
       "      <td>5</td>\n",
       "      <td>469.419921</td>\n",
       "      <td>407.925535</td>\n",
       "    </tr>\n",
       "    <tr>\n",
       "      <th>4</th>\n",
       "      <td>4</td>\n",
       "      <td>437.090256</td>\n",
       "      <td>378.914715</td>\n",
       "    </tr>\n",
       "    <tr>\n",
       "      <th>3</th>\n",
       "      <td>3</td>\n",
       "      <td>382.605325</td>\n",
       "      <td>346.528325</td>\n",
       "    </tr>\n",
       "    <tr>\n",
       "      <th>2</th>\n",
       "      <td>2</td>\n",
       "      <td>330.367928</td>\n",
       "      <td>317.423128</td>\n",
       "    </tr>\n",
       "    <tr>\n",
       "      <th>1</th>\n",
       "      <td>1</td>\n",
       "      <td>324.089537</td>\n",
       "      <td>285.462908</td>\n",
       "    </tr>\n",
       "    <tr>\n",
       "      <th>0</th>\n",
       "      <td>0</td>\n",
       "      <td>252.202315</td>\n",
       "      <td>237.283975</td>\n",
       "    </tr>\n",
       "  </tbody>\n",
       "</table>\n",
       "</div>"
      ],
      "text/plain": [
       "   gb_deciles  total_spent     gb_pred\n",
       "9           9   910.857775  790.069881\n",
       "8           8   692.522413  581.869547\n",
       "7           7   607.082503  508.703292\n",
       "6           6   526.522754  448.731955\n",
       "5           5   469.419921  407.925535\n",
       "4           4   437.090256  378.914715\n",
       "3           3   382.605325  346.528325\n",
       "2           2   330.367928  317.423128\n",
       "1           1   324.089537  285.462908\n",
       "0           0   252.202315  237.283975"
      ]
     },
     "execution_count": 125,
     "metadata": {},
     "output_type": "execute_result"
    }
   ],
   "source": [
    "gb_decile_train"
   ]
  },
  {
   "cell_type": "code",
   "execution_count": 126,
   "metadata": {},
   "outputs": [
    {
     "data": {
      "text/html": [
       "<div>\n",
       "<style scoped>\n",
       "    .dataframe tbody tr th:only-of-type {\n",
       "        vertical-align: middle;\n",
       "    }\n",
       "\n",
       "    .dataframe tbody tr th {\n",
       "        vertical-align: top;\n",
       "    }\n",
       "\n",
       "    .dataframe thead th {\n",
       "        text-align: right;\n",
       "    }\n",
       "</style>\n",
       "<table border=\"1\" class=\"dataframe\">\n",
       "  <thead>\n",
       "    <tr style=\"text-align: right;\">\n",
       "      <th></th>\n",
       "      <th>gb_deciles</th>\n",
       "      <th>total_spent</th>\n",
       "      <th>gb_pred</th>\n",
       "    </tr>\n",
       "  </thead>\n",
       "  <tbody>\n",
       "    <tr>\n",
       "      <th>9</th>\n",
       "      <td>9</td>\n",
       "      <td>894.239516</td>\n",
       "      <td>801.069844</td>\n",
       "    </tr>\n",
       "    <tr>\n",
       "      <th>8</th>\n",
       "      <td>8</td>\n",
       "      <td>676.593311</td>\n",
       "      <td>575.374359</td>\n",
       "    </tr>\n",
       "    <tr>\n",
       "      <th>7</th>\n",
       "      <td>7</td>\n",
       "      <td>578.669012</td>\n",
       "      <td>508.981633</td>\n",
       "    </tr>\n",
       "    <tr>\n",
       "      <th>6</th>\n",
       "      <td>6</td>\n",
       "      <td>526.206005</td>\n",
       "      <td>448.532872</td>\n",
       "    </tr>\n",
       "    <tr>\n",
       "      <th>5</th>\n",
       "      <td>5</td>\n",
       "      <td>467.121837</td>\n",
       "      <td>406.389722</td>\n",
       "    </tr>\n",
       "    <tr>\n",
       "      <th>4</th>\n",
       "      <td>4</td>\n",
       "      <td>436.018307</td>\n",
       "      <td>375.980718</td>\n",
       "    </tr>\n",
       "    <tr>\n",
       "      <th>3</th>\n",
       "      <td>3</td>\n",
       "      <td>393.641233</td>\n",
       "      <td>340.784170</td>\n",
       "    </tr>\n",
       "    <tr>\n",
       "      <th>2</th>\n",
       "      <td>2</td>\n",
       "      <td>370.062467</td>\n",
       "      <td>314.015661</td>\n",
       "    </tr>\n",
       "    <tr>\n",
       "      <th>1</th>\n",
       "      <td>1</td>\n",
       "      <td>335.185333</td>\n",
       "      <td>287.851599</td>\n",
       "    </tr>\n",
       "    <tr>\n",
       "      <th>0</th>\n",
       "      <td>0</td>\n",
       "      <td>273.831866</td>\n",
       "      <td>240.033562</td>\n",
       "    </tr>\n",
       "  </tbody>\n",
       "</table>\n",
       "</div>"
      ],
      "text/plain": [
       "   gb_deciles  total_spent     gb_pred\n",
       "9           9   894.239516  801.069844\n",
       "8           8   676.593311  575.374359\n",
       "7           7   578.669012  508.981633\n",
       "6           6   526.206005  448.532872\n",
       "5           5   467.121837  406.389722\n",
       "4           4   436.018307  375.980718\n",
       "3           3   393.641233  340.784170\n",
       "2           2   370.062467  314.015661\n",
       "1           1   335.185333  287.851599\n",
       "0           0   273.831866  240.033562"
      ]
     },
     "execution_count": 126,
     "metadata": {},
     "output_type": "execute_result"
    }
   ],
   "source": [
    "gb_decile_test"
   ]
  },
  {
   "cell_type": "code",
   "execution_count": 127,
   "metadata": {},
   "outputs": [
    {
     "data": {
      "image/png": "[encoded data removed]",
      "text/plain": [
       "<Figure size 432x288 with 1 Axes>"
      ]
     },
     "metadata": {
      "needs_background": "light"
     },
     "output_type": "display_data"
    }
   ],
   "source": [
    "# Feature Impotance\n",
    "gb_fi = pd.DataFrame({'Features' : train_x.columns ,\n",
    "                      'Importance' : gb.feature_importances_\n",
    "                     }).sort_values(by = 'Importance').reset_index(drop = True)\n",
    "\n",
    "gb_fi.to_excel(output, 'Drivers', startrow=2, startcol=15, index = False)\n",
    "\n",
    "plt.barh(width = gb_fi.Importance, y = gb_fi.Features)\n",
    "plt.show()"
   ]
  },
  {
   "cell_type": "markdown",
   "metadata": {},
   "source": [
    "# XGBOOST"
   ]
  },
  {
   "cell_type": "code",
   "execution_count": 128,
   "metadata": {},
   "outputs": [],
   "source": [
    "# Importing Required packages\n",
    "from xgboost import XGBRegressor\n",
    "from sklearn.model_selection import GridSearchCV, train_test_split"
   ]
  },
  {
   "cell_type": "code",
   "execution_count": 129,
   "metadata": {},
   "outputs": [
    {
     "name": "stdout",
     "output_type": "stream",
     "text": [
      "Fitting 5 folds for each of 12 candidates, totalling 60 fits\n"
     ]
    },
    {
     "name": "stderr",
     "output_type": "stream",
     "text": [
      "[Parallel(n_jobs=-1)]: Using backend LokyBackend with 4 concurrent workers.\n",
      "[Parallel(n_jobs=-1)]: Done  10 tasks      | elapsed:   12.1s\n",
      "[Parallel(n_jobs=-1)]: Done  60 out of  60 | elapsed:  1.0min finished\n"
     ]
    }
   ],
   "source": [
    "param = {'n_estimators': [100,150,200],\n",
    "        'max_depth':[2,3,4,5]}\n",
    "\n",
    "gscv_xgb = GridSearchCV(estimator=XGBRegressor(), \n",
    "                        param_grid=param,\n",
    "                        cv=5,\n",
    "                        scoring = 'neg_mean_squared_error',\n",
    "                        n_jobs=-1, verbose=5).fit(train_x, train_y)"
   ]
  },
  {
   "cell_type": "code",
   "execution_count": 130,
   "metadata": {
    "scrolled": true
   },
   "outputs": [
    {
     "data": {
      "text/plain": [
       "{'max_depth': 2, 'n_estimators': 100}"
      ]
     },
     "execution_count": 130,
     "metadata": {},
     "output_type": "execute_result"
    }
   ],
   "source": [
    "gscv_xgb.best_params_"
   ]
  },
  {
   "cell_type": "code",
   "execution_count": 131,
   "metadata": {},
   "outputs": [
    {
     "data": {
      "text/plain": [
       "0.2816930132096365"
      ]
     },
     "execution_count": 131,
     "metadata": {},
     "output_type": "execute_result"
    }
   ],
   "source": [
    "-1*gscv_xgb.best_score_"
   ]
  },
  {
   "cell_type": "code",
   "execution_count": 132,
   "metadata": {
    "scrolled": true
   },
   "outputs": [
    {
     "data": {
      "text/plain": [
       "0.2696729254694102"
      ]
     },
     "execution_count": 132,
     "metadata": {},
     "output_type": "execute_result"
    }
   ],
   "source": [
    "-1*gscv_xgb.score(train_x, train_y)"
   ]
  },
  {
   "cell_type": "markdown",
   "metadata": {},
   "source": [
    "**Building XGBOOST on best parameters**"
   ]
  },
  {
   "cell_type": "code",
   "execution_count": 133,
   "metadata": {},
   "outputs": [
    {
     "name": "stdout",
     "output_type": "stream",
     "text": [
      "R-square Score: 0.31813698366207677\n"
     ]
    }
   ],
   "source": [
    "# Using best fit parameters to fit the model\n",
    "xgb = gscv_xgb.best_estimator_\n",
    "\n",
    "# Predicting total spent on train and test dataset\n",
    "train_output.loc[:, 'xgb_pred'] = np.exp(xgb.predict(train_x))\n",
    "test_output.loc[:, 'xgb_pred'] = np.exp(xgb.predict(test_x))\n",
    "\n",
    "# R-square Score\n",
    "xgb_r2 = metrics.r2_score(train_output.total_spent, train_output.xgb_pred)\n",
    "print('R-square Score:', xgb_r2)"
   ]
  },
  {
   "cell_type": "code",
   "execution_count": 134,
   "metadata": {},
   "outputs": [
    {
     "name": "stdout",
     "output_type": "stream",
     "text": [
      "MAPE values for training and testing data :\n",
      "0.46748097332634914\n",
      "0.4854053620997487\n",
      "\n",
      "RMSE values for training and testing data :\n",
      "267.49663381175674\n",
      "273.1102943816523\n"
     ]
    }
   ],
   "source": [
    "# Metrics for both training and testing data \n",
    "\n",
    "# Mean Absolute Percentage Error \n",
    "print(\"MAPE values for training and testing data :\")\n",
    "xgb_MAPE_train = np.mean(np.abs(train_output.total_spent - train_output.xgb_pred)/train_output.total_spent)\n",
    "print(xgb_MAPE_train)\n",
    "xgb_MAPE_test = np.mean(np.abs(test_output.total_spent - test_output.xgb_pred)/test_output.total_spent)\n",
    "print(xgb_MAPE_test)\n",
    "\n",
    "# Root Mean Squared error\n",
    "print(\"\\nRMSE values for training and testing data :\")\n",
    "xgb_RMSE_train = np.sqrt(mean_squared_error(train_output.total_spent,train_output.xgb_pred))\n",
    "print(xgb_RMSE_train)\n",
    "xgb_RMSE_test =np.sqrt(mean_squared_error(test_output.total_spent,test_output.xgb_pred))\n",
    "print(xgb_RMSE_test)"
   ]
  },
  {
   "cell_type": "code",
   "execution_count": 135,
   "metadata": {},
   "outputs": [
    {
     "name": "stdout",
     "output_type": "stream",
     "text": [
      "Correlation - Train Data:  (0.59777320264829, 0.0)  |  Test Data:  (0.5563447313509524, 1.2375282857915755e-122)\n"
     ]
    }
   ],
   "source": [
    "#Correlation between actual and predicted values\n",
    "Corr_train = stats.stats.pearsonr(train_output.total_spent, train_output.xgb_pred)\n",
    "Corr_test = stats.stats.pearsonr(test_output.total_spent, test_output.xgb_pred)\n",
    "\n",
    "print('Correlation - Train Data: ', Corr_train, ' | ', 'Test Data: ', Corr_test)"
   ]
  },
  {
   "cell_type": "markdown",
   "metadata": {},
   "source": [
    "**Decile Analysis**"
   ]
  },
  {
   "cell_type": "code",
   "execution_count": 136,
   "metadata": {},
   "outputs": [],
   "source": [
    "# Creating Deciles\n",
    "train_output.loc[:,'xgb_deciles'] = pd.qcut(train_output['xgb_pred'], 10, labels = False)\n",
    "test_output.loc[:,'xgb_deciles'] = pd.qcut(test_output['xgb_pred'], 10, labels = False)\n",
    "\n",
    "# Decile Analysis for train_output data\n",
    "xgb_decile_train = train_output.groupby('xgb_deciles')[['total_spent', 'xgb_pred']].mean().reset_index().sort_values(\n",
    "    by = 'xgb_deciles', ascending = False)\n",
    "\n",
    "# Decile Analysis for test_output data\n",
    "xgb_decile_test = test_output.groupby('xgb_deciles')[['total_spent', 'xgb_pred']].mean().reset_index().sort_values(\n",
    "    by = 'xgb_deciles', ascending = False)\n",
    "\n",
    "# write the data into the file\n",
    "xgb_decile_train.to_excel(output, 'Decile', startrow=2 , startcol=40, index = False)\n",
    "xgb_decile_test.to_excel(output, 'Decile', startrow=2 , startcol=45, index = False)"
   ]
  },
  {
   "cell_type": "code",
   "execution_count": 137,
   "metadata": {},
   "outputs": [
    {
     "data": {
      "text/html": [
       "<div>\n",
       "<style scoped>\n",
       "    .dataframe tbody tr th:only-of-type {\n",
       "        vertical-align: middle;\n",
       "    }\n",
       "\n",
       "    .dataframe tbody tr th {\n",
       "        vertical-align: top;\n",
       "    }\n",
       "\n",
       "    .dataframe thead th {\n",
       "        text-align: right;\n",
       "    }\n",
       "</style>\n",
       "<table border=\"1\" class=\"dataframe\">\n",
       "  <thead>\n",
       "    <tr style=\"text-align: right;\">\n",
       "      <th></th>\n",
       "      <th>xgb_deciles</th>\n",
       "      <th>total_spent</th>\n",
       "      <th>xgb_pred</th>\n",
       "    </tr>\n",
       "  </thead>\n",
       "  <tbody>\n",
       "    <tr>\n",
       "      <th>9</th>\n",
       "      <td>9</td>\n",
       "      <td>911.876775</td>\n",
       "      <td>809.778748</td>\n",
       "    </tr>\n",
       "    <tr>\n",
       "      <th>8</th>\n",
       "      <td>8</td>\n",
       "      <td>705.546305</td>\n",
       "      <td>604.466431</td>\n",
       "    </tr>\n",
       "    <tr>\n",
       "      <th>7</th>\n",
       "      <td>7</td>\n",
       "      <td>583.349676</td>\n",
       "      <td>519.825623</td>\n",
       "    </tr>\n",
       "    <tr>\n",
       "      <th>6</th>\n",
       "      <td>6</td>\n",
       "      <td>547.899217</td>\n",
       "      <td>459.377655</td>\n",
       "    </tr>\n",
       "    <tr>\n",
       "      <th>5</th>\n",
       "      <td>5</td>\n",
       "      <td>468.445888</td>\n",
       "      <td>412.063263</td>\n",
       "    </tr>\n",
       "    <tr>\n",
       "      <th>4</th>\n",
       "      <td>4</td>\n",
       "      <td>425.952571</td>\n",
       "      <td>375.401276</td>\n",
       "    </tr>\n",
       "    <tr>\n",
       "      <th>3</th>\n",
       "      <td>3</td>\n",
       "      <td>386.023977</td>\n",
       "      <td>338.661774</td>\n",
       "    </tr>\n",
       "    <tr>\n",
       "      <th>2</th>\n",
       "      <td>2</td>\n",
       "      <td>329.624843</td>\n",
       "      <td>312.119629</td>\n",
       "    </tr>\n",
       "    <tr>\n",
       "      <th>1</th>\n",
       "      <td>1</td>\n",
       "      <td>314.329523</td>\n",
       "      <td>275.549652</td>\n",
       "    </tr>\n",
       "    <tr>\n",
       "      <th>0</th>\n",
       "      <td>0</td>\n",
       "      <td>260.799998</td>\n",
       "      <td>229.683365</td>\n",
       "    </tr>\n",
       "  </tbody>\n",
       "</table>\n",
       "</div>"
      ],
      "text/plain": [
       "   xgb_deciles  total_spent    xgb_pred\n",
       "9            9   911.876775  809.778748\n",
       "8            8   705.546305  604.466431\n",
       "7            7   583.349676  519.825623\n",
       "6            6   547.899217  459.377655\n",
       "5            5   468.445888  412.063263\n",
       "4            4   425.952571  375.401276\n",
       "3            3   386.023977  338.661774\n",
       "2            2   329.624843  312.119629\n",
       "1            1   314.329523  275.549652\n",
       "0            0   260.799998  229.683365"
      ]
     },
     "execution_count": 137,
     "metadata": {},
     "output_type": "execute_result"
    }
   ],
   "source": [
    "xgb_decile_train"
   ]
  },
  {
   "cell_type": "code",
   "execution_count": 138,
   "metadata": {},
   "outputs": [
    {
     "data": {
      "text/html": [
       "<div>\n",
       "<style scoped>\n",
       "    .dataframe tbody tr th:only-of-type {\n",
       "        vertical-align: middle;\n",
       "    }\n",
       "\n",
       "    .dataframe tbody tr th {\n",
       "        vertical-align: top;\n",
       "    }\n",
       "\n",
       "    .dataframe thead th {\n",
       "        text-align: right;\n",
       "    }\n",
       "</style>\n",
       "<table border=\"1\" class=\"dataframe\">\n",
       "  <thead>\n",
       "    <tr style=\"text-align: right;\">\n",
       "      <th></th>\n",
       "      <th>xgb_deciles</th>\n",
       "      <th>total_spent</th>\n",
       "      <th>xgb_pred</th>\n",
       "    </tr>\n",
       "  </thead>\n",
       "  <tbody>\n",
       "    <tr>\n",
       "      <th>9</th>\n",
       "      <td>9</td>\n",
       "      <td>894.008716</td>\n",
       "      <td>821.662598</td>\n",
       "    </tr>\n",
       "    <tr>\n",
       "      <th>8</th>\n",
       "      <td>8</td>\n",
       "      <td>683.341206</td>\n",
       "      <td>595.646484</td>\n",
       "    </tr>\n",
       "    <tr>\n",
       "      <th>7</th>\n",
       "      <td>7</td>\n",
       "      <td>573.066346</td>\n",
       "      <td>517.055054</td>\n",
       "    </tr>\n",
       "    <tr>\n",
       "      <th>6</th>\n",
       "      <td>6</td>\n",
       "      <td>526.094877</td>\n",
       "      <td>457.927490</td>\n",
       "    </tr>\n",
       "    <tr>\n",
       "      <th>5</th>\n",
       "      <td>5</td>\n",
       "      <td>474.756118</td>\n",
       "      <td>410.919250</td>\n",
       "    </tr>\n",
       "    <tr>\n",
       "      <th>4</th>\n",
       "      <td>4</td>\n",
       "      <td>434.360539</td>\n",
       "      <td>370.662964</td>\n",
       "    </tr>\n",
       "    <tr>\n",
       "      <th>3</th>\n",
       "      <td>3</td>\n",
       "      <td>390.803400</td>\n",
       "      <td>334.216827</td>\n",
       "    </tr>\n",
       "    <tr>\n",
       "      <th>2</th>\n",
       "      <td>2</td>\n",
       "      <td>343.915600</td>\n",
       "      <td>308.506348</td>\n",
       "    </tr>\n",
       "    <tr>\n",
       "      <th>1</th>\n",
       "      <td>1</td>\n",
       "      <td>354.436400</td>\n",
       "      <td>277.547333</td>\n",
       "    </tr>\n",
       "    <tr>\n",
       "      <th>0</th>\n",
       "      <td>0</td>\n",
       "      <td>274.214199</td>\n",
       "      <td>232.842163</td>\n",
       "    </tr>\n",
       "  </tbody>\n",
       "</table>\n",
       "</div>"
      ],
      "text/plain": [
       "   xgb_deciles  total_spent    xgb_pred\n",
       "9            9   894.008716  821.662598\n",
       "8            8   683.341206  595.646484\n",
       "7            7   573.066346  517.055054\n",
       "6            6   526.094877  457.927490\n",
       "5            5   474.756118  410.919250\n",
       "4            4   434.360539  370.662964\n",
       "3            3   390.803400  334.216827\n",
       "2            2   343.915600  308.506348\n",
       "1            1   354.436400  277.547333\n",
       "0            0   274.214199  232.842163"
      ]
     },
     "execution_count": 138,
     "metadata": {},
     "output_type": "execute_result"
    }
   ],
   "source": [
    "xgb_decile_test"
   ]
  },
  {
   "cell_type": "code",
   "execution_count": 139,
   "metadata": {},
   "outputs": [
    {
     "data": {
      "image/png": "[encoded data removed]",
      "text/plain": [
       "<Figure size 432x288 with 1 Axes>"
      ]
     },
     "metadata": {
      "needs_background": "light"
     },
     "output_type": "display_data"
    }
   ],
   "source": [
    "# Feature Impotance\n",
    "xgb_fi = pd.DataFrame({'Features' : train_x.columns ,\n",
    "                      'Importance' : xgb.feature_importances_\n",
    "                     }).sort_values(by = 'Importance').reset_index(drop = True)\n",
    "\n",
    "xgb_fi.to_excel(output, 'Drivers', startrow=2, startcol=20, index = False)\n",
    "\n",
    "plt.barh(width = xgb_fi.Importance, y = xgb_fi.Features)\n",
    "plt.show()"
   ]
  },
  {
   "cell_type": "markdown",
   "metadata": {},
   "source": [
    "**Plotting the feature importances**"
   ]
  },
  {
   "cell_type": "code",
   "execution_count": 140,
   "metadata": {
    "scrolled": false
   },
   "outputs": [
    {
     "data": {
      "text/plain": [
       "<Figure size 864x432 with 0 Axes>"
      ]
     },
     "metadata": {},
     "output_type": "display_data"
    },
    {
     "data": {
      "image/png": "[encoded data removed]",
      "text/plain": [
       "<Figure size 432x288 with 1 Axes>"
      ]
     },
     "metadata": {
      "needs_background": "light"
     },
     "output_type": "display_data"
    }
   ],
   "source": [
    "from xgboost import plot_importance\n",
    "plt.figure(figsize = (12,6))\n",
    "plot_importance(xgb)\n",
    "plt.show()"
   ]
  },
  {
   "cell_type": "markdown",
   "metadata": {},
   "source": [
    "## SVM(Support Vector Machine)\n"
   ]
  },
  {
   "cell_type": "code",
   "execution_count": 141,
   "metadata": {},
   "outputs": [],
   "source": [
    "# Importing required modules\n",
    "from sklearn.svm import SVR\n",
    "from sklearn.svm import LinearSVR "
   ]
  },
  {
   "cell_type": "code",
   "execution_count": 142,
   "metadata": {},
   "outputs": [
    {
     "name": "stdout",
     "output_type": "stream",
     "text": [
      "Fitting 5 folds for each of 3 candidates, totalling 15 fits\n"
     ]
    },
    {
     "name": "stderr",
     "output_type": "stream",
     "text": [
      "[Parallel(n_jobs=-1)]: Using backend LokyBackend with 4 concurrent workers.\n",
      "[Parallel(n_jobs=-1)]: Done  12 out of  15 | elapsed:   16.2s remaining:    4.0s\n",
      "[Parallel(n_jobs=-1)]: Done  15 out of  15 | elapsed:   19.1s finished\n"
     ]
    }
   ],
   "source": [
    "# Model building using Linear svm \n",
    "#'C': [1,0.1,0.001,10,100]\n",
    "#'gamma':[0.0001, 0.001, 0.01, 0.1]\n",
    "param = {'kernel': ['linear','rbf','poly'],\n",
    "        'gamma':['auto']}\n",
    "\n",
    "gscv_svr = GridSearchCV(SVR(),\n",
    "                       param,\n",
    "                       cv=5,\n",
    "                       scoring = 'neg_mean_squared_error',\n",
    "                       verbose=5,\n",
    "                       n_jobs=-1).fit(train_x,train_y)"
   ]
  },
  {
   "cell_type": "code",
   "execution_count": 143,
   "metadata": {
    "scrolled": true
   },
   "outputs": [
    {
     "data": {
      "text/plain": [
       "{'gamma': 'auto', 'kernel': 'linear'}"
      ]
     },
     "execution_count": 143,
     "metadata": {},
     "output_type": "execute_result"
    }
   ],
   "source": [
    "gscv_svr.best_params_"
   ]
  },
  {
   "cell_type": "code",
   "execution_count": 144,
   "metadata": {},
   "outputs": [
    {
     "data": {
      "text/plain": [
       "0.280090152549747"
      ]
     },
     "execution_count": 144,
     "metadata": {},
     "output_type": "execute_result"
    }
   ],
   "source": [
    "-1*gscv_svr.best_score_"
   ]
  },
  {
   "cell_type": "code",
   "execution_count": 145,
   "metadata": {
    "scrolled": true
   },
   "outputs": [
    {
     "data": {
      "text/plain": [
       "0.27682986629887535"
      ]
     },
     "execution_count": 145,
     "metadata": {},
     "output_type": "execute_result"
    }
   ],
   "source": [
    "-1*gscv_svr.score(train_x, train_y)"
   ]
  },
  {
   "cell_type": "markdown",
   "metadata": {},
   "source": [
    "**Building svrOOST on best parameters**"
   ]
  },
  {
   "cell_type": "code",
   "execution_count": 146,
   "metadata": {},
   "outputs": [
    {
     "name": "stdout",
     "output_type": "stream",
     "text": [
      "R-square Score: 0.3149342699295582\n"
     ]
    }
   ],
   "source": [
    "# Using best fit parameters to fit the model\n",
    "svr = gscv_svr.best_estimator_\n",
    "\n",
    "# Predicting total spent on train and test dataset\n",
    "train_output.loc[:, 'svr_pred'] = np.exp(svr.predict(train_x))\n",
    "test_output.loc[:, 'svr_pred'] = np.exp(svr.predict(test_x))\n",
    "\n",
    "# R-square Score\n",
    "svr_r2 = metrics.r2_score(train_output.total_spent, train_output.svr_pred)\n",
    "print('R-square Score:', svr_r2)"
   ]
  },
  {
   "cell_type": "code",
   "execution_count": 147,
   "metadata": {},
   "outputs": [
    {
     "name": "stdout",
     "output_type": "stream",
     "text": [
      "MAPE values for training and testing data :\n",
      "0.48431806133202704\n",
      "0.49051012941575156\n",
      "\n",
      "RMSE values for training and testing data :\n",
      "268.1241143165953\n",
      "270.47398216773973\n"
     ]
    }
   ],
   "source": [
    "# Metrics for both training and testing data \n",
    "\n",
    "# Mean Absolute Percentage Error \n",
    "print(\"MAPE values for training and testing data :\")\n",
    "svr_MAPE_train = np.mean(np.abs(train_output.total_spent - train_output.svr_pred)/train_output.total_spent)\n",
    "print(svr_MAPE_train)\n",
    "svr_MAPE_test = np.mean(np.abs(test_output.total_spent - test_output.svr_pred)/test_output.total_spent)\n",
    "print(svr_MAPE_test)\n",
    "\n",
    "# Root Mean Squared error\n",
    "print(\"\\nRMSE values for training and testing data :\")\n",
    "svr_RMSE_train = np.sqrt(mean_squared_error(train_output.total_spent,train_output.svr_pred))\n",
    "print(svr_RMSE_train)\n",
    "svr_RMSE_test =np.sqrt(mean_squared_error(test_output.total_spent,test_output.svr_pred))\n",
    "print(svr_RMSE_test)"
   ]
  },
  {
   "cell_type": "code",
   "execution_count": 148,
   "metadata": {},
   "outputs": [
    {
     "name": "stdout",
     "output_type": "stream",
     "text": [
      "Correlation - Train Data:  (0.5893943118069167, 0.0)  |  Test Data:  (0.562838626923441, 4.420670795862529e-126)\n"
     ]
    }
   ],
   "source": [
    "#Correlation between actual and predicted values\n",
    "Corr_train = stats.stats.pearsonr(train_output.total_spent, train_output.svr_pred)\n",
    "Corr_test = stats.stats.pearsonr(test_output.total_spent, test_output.svr_pred)\n",
    "\n",
    "print('Correlation - Train Data: ', Corr_train, ' | ', 'Test Data: ', Corr_test)"
   ]
  },
  {
   "cell_type": "markdown",
   "metadata": {},
   "source": [
    "**Decile Analysis**"
   ]
  },
  {
   "cell_type": "code",
   "execution_count": 149,
   "metadata": {},
   "outputs": [],
   "source": [
    "# Creating Deciles\n",
    "train_output.loc[:,'svr_deciles'] = pd.qcut(train_output['svr_pred'], 10, labels = False)\n",
    "test_output.loc[:,'svr_deciles'] = pd.qcut(test_output['svr_pred'], 10, labels = False)\n",
    "\n",
    "# Decile Analysis for train_output data\n",
    "svr_decile_train = train_output.groupby('svr_deciles')[['total_spent', 'svr_pred']].mean().reset_index().sort_values(\n",
    "    by = 'svr_deciles', ascending = False)\n",
    "\n",
    "# Decile Analysis for test_output data\n",
    "svr_decile_test = test_output.groupby('svr_deciles')[['total_spent', 'svr_pred']].mean().reset_index().sort_values(\n",
    "    by = 'svr_deciles', ascending = False)\n",
    "\n",
    "# write the data into the file\n",
    "svr_decile_train.to_excel(output, 'Decile', startrow=2 , startcol=50, index = False)\n",
    "svr_decile_test.to_excel(output, 'Decile', startrow=2 , startcol=55, index = False)"
   ]
  },
  {
   "cell_type": "code",
   "execution_count": 150,
   "metadata": {},
   "outputs": [
    {
     "data": {
      "text/html": [
       "<div>\n",
       "<style scoped>\n",
       "    .dataframe tbody tr th:only-of-type {\n",
       "        vertical-align: middle;\n",
       "    }\n",
       "\n",
       "    .dataframe tbody tr th {\n",
       "        vertical-align: top;\n",
       "    }\n",
       "\n",
       "    .dataframe thead th {\n",
       "        text-align: right;\n",
       "    }\n",
       "</style>\n",
       "<table border=\"1\" class=\"dataframe\">\n",
       "  <thead>\n",
       "    <tr style=\"text-align: right;\">\n",
       "      <th></th>\n",
       "      <th>svr_deciles</th>\n",
       "      <th>total_spent</th>\n",
       "      <th>svr_pred</th>\n",
       "    </tr>\n",
       "  </thead>\n",
       "  <tbody>\n",
       "    <tr>\n",
       "      <th>9</th>\n",
       "      <td>9</td>\n",
       "      <td>900.554855</td>\n",
       "      <td>804.725001</td>\n",
       "    </tr>\n",
       "    <tr>\n",
       "      <th>8</th>\n",
       "      <td>8</td>\n",
       "      <td>697.147164</td>\n",
       "      <td>609.386673</td>\n",
       "    </tr>\n",
       "    <tr>\n",
       "      <th>7</th>\n",
       "      <td>7</td>\n",
       "      <td>598.360296</td>\n",
       "      <td>525.825677</td>\n",
       "    </tr>\n",
       "    <tr>\n",
       "      <th>6</th>\n",
       "      <td>6</td>\n",
       "      <td>535.371860</td>\n",
       "      <td>469.177362</td>\n",
       "    </tr>\n",
       "    <tr>\n",
       "      <th>5</th>\n",
       "      <td>5</td>\n",
       "      <td>477.405504</td>\n",
       "      <td>422.342381</td>\n",
       "    </tr>\n",
       "    <tr>\n",
       "      <th>4</th>\n",
       "      <td>4</td>\n",
       "      <td>408.747642</td>\n",
       "      <td>377.494420</td>\n",
       "    </tr>\n",
       "    <tr>\n",
       "      <th>3</th>\n",
       "      <td>3</td>\n",
       "      <td>398.090980</td>\n",
       "      <td>344.736631</td>\n",
       "    </tr>\n",
       "    <tr>\n",
       "      <th>2</th>\n",
       "      <td>2</td>\n",
       "      <td>329.997405</td>\n",
       "      <td>318.661960</td>\n",
       "    </tr>\n",
       "    <tr>\n",
       "      <th>1</th>\n",
       "      <td>1</td>\n",
       "      <td>315.623988</td>\n",
       "      <td>289.394375</td>\n",
       "    </tr>\n",
       "    <tr>\n",
       "      <th>0</th>\n",
       "      <td>0</td>\n",
       "      <td>269.777598</td>\n",
       "      <td>247.040667</td>\n",
       "    </tr>\n",
       "  </tbody>\n",
       "</table>\n",
       "</div>"
      ],
      "text/plain": [
       "   svr_deciles  total_spent    svr_pred\n",
       "9            9   900.554855  804.725001\n",
       "8            8   697.147164  609.386673\n",
       "7            7   598.360296  525.825677\n",
       "6            6   535.371860  469.177362\n",
       "5            5   477.405504  422.342381\n",
       "4            4   408.747642  377.494420\n",
       "3            3   398.090980  344.736631\n",
       "2            2   329.997405  318.661960\n",
       "1            1   315.623988  289.394375\n",
       "0            0   269.777598  247.040667"
      ]
     },
     "execution_count": 150,
     "metadata": {},
     "output_type": "execute_result"
    }
   ],
   "source": [
    "svr_decile_train"
   ]
  },
  {
   "cell_type": "code",
   "execution_count": 151,
   "metadata": {},
   "outputs": [
    {
     "data": {
      "text/html": [
       "<div>\n",
       "<style scoped>\n",
       "    .dataframe tbody tr th:only-of-type {\n",
       "        vertical-align: middle;\n",
       "    }\n",
       "\n",
       "    .dataframe tbody tr th {\n",
       "        vertical-align: top;\n",
       "    }\n",
       "\n",
       "    .dataframe thead th {\n",
       "        text-align: right;\n",
       "    }\n",
       "</style>\n",
       "<table border=\"1\" class=\"dataframe\">\n",
       "  <thead>\n",
       "    <tr style=\"text-align: right;\">\n",
       "      <th></th>\n",
       "      <th>svr_deciles</th>\n",
       "      <th>total_spent</th>\n",
       "      <th>svr_pred</th>\n",
       "    </tr>\n",
       "  </thead>\n",
       "  <tbody>\n",
       "    <tr>\n",
       "      <th>9</th>\n",
       "      <td>9</td>\n",
       "      <td>884.154870</td>\n",
       "      <td>819.262244</td>\n",
       "    </tr>\n",
       "    <tr>\n",
       "      <th>8</th>\n",
       "      <td>8</td>\n",
       "      <td>702.441031</td>\n",
       "      <td>606.864243</td>\n",
       "    </tr>\n",
       "    <tr>\n",
       "      <th>7</th>\n",
       "      <td>7</td>\n",
       "      <td>578.960567</td>\n",
       "      <td>526.270393</td>\n",
       "    </tr>\n",
       "    <tr>\n",
       "      <th>6</th>\n",
       "      <td>6</td>\n",
       "      <td>531.505590</td>\n",
       "      <td>467.672586</td>\n",
       "    </tr>\n",
       "    <tr>\n",
       "      <th>5</th>\n",
       "      <td>5</td>\n",
       "      <td>480.852206</td>\n",
       "      <td>419.177428</td>\n",
       "    </tr>\n",
       "    <tr>\n",
       "      <th>4</th>\n",
       "      <td>4</td>\n",
       "      <td>445.271000</td>\n",
       "      <td>372.565892</td>\n",
       "    </tr>\n",
       "    <tr>\n",
       "      <th>3</th>\n",
       "      <td>3</td>\n",
       "      <td>370.800800</td>\n",
       "      <td>342.015287</td>\n",
       "    </tr>\n",
       "    <tr>\n",
       "      <th>2</th>\n",
       "      <td>2</td>\n",
       "      <td>364.818000</td>\n",
       "      <td>317.876869</td>\n",
       "    </tr>\n",
       "    <tr>\n",
       "      <th>1</th>\n",
       "      <td>1</td>\n",
       "      <td>332.752000</td>\n",
       "      <td>288.701008</td>\n",
       "    </tr>\n",
       "    <tr>\n",
       "      <th>0</th>\n",
       "      <td>0</td>\n",
       "      <td>268.639999</td>\n",
       "      <td>248.886150</td>\n",
       "    </tr>\n",
       "  </tbody>\n",
       "</table>\n",
       "</div>"
      ],
      "text/plain": [
       "   svr_deciles  total_spent    svr_pred\n",
       "9            9   884.154870  819.262244\n",
       "8            8   702.441031  606.864243\n",
       "7            7   578.960567  526.270393\n",
       "6            6   531.505590  467.672586\n",
       "5            5   480.852206  419.177428\n",
       "4            4   445.271000  372.565892\n",
       "3            3   370.800800  342.015287\n",
       "2            2   364.818000  317.876869\n",
       "1            1   332.752000  288.701008\n",
       "0            0   268.639999  248.886150"
      ]
     },
     "execution_count": 151,
     "metadata": {},
     "output_type": "execute_result"
    }
   ],
   "source": [
    "svr_decile_test"
   ]
  },
  {
   "cell_type": "markdown",
   "metadata": {},
   "source": [
    "## K - Nearest Neighbours"
   ]
  },
  {
   "cell_type": "code",
   "execution_count": 152,
   "metadata": {},
   "outputs": [],
   "source": [
    "# Importing required modules\n",
    "from sklearn.neighbors import KNeighborsRegressor\n",
    "from sklearn.preprocessing import StandardScaler"
   ]
  },
  {
   "cell_type": "code",
   "execution_count": 153,
   "metadata": {},
   "outputs": [],
   "source": [
    "# Standardizing the data because KNN is distance based algorithm \n",
    "scaler = StandardScaler()\n",
    "ss_train_x = scaler.fit_transform(train_x)\n",
    "ss_test_x = scaler.transform(test_x)"
   ]
  },
  {
   "cell_type": "code",
   "execution_count": 154,
   "metadata": {},
   "outputs": [
    {
     "name": "stdout",
     "output_type": "stream",
     "text": [
      "Fitting 5 folds for each of 9 candidates, totalling 45 fits\n"
     ]
    },
    {
     "name": "stderr",
     "output_type": "stream",
     "text": [
      "[Parallel(n_jobs=-1)]: Using backend LokyBackend with 4 concurrent workers.\n",
      "[Parallel(n_jobs=-1)]: Done  10 tasks      | elapsed:    2.2s\n",
      "[Parallel(n_jobs=-1)]: Done  45 out of  45 | elapsed:    8.7s finished\n"
     ]
    }
   ],
   "source": [
    "# Model Building using different tuning parameters\n",
    "param = {'n_neighbors': range(5,50,5)}\n",
    "\n",
    "gscv_knn = GridSearchCV(KNeighborsRegressor(),\n",
    "                        param,\n",
    "                        cv=5,\n",
    "                        scoring = 'neg_mean_squared_error',\n",
    "                        n_jobs=-1,\n",
    "                        verbose=5).fit(ss_train_x,train_y)"
   ]
  },
  {
   "cell_type": "code",
   "execution_count": 155,
   "metadata": {
    "scrolled": true
   },
   "outputs": [
    {
     "data": {
      "text/plain": [
       "{'n_neighbors': 40}"
      ]
     },
     "execution_count": 155,
     "metadata": {},
     "output_type": "execute_result"
    }
   ],
   "source": [
    "gscv_knn.best_params_"
   ]
  },
  {
   "cell_type": "code",
   "execution_count": 156,
   "metadata": {},
   "outputs": [
    {
     "data": {
      "text/plain": [
       "0.3154045352009219"
      ]
     },
     "execution_count": 156,
     "metadata": {},
     "output_type": "execute_result"
    }
   ],
   "source": [
    "-1*gscv_knn.best_score_"
   ]
  },
  {
   "cell_type": "code",
   "execution_count": 157,
   "metadata": {
    "scrolled": true
   },
   "outputs": [
    {
     "data": {
      "text/plain": [
       "0.29909651810552934"
      ]
     },
     "execution_count": 157,
     "metadata": {},
     "output_type": "execute_result"
    }
   ],
   "source": [
    "-1*gscv_knn.score(ss_train_x, train_y)"
   ]
  },
  {
   "cell_type": "markdown",
   "metadata": {},
   "source": [
    "**Building knnOOST on best parameters**"
   ]
  },
  {
   "cell_type": "code",
   "execution_count": 158,
   "metadata": {},
   "outputs": [
    {
     "name": "stdout",
     "output_type": "stream",
     "text": [
      "R-square Score: 0.23447100248302\n"
     ]
    }
   ],
   "source": [
    "# Using best fit parameters to fit the model\n",
    "knn = gscv_knn.best_estimator_\n",
    "\n",
    "# Predicting total spent on train and test dataset\n",
    "train_output.loc[:, 'knn_pred'] = np.exp(knn.predict(ss_train_x))\n",
    "test_output.loc[:, 'knn_pred'] = np.exp(knn.predict(ss_test_x))\n",
    "\n",
    "# R-square Score\n",
    "knn_r2 = metrics.r2_score(train_output.total_spent, train_output.knn_pred)\n",
    "print('R-square Score:', knn_r2)"
   ]
  },
  {
   "cell_type": "code",
   "execution_count": 159,
   "metadata": {},
   "outputs": [
    {
     "name": "stdout",
     "output_type": "stream",
     "text": [
      "MAPE values for training and testing data :\n",
      "0.49340424311257663\n",
      "0.51100097000854\n",
      "\n",
      " RMSE values for training and testing data :\n",
      "283.4331063482404\n",
      "291.8699193038681\n"
     ]
    }
   ],
   "source": [
    "# Metrics for both training and testing data \n",
    "\n",
    "# Mean Absolute Percentage Error \n",
    "print(\"MAPE values for training and testing data :\")\n",
    "knn_MAPE_train = np.mean(np.abs(train_output.total_spent - train_output.knn_pred)/train_output.total_spent)\n",
    "print(knn_MAPE_train)\n",
    "knn_MAPE_test = np.mean(np.abs(test_output.total_spent - test_output.knn_pred)/test_output.total_spent)\n",
    "print(knn_MAPE_test)\n",
    "\n",
    "# Root Mean Squared Error\n",
    "print(\"\\n RMSE values for training and testing data :\")\n",
    "knn_RMSE_train = np.sqrt(mean_squared_error(train_output.total_spent,train_output.knn_pred))\n",
    "print(knn_RMSE_train)\n",
    "knn_RMSE_test =np.sqrt(mean_squared_error(test_output.total_spent,test_output.knn_pred))\n",
    "print(knn_RMSE_test)"
   ]
  },
  {
   "cell_type": "code",
   "execution_count": 160,
   "metadata": {},
   "outputs": [
    {
     "name": "stdout",
     "output_type": "stream",
     "text": [
      "Correlation - Train Data:  (0.5416896515557403, 3.722888719153344e-266)  |  Test Data:  (0.47164832458065475, 6.224536388978698e-84)\n"
     ]
    }
   ],
   "source": [
    "#Correlation between actual and predicted values\n",
    "Corr_train = stats.stats.pearsonr(train_output.total_spent, train_output.knn_pred)\n",
    "Corr_test = stats.stats.pearsonr(test_output.total_spent, test_output.knn_pred)\n",
    "\n",
    "print('Correlation - Train Data: ', Corr_train, ' | ', 'Test Data: ', Corr_test)"
   ]
  },
  {
   "cell_type": "markdown",
   "metadata": {},
   "source": [
    "**Decile Analysis**"
   ]
  },
  {
   "cell_type": "code",
   "execution_count": 161,
   "metadata": {},
   "outputs": [],
   "source": [
    "# Creating Deciles\n",
    "train_output.loc[:,'knn_deciles'] = pd.qcut(train_output['knn_pred'], 10, labels = False)\n",
    "test_output.loc[:,'knn_deciles'] = pd.qcut(test_output['knn_pred'], 10, labels = False)\n",
    "\n",
    "# Decile Analysis for train_output data\n",
    "knn_decile_train = train_output.groupby('knn_deciles')[['total_spent', 'knn_pred']].mean().reset_index().sort_values(\n",
    "    by = 'knn_deciles', ascending = False)\n",
    "\n",
    "# Decile Analysis for test_output data\n",
    "knn_decile_test = test_output.groupby('knn_deciles')[['total_spent', 'knn_pred']].mean().reset_index().sort_values(\n",
    "    by = 'knn_deciles', ascending = False)\n",
    "\n",
    "# write the data into the file\n",
    "knn_decile_train.to_excel(output, 'Decile', startrow=2, startcol=60, index = False)\n",
    "knn_decile_test.to_excel(output, 'Decile', startrow=2, startcol=65, index = False)"
   ]
  },
  {
   "cell_type": "code",
   "execution_count": 162,
   "metadata": {},
   "outputs": [
    {
     "data": {
      "text/html": [
       "<div>\n",
       "<style scoped>\n",
       "    .dataframe tbody tr th:only-of-type {\n",
       "        vertical-align: middle;\n",
       "    }\n",
       "\n",
       "    .dataframe tbody tr th {\n",
       "        vertical-align: top;\n",
       "    }\n",
       "\n",
       "    .dataframe thead th {\n",
       "        text-align: right;\n",
       "    }\n",
       "</style>\n",
       "<table border=\"1\" class=\"dataframe\">\n",
       "  <thead>\n",
       "    <tr style=\"text-align: right;\">\n",
       "      <th></th>\n",
       "      <th>knn_deciles</th>\n",
       "      <th>total_spent</th>\n",
       "      <th>knn_pred</th>\n",
       "    </tr>\n",
       "  </thead>\n",
       "  <tbody>\n",
       "    <tr>\n",
       "      <th>9</th>\n",
       "      <td>9</td>\n",
       "      <td>879.532307</td>\n",
       "      <td>730.257106</td>\n",
       "    </tr>\n",
       "    <tr>\n",
       "      <th>8</th>\n",
       "      <td>8</td>\n",
       "      <td>678.259496</td>\n",
       "      <td>593.748137</td>\n",
       "    </tr>\n",
       "    <tr>\n",
       "      <th>7</th>\n",
       "      <td>7</td>\n",
       "      <td>604.865695</td>\n",
       "      <td>500.521730</td>\n",
       "    </tr>\n",
       "    <tr>\n",
       "      <th>6</th>\n",
       "      <td>6</td>\n",
       "      <td>517.653198</td>\n",
       "      <td>423.937622</td>\n",
       "    </tr>\n",
       "    <tr>\n",
       "      <th>5</th>\n",
       "      <td>5</td>\n",
       "      <td>453.230888</td>\n",
       "      <td>384.130225</td>\n",
       "    </tr>\n",
       "    <tr>\n",
       "      <th>4</th>\n",
       "      <td>4</td>\n",
       "      <td>431.651935</td>\n",
       "      <td>358.425413</td>\n",
       "    </tr>\n",
       "    <tr>\n",
       "      <th>3</th>\n",
       "      <td>3</td>\n",
       "      <td>386.100083</td>\n",
       "      <td>340.998152</td>\n",
       "    </tr>\n",
       "    <tr>\n",
       "      <th>2</th>\n",
       "      <td>2</td>\n",
       "      <td>366.911695</td>\n",
       "      <td>325.175039</td>\n",
       "    </tr>\n",
       "    <tr>\n",
       "      <th>1</th>\n",
       "      <td>1</td>\n",
       "      <td>335.164171</td>\n",
       "      <td>305.788882</td>\n",
       "    </tr>\n",
       "    <tr>\n",
       "      <th>0</th>\n",
       "      <td>0</td>\n",
       "      <td>279.424684</td>\n",
       "      <td>264.415036</td>\n",
       "    </tr>\n",
       "  </tbody>\n",
       "</table>\n",
       "</div>"
      ],
      "text/plain": [
       "   knn_deciles  total_spent    knn_pred\n",
       "9            9   879.532307  730.257106\n",
       "8            8   678.259496  593.748137\n",
       "7            7   604.865695  500.521730\n",
       "6            6   517.653198  423.937622\n",
       "5            5   453.230888  384.130225\n",
       "4            4   431.651935  358.425413\n",
       "3            3   386.100083  340.998152\n",
       "2            2   366.911695  325.175039\n",
       "1            1   335.164171  305.788882\n",
       "0            0   279.424684  264.415036"
      ]
     },
     "execution_count": 162,
     "metadata": {},
     "output_type": "execute_result"
    }
   ],
   "source": [
    "knn_decile_train"
   ]
  },
  {
   "cell_type": "code",
   "execution_count": 163,
   "metadata": {},
   "outputs": [
    {
     "data": {
      "text/html": [
       "<div>\n",
       "<style scoped>\n",
       "    .dataframe tbody tr th:only-of-type {\n",
       "        vertical-align: middle;\n",
       "    }\n",
       "\n",
       "    .dataframe tbody tr th {\n",
       "        vertical-align: top;\n",
       "    }\n",
       "\n",
       "    .dataframe thead th {\n",
       "        text-align: right;\n",
       "    }\n",
       "</style>\n",
       "<table border=\"1\" class=\"dataframe\">\n",
       "  <thead>\n",
       "    <tr style=\"text-align: right;\">\n",
       "      <th></th>\n",
       "      <th>knn_deciles</th>\n",
       "      <th>total_spent</th>\n",
       "      <th>knn_pred</th>\n",
       "    </tr>\n",
       "  </thead>\n",
       "  <tbody>\n",
       "    <tr>\n",
       "      <th>9</th>\n",
       "      <td>9</td>\n",
       "      <td>849.065882</td>\n",
       "      <td>728.212905</td>\n",
       "    </tr>\n",
       "    <tr>\n",
       "      <th>8</th>\n",
       "      <td>8</td>\n",
       "      <td>636.124443</td>\n",
       "      <td>592.757001</td>\n",
       "    </tr>\n",
       "    <tr>\n",
       "      <th>7</th>\n",
       "      <td>7</td>\n",
       "      <td>585.524502</td>\n",
       "      <td>488.240940</td>\n",
       "    </tr>\n",
       "    <tr>\n",
       "      <th>6</th>\n",
       "      <td>6</td>\n",
       "      <td>492.052234</td>\n",
       "      <td>415.726377</td>\n",
       "    </tr>\n",
       "    <tr>\n",
       "      <th>5</th>\n",
       "      <td>5</td>\n",
       "      <td>455.544865</td>\n",
       "      <td>382.185193</td>\n",
       "    </tr>\n",
       "    <tr>\n",
       "      <th>4</th>\n",
       "      <td>4</td>\n",
       "      <td>415.637523</td>\n",
       "      <td>359.962137</td>\n",
       "    </tr>\n",
       "    <tr>\n",
       "      <th>3</th>\n",
       "      <td>3</td>\n",
       "      <td>431.365098</td>\n",
       "      <td>342.682602</td>\n",
       "    </tr>\n",
       "    <tr>\n",
       "      <th>2</th>\n",
       "      <td>2</td>\n",
       "      <td>401.657551</td>\n",
       "      <td>327.823294</td>\n",
       "    </tr>\n",
       "    <tr>\n",
       "      <th>1</th>\n",
       "      <td>1</td>\n",
       "      <td>375.443206</td>\n",
       "      <td>310.370013</td>\n",
       "    </tr>\n",
       "    <tr>\n",
       "      <th>0</th>\n",
       "      <td>0</td>\n",
       "      <td>311.213071</td>\n",
       "      <td>268.858857</td>\n",
       "    </tr>\n",
       "  </tbody>\n",
       "</table>\n",
       "</div>"
      ],
      "text/plain": [
       "   knn_deciles  total_spent    knn_pred\n",
       "9            9   849.065882  728.212905\n",
       "8            8   636.124443  592.757001\n",
       "7            7   585.524502  488.240940\n",
       "6            6   492.052234  415.726377\n",
       "5            5   455.544865  382.185193\n",
       "4            4   415.637523  359.962137\n",
       "3            3   431.365098  342.682602\n",
       "2            2   401.657551  327.823294\n",
       "1            1   375.443206  310.370013\n",
       "0            0   311.213071  268.858857"
      ]
     },
     "execution_count": 163,
     "metadata": {},
     "output_type": "execute_result"
    }
   ],
   "source": [
    "knn_decile_test"
   ]
  },
  {
   "cell_type": "markdown",
   "metadata": {},
   "source": [
    "## Evaluating different metrics for each model"
   ]
  },
  {
   "cell_type": "code",
   "execution_count": 164,
   "metadata": {
    "scrolled": true
   },
   "outputs": [],
   "source": [
    "#Getting accuracy and log loss for each model\n",
    "model_data = pd.DataFrame({'Regressor' : ['LinearRegressor', 'DecisionTreeRegressor', 'RandomForestRegressor', \n",
    "                                         'GradientBoostingRegressor', 'XGBRegressor', 'Support Vector Regressor',\n",
    "                                         'KNeighborsRegressor'],\n",
    "                            'R2 Score' : [lr_r2, dt_r2, rf_r2, gb_r2, xgb_r2, svr_r2, knn_r2],\n",
    "                            'MAPE_train' : [lr_MAPE_train, dt_MAPE_train, rf_MAPE_train, gb_MAPE_train, xgb_MAPE_train, \n",
    "                                            svr_MAPE_train, knn_MAPE_train],\n",
    "                            'MAPE_test' : [lr_MAPE_test, dt_MAPE_test, rf_MAPE_test, gb_MAPE_test, xgb_MAPE_test, \n",
    "                                           svr_MAPE_test, knn_MAPE_test],\n",
    "                            'RMSE_train' : [lr_RMSE_train, dt_RMSE_train, rf_RMSE_train, gb_RMSE_train, xgb_RMSE_train, \n",
    "                                            svr_RMSE_train, knn_RMSE_train],\n",
    "                            'RMSE_test' : [lr_RMSE_test, dt_RMSE_test, rf_RMSE_test, gb_RMSE_test, xgb_RMSE_test, \n",
    "                                           svr_RMSE_test, knn_RMSE_test]\n",
    "                          })"
   ]
  },
  {
   "cell_type": "code",
   "execution_count": 165,
   "metadata": {
    "scrolled": false
   },
   "outputs": [
    {
     "data": {
      "text/html": [
       "<div>\n",
       "<style scoped>\n",
       "    .dataframe tbody tr th:only-of-type {\n",
       "        vertical-align: middle;\n",
       "    }\n",
       "\n",
       "    .dataframe tbody tr th {\n",
       "        vertical-align: top;\n",
       "    }\n",
       "\n",
       "    .dataframe thead th {\n",
       "        text-align: right;\n",
       "    }\n",
       "</style>\n",
       "<table border=\"1\" class=\"dataframe\">\n",
       "  <thead>\n",
       "    <tr style=\"text-align: right;\">\n",
       "      <th></th>\n",
       "      <th>Regressor</th>\n",
       "      <th>R2 Score</th>\n",
       "      <th>MAPE_train</th>\n",
       "      <th>MAPE_test</th>\n",
       "      <th>RMSE_train</th>\n",
       "      <th>RMSE_test</th>\n",
       "    </tr>\n",
       "  </thead>\n",
       "  <tbody>\n",
       "    <tr>\n",
       "      <th>0</th>\n",
       "      <td>LinearRegressor</td>\n",
       "      <td>0.315362</td>\n",
       "      <td>0.472767</td>\n",
       "      <td>0.481149</td>\n",
       "      <td>268.040475</td>\n",
       "      <td>271.312714</td>\n",
       "    </tr>\n",
       "    <tr>\n",
       "      <th>1</th>\n",
       "      <td>DecisionTreeRegressor</td>\n",
       "      <td>0.338101</td>\n",
       "      <td>0.460028</td>\n",
       "      <td>0.507543</td>\n",
       "      <td>263.551489</td>\n",
       "      <td>276.460401</td>\n",
       "    </tr>\n",
       "    <tr>\n",
       "      <th>2</th>\n",
       "      <td>RandomForestRegressor</td>\n",
       "      <td>0.323972</td>\n",
       "      <td>0.459714</td>\n",
       "      <td>0.492411</td>\n",
       "      <td>266.349715</td>\n",
       "      <td>276.459422</td>\n",
       "    </tr>\n",
       "    <tr>\n",
       "      <th>3</th>\n",
       "      <td>GradientBoostingRegressor</td>\n",
       "      <td>0.308691</td>\n",
       "      <td>0.466650</td>\n",
       "      <td>0.485018</td>\n",
       "      <td>269.343183</td>\n",
       "      <td>274.036367</td>\n",
       "    </tr>\n",
       "    <tr>\n",
       "      <th>4</th>\n",
       "      <td>XGBRegressor</td>\n",
       "      <td>0.318137</td>\n",
       "      <td>0.467481</td>\n",
       "      <td>0.485405</td>\n",
       "      <td>267.496634</td>\n",
       "      <td>273.110294</td>\n",
       "    </tr>\n",
       "    <tr>\n",
       "      <th>5</th>\n",
       "      <td>Support Vector Regressor</td>\n",
       "      <td>0.314934</td>\n",
       "      <td>0.484318</td>\n",
       "      <td>0.490510</td>\n",
       "      <td>268.124114</td>\n",
       "      <td>270.473982</td>\n",
       "    </tr>\n",
       "    <tr>\n",
       "      <th>6</th>\n",
       "      <td>KNeighborsRegressor</td>\n",
       "      <td>0.234471</td>\n",
       "      <td>0.493404</td>\n",
       "      <td>0.511001</td>\n",
       "      <td>283.433106</td>\n",
       "      <td>291.869919</td>\n",
       "    </tr>\n",
       "  </tbody>\n",
       "</table>\n",
       "</div>"
      ],
      "text/plain": [
       "                   Regressor  R2 Score  MAPE_train  MAPE_test  RMSE_train  \\\n",
       "0            LinearRegressor  0.315362    0.472767   0.481149  268.040475   \n",
       "1      DecisionTreeRegressor  0.338101    0.460028   0.507543  263.551489   \n",
       "2      RandomForestRegressor  0.323972    0.459714   0.492411  266.349715   \n",
       "3  GradientBoostingRegressor  0.308691    0.466650   0.485018  269.343183   \n",
       "4               XGBRegressor  0.318137    0.467481   0.485405  267.496634   \n",
       "5   Support Vector Regressor  0.314934    0.484318   0.490510  268.124114   \n",
       "6        KNeighborsRegressor  0.234471    0.493404   0.511001  283.433106   \n",
       "\n",
       "    RMSE_test  \n",
       "0  271.312714  \n",
       "1  276.460401  \n",
       "2  276.459422  \n",
       "3  274.036367  \n",
       "4  273.110294  \n",
       "5  270.473982  \n",
       "6  291.869919  "
      ]
     },
     "execution_count": 165,
     "metadata": {},
     "output_type": "execute_result"
    }
   ],
   "source": [
    "model_data.to_excel(output, 'Metrics of Models', index = False)\n",
    "model_data"
   ]
  },
  {
   "cell_type": "markdown",
   "metadata": {},
   "source": [
    "**R2 value**\n",
    "- DecisionTreeRegressor alogrithm is showing the maximum R2 value.\n",
    "\n",
    "**MAPE_train**\n",
    "- RandomForestRegressor is having good result on training dataset\n",
    "\n",
    "**MAPE_test**\n",
    "- LinearRegressor is showing good result of MAPE on testing dataset.\n",
    "\n",
    "**RMSE_train**\n",
    "- DecisionTreeRegressor is showing good result of RMSE on training dataset\n",
    "\n",
    "**RMSPE_train**\n",
    "- Support Vector Regressor is showing good result of RMSE on testing dataset"
   ]
  },
  {
   "cell_type": "code",
   "execution_count": 166,
   "metadata": {
    "scrolled": false
   },
   "outputs": [
    {
     "data": {
      "image/png": "[encoded data removed]",
      "text/plain": [
       "<Figure size 360x360 with 1 Axes>"
      ]
     },
     "metadata": {
      "needs_background": "light"
     },
     "output_type": "display_data"
    },
    {
     "data": {
      "image/png": "[encoded data removed]",
      "text/plain": [
       "<Figure size 432x288 with 1 Axes>"
      ]
     },
     "metadata": {
      "needs_background": "light"
     },
     "output_type": "display_data"
    },
    {
     "data": {
      "image/png": "[encoded data removed]",
      "text/plain": [
       "<Figure size 432x288 with 1 Axes>"
      ]
     },
     "metadata": {
      "needs_background": "light"
     },
     "output_type": "display_data"
    }
   ],
   "source": [
    "#Visualizing different metrics of the models\n",
    "plt.figure(figsize = (5,5))\n",
    "sns.barplot(data = model_data, x = model_data['R2 Score'], y = model_data.Regressor)\n",
    "plt.title('Model R2 Score')\n",
    "\n",
    "model_data.plot(x = 'Regressor', y = ['MAPE_train', 'MAPE_test'], kind = 'barh')\n",
    "model_data.plot(x = 'Regressor', y = ['RMSE_train', 'RMSE_test'], kind = 'barh')\n",
    "plt.show()"
   ]
  },
  {
   "cell_type": "code",
   "execution_count": 170,
   "metadata": {},
   "outputs": [],
   "source": [
    "# Making Final Prediction using all models\n",
    "pre_df = pd.DataFrame()\n",
    "data_new = data[X_cols]\n",
    "pre_df['lr_pred'] = np.exp(model1.predict(data_new))\n",
    "pre_df['dt_pred'] = np.exp(dt.predict(data_new))\n",
    "pre_df['rf_pred'] = np.exp(rf.predict(data_new))\n",
    "pre_df['gb_pred'] = np.exp(gb.predict(data_new))\n",
    "pre_df['xgb_pred'] = np.exp(xgb.predict(data_new))\n",
    "pre_df['svr_pred'] = np.exp(svr.predict(data_new))\n",
    "pre_df['knn_pred'] = np.exp(knn.predict(data_new))\n",
    "pre_df['avg_pred'] = pre_df[['lr_pred','dt_pred','rf_pred','gb_pred','xgb_pred','svr_pred','knn_pred']].apply(np.mean,axis=1)\n",
    "\n",
    "final_data = pd.concat([data_new,data.total_spent,pre_df], axis = 1)\n",
    "\n",
    "# Saving to excel\n",
    "final_data.to_excel(output, 'Predicted Total Spent', index = False)"
   ]
  },
  {
   "cell_type": "code",
   "execution_count": 171,
   "metadata": {},
   "outputs": [],
   "source": [
    "output.save()"
   ]
  },
  {
   "cell_type": "code",
   "execution_count": null,
   "metadata": {},
   "outputs": [],
   "source": []
  }
 ],
 "metadata": {
  "kernelspec": {
   "display_name": "Python 3",
   "language": "python",
   "name": "python3"
  },
  "language_info": {
   "codemirror_mode": {
    "name": "ipython",
    "version": 3
   },
   "file_extension": ".py",
   "mimetype": "text/x-python",
   "name": "python",
   "nbconvert_exporter": "python",
   "pygments_lexer": "ipython3",
   "version": "3.7.6"
  }
 },
 "nbformat": 4,
 "nbformat_minor": 2
}
